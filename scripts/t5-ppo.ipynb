{
 "cells": [
  {
   "cell_type": "code",
   "execution_count": 2,
   "metadata": {},
   "outputs": [
    {
     "name": "stderr",
     "output_type": "stream",
     "text": [
      "/storagenfs/l.miglior/answer-aware-question-generation/.venv/lib/python3.10/site-packages/tqdm/auto.py:21: TqdmWarning: IProgress not found. Please update jupyter and ipywidgets. See https://ipywidgets.readthedocs.io/en/stable/user_install.html\n",
      "  from .autonotebook import tqdm as notebook_tqdm\n"
     ]
    },
    {
     "name": "stdout",
     "output_type": "stream",
     "text": [
      "[2023-12-01 15:27:37,687] [INFO] [real_accelerator.py:158:get_accelerator] Setting ds_accelerator to cuda (auto detect)\n"
     ]
    },
    {
     "name": "stderr",
     "output_type": "stream",
     "text": [
      "/storagenfs/l.miglior/answer-aware-question-generation/.venv/lib/python3.10/site-packages/trl/trainer/ppo_config.py:141: UserWarning: The `optimize_cuda_cache` arguement will be deprecated soon, please use `optimize_device_cache` instead.\n",
      "  warnings.warn(\n"
     ]
    }
   ],
   "source": [
    "import os\n",
    "os.environ[\"CUDA_VISIBLE_DEVICES\"] = \"0,1,2\"\n",
    "\n",
    "import argparse\n",
    "import json\n",
    "import gc\n",
    "import datasets\n",
    "import transformers\n",
    "import torch\n",
    "import evaluate\n",
    "from tqdm import tqdm\n",
    "import json\n",
    "import numpy as np\n",
    "from trl import PPOConfig, PPOTrainer, AutoModelForSeq2SeqLMWithValueHead\n",
    "from peft import LoraConfig, TaskType, get_peft_model, PeftModelForSeq2SeqLM, PeftModel\n",
    "from transformers import AutoTokenizer, AutoModelForSeq2SeqLM\n",
    "\n",
    "\"\"\"\n",
    "Train fine tuned T5 model with Proximal Policy Optimization (PPO) algorithm.\n",
    "\"\"\"\n",
    "parser = argparse.ArgumentParser()\n",
    "#parser.add_argument(\"--model_name\", type=str, default=\"t5-small\")\n",
    "#parser.add_argument(\"--highlight\", type=bool, default=True)\n",
    "#args = parser.parse_args()\n",
    "\n",
    "\n",
    "bertscore = evaluate.load(\"bertscore\")\n",
    "average_question_length = 10.0\n",
    "\n",
    "HIGHLIGHT = True\n",
    "TOKEN_QUESTION = \"<question>\"\n",
    "TOKEN_END_QUESTION = \"<question>\"\n",
    "TOKEN_CONTEXT = \"<context>\"\n",
    "TOKEN_END_CONTEXT = \"<context>\"\n",
    "TOKEN_ANSWER = \"<answer>\"\n",
    "TOKEN_END_ANSWER = \"<answer>\"\n",
    "HIGHLIGHT_ANSWER = \"<hl>\"\n",
    "SPLIT_SEED = 42\n",
    "NPROC = 32\n",
    "\n",
    "model_name = \"t5-small\"\n",
    "HIGHLIGHT = True\n",
    "if HIGHLIGHT:\n",
    "    model_name = f\"{model_name}-hl\""
   ]
  },
  {
   "cell_type": "code",
   "execution_count": 3,
   "metadata": {},
   "outputs": [
    {
     "name": "stderr",
     "output_type": "stream",
     "text": [
      "Detected kernel version 5.4.0, which is below the recommended minimum of 5.5.0; this can cause the process to hang. It is recommended to upgrade the kernel to the minimum version or higher.\n",
      "WARNING:root:A <class 'peft.peft_model.PeftModelForSeq2SeqLM'> model is loaded from './models/t5-small-hl/', and no v_head weight is found. This IS expected if you are not resuming PPO training.\n",
      "WARNING:root:A <class 'peft.peft_model.PeftModelForSeq2SeqLM'> model is loaded from './models/t5-small-hl/', and no v_head weight is found. This IS expected if you are not resuming PPO training.\n",
      "WARNING:accelerate.utils.other:Detected kernel version 5.4.0, which is below the recommended minimum of 5.5.0; this can cause the process to hang. It is recommended to upgrade the kernel to the minimum version or higher.\n",
      "WARNING:root:A <class 'peft.peft_model.PeftModelForSeq2SeqLM'> model is loaded from './models/t5-small-hl/', and no v_head weight is found. This IS expected if you are not resuming PPO training.\n",
      "WARNING:root:A <class 'peft.peft_model.PeftModelForSeq2SeqLM'> model is loaded from './models/t5-small-hl/', and no v_head weight is found. This IS expected if you are not resuming PPO training.\n"
     ]
    }
   ],
   "source": [
    "peft_config = LoraConfig(\n",
    "    r=128,\n",
    "    lora_alpha=64,\n",
    "    lora_dropout=0.1,\n",
    "    target_modules=[\"q\", \"v\"],\n",
    ")\n",
    "\n",
    "\n",
    "#model = AutoModelForSeq2SeqLM.from_pretrained(f\"./models/{model_name}/\", device_map=\"auto\")\n",
    "#peft_model = PeftModelForSeq2SeqLM.from_pretrained(model, model_id=f\"./models/{model_name}/\", config=peft_config, device_map='auto', is_trainable=True)\n",
    "\n",
    "ppo_model = AutoModelForSeq2SeqLMWithValueHead.from_pretrained(f\"./models/{model_name}/\", device_map=\"cuda:0\")\n",
    "ref_model = AutoModelForSeq2SeqLMWithValueHead.from_pretrained(f\"./models/{model_name}/\", device_map=\"cuda:0\")\n",
    "tokenizer = transformers.AutoTokenizer.from_pretrained(f\"./models/{model_name}\", model_max_length=512)\n",
    "torch.cuda.empty_cache()"
   ]
  },
  {
   "cell_type": "code",
   "execution_count": 4,
   "metadata": {},
   "outputs": [
    {
     "name": "stderr",
     "output_type": "stream",
     "text": [
      "Map (num_proc=16): 100%|██████████| 10000/10000 [00:00<00:00, 12804.01 examples/s]\n"
     ]
    }
   ],
   "source": [
    "tokenize_query = lambda e : tokenizer(e[\"query\"], return_tensors='pt', padding=True, truncation=True).input_ids.squeeze().to('cuda:0')\n",
    "\n",
    "def tokenize_query(e):\n",
    "    return tokenizer(e[\"query\"], return_tensors='pt', padding=True, truncation=True).input_ids.squeeze().to('cuda:0')\n",
    "\n",
    "def get_inputs_target(e):\n",
    "    answer_start = e[\"answers\"][\"answer_start\"][0]\n",
    "    # add highlight token to context\n",
    "    ans_len = len(e[\"answers\"][\"text\"][0])\n",
    "\n",
    "    if HIGHLIGHT:\n",
    "        e[\"context\"] = (\n",
    "            e[\"context\"][:answer_start]\n",
    "            + \" \"\n",
    "            + HIGHLIGHT_ANSWER\n",
    "            + \" \"\n",
    "            + e[\"context\"][answer_start : answer_start + ans_len]\n",
    "            + \" \"\n",
    "            + HIGHLIGHT_ANSWER\n",
    "            + \" \"\n",
    "            + e[\"context\"][answer_start + ans_len :]\n",
    "        )\n",
    "\n",
    "    e['query'] = e.pop('context')\n",
    "\n",
    "    return {\n",
    "        # answer + context\n",
    "        \"query\": f'generate question: {TOKEN_ANSWER} {e[\"answers\"][\"text\"][0]} {TOKEN_END_ANSWER} {TOKEN_CONTEXT} {e[\"query\"]} {TOKEN_END_CONTEXT}',\n",
    "        # question\n",
    "        \"target\": f'{TOKEN_QUESTION} {e[\"question\"]} {TOKEN_END_QUESTION}',\n",
    "        \"answer\": e[\"answers\"][\"text\"][0],\n",
    "    }\n",
    "\n",
    "\n",
    "def preprocess_squad_dataset(dataset_name=\"squad\", split=\"train\"):\n",
    "    dataset = datasets.load_dataset(dataset_name, split=split).shuffle(42).select(range(10000))  \n",
    "    # Add question, answer and context tokens to dataset in a new column named text\n",
    "    dataset = dataset.map(\n",
    "        get_inputs_target,\n",
    "        num_proc=16\n",
    "    )\n",
    "    return dataset\n",
    "\n",
    "# Need to have training dataset aligned with PPO input format\n",
    "\n",
    "train_dataset = preprocess_squad_dataset(dataset_name=\"squad\", split=\"train\") "
   ]
  },
  {
   "cell_type": "code",
   "execution_count": 5,
   "metadata": {},
   "outputs": [],
   "source": [
    "def preprocess_prediction(example):\n",
    "    \"\"\"\n",
    "    this function will preprocess the prediction\n",
    "    \"\"\"\n",
    "    return example.replace(\"<pad>\", \"\").replace(\"<unk>\", \"\").replace(\"</s>\", \"\").replace(\"question>\", \"\").replace(\"<question>\", \"\").replace('<', \"\").strip()\n",
    "\n",
    "def reward_model(example):\n",
    "    \"\"\"\n",
    "    this function will return a reward function for PPO\n",
    "    \"\"\"\n",
    "    try:\n",
    "        context = example[\"query\"]\n",
    "        target = example[\"target\"]\n",
    "        answer = example[\"answer\"]\n",
    "        prediction = example[\"prediction\"]\n",
    "        prediction = [preprocess_prediction(pred) for pred in prediction] if isinstance(prediction, list) else preprocess_prediction(prediction)\n",
    "        \n",
    "\n",
    "        if isinstance(target, list):\n",
    "            target = [preprocess_prediction(ans) for ans in answer]\n",
    "        else:\n",
    "            target = preprocess_prediction(target)\n",
    "\n",
    "        \n",
    "        \n",
    "\n",
    "        reward = bertscore.compute(\n",
    "            predictions=[prediction] if isinstance(prediction, str) else prediction,\n",
    "            references=[target] if isinstance(target, str) else target,\n",
    "            lang=\"en\",\n",
    "            model_type=\"bert-base-uncased\",\n",
    "        )[\"f1\"][0]\n",
    "\n",
    "        prediction = prediction[0] if isinstance(prediction, list) else prediction\n",
    "        target = target[0] if isinstance(target, list) else target\n",
    "        \n",
    "\n",
    "        repetition_penalty = -5.0 if answer.lower() in prediction.lower() else 1.0\n",
    "        question_word_penalty = -0.5 if target.split()[0].lower() != prediction.split()[0].lower() else 0.5\n",
    "        question_length_penalty = -0.5 if len(target.split()) > 20 else 0.5\n",
    "\n",
    "        reward = reward + (repetition_penalty + question_word_penalty  + question_length_penalty)\n",
    "        # make it between 0 and 1\n",
    "        reward = torch.nn.Sigmoid()(torch.tensor(reward))\n",
    "        print(f\"> Ans: {answer}, Q: {prediction}, P: {target}, R: {reward}\")\n",
    "        return reward\n",
    "\n",
    "    except Exception as e:\n",
    "        print(\"WARNING\", e)\n",
    "        return torch.tensor(0.0)"
   ]
  },
  {
   "cell_type": "code",
   "execution_count": 6,
   "metadata": {},
   "outputs": [
    {
     "name": "stderr",
     "output_type": "stream",
     "text": [
      "WARNING:accelerate.utils.other:Detected kernel version 5.4.0, which is below the recommended minimum of 5.5.0; this can cause the process to hang. It is recommended to upgrade the kernel to the minimum version or higher.\n"
     ]
    },
    {
     "name": "stderr",
     "output_type": "stream",
     "text": [
      "/storagenfs/l.miglior/answer-aware-question-generation/.venv/lib/python3.10/site-packages/trl/trainer/ppo_trainer.py:254: UserWarning: No dataset is provided. Make sure to set config.batch_size to the correct value before training.\n",
      "  warnings.warn(\n",
      "  0%|          | 0/625 [00:00<?, ?it/s]You're using a T5TokenizerFast tokenizer. Please note that with a fast tokenizer, using the `__call__` method is faster than using a method to encode the text followed by a call to the `pad` method to get a padded encoding.\n",
      "/storagenfs/l.miglior/answer-aware-question-generation/.venv/lib/python3.10/site-packages/transformers/generation/configuration_utils.py:418: UserWarning: `num_beams` is set to 1. However, `early_stopping` is set to `True` -- this flag is only used in beam-based generation modes. You should set `num_beams>1` or unset `early_stopping`.\n",
      "  warnings.warn(\n"
     ]
    },
    {
     "name": "stdout",
     "output_type": "stream",
     "text": [
      "> Ans: 84%, Q: How many Egyptians polled support the death penalty for those who leave Islam?, P: What percentage of Egyptians polled support death penalty for those leaving Islam?, R: 0.8697241544723511\n",
      "> Ans: books, Q: What is the number of books sold per capita in Ann Arbor?, P: Ann Arbor ranks 1st among what goods sold?, R: 0.011874043382704258\n",
      "> Ans: the executive, Q: Who controls the judiciary?, P: In developing countries, who makes most of the spending decisions?, R: 0.8336333632469177\n",
      "> Ans: Anjiro, Q: What was the name of Francis's samurai?, P: Who impressed Xavier by taking notes in church?, R: 0.8101040720939636\n",
      "> Ans: loops, Q: What are elements of the fundamental group represented by?, P: What represents elements of the fundamental group?, R: 0.9454767107963562\n",
      "> Ans: 2.2 billion, Q: How many people are the population of the Commonwealth of Nations?, P: What is the population of the Commonwealth?, R: 0.8545026183128357\n",
      "> Ans: Military Governor of the U.S. Occupation Zone, Q: What was Eisenhower appointed after the German surrender?, P: What was Eisenhower's title after Germany's surrender?, R: 0.9436094760894775\n",
      "> Ans: the brown men, Q: Who were occupied by these regions?, P: These regions were occupied by who?, R: 0.8556351661682129\n",
      "> Ans: resources could be targeted to the communities at greatest risk, Q: What could be used in campaigns aimed at reducing the number of new infections?, P: What could be done by understanding how the disease was transmitted?, R: 0.9311333298683167\n",
      "> Ans: honey ants, Q: What was the name of the Arrernte language groups?, P: What kind of ants are symbolic among the Australian Aborigines?, R: 0.9279088973999023\n",
      "> Ans: The Cossacks, Q: What captured the gunboat with all of its guns?, P: Who blew up the HMS Jasper?, R: 0.8274311423301697\n",
      "> Ans: verdigris, Q: What was the pigment made by soaking copper plates in fermenting wine?, P: What pigment was made by soaking copper plates in fermenting wine?, R: 0.9497920274734497\n",
      "> Ans: 1970s, Q: In what years did the US Law Enforcement Assistance Administration (LEAA) find a reduction of 10% to 13% in Washington,, P: In what decade did the LEAA conduct their investigation of crime and DST?, R: 0.9268323183059692\n",
      "> Ans: Sun Jiadong, Q: Who is the general designer of the COMPASS navigation system?, P: Who designed the COMPASS navigation system?, R: 0.9451889991760254\n",
      "> Ans: House Master, Q: Who is the primary responsibility for a boy's studies?, P: With whom does the primary responsibility for a student's leaning lie?, R: 0.8508590459823608\n",
      "> Ans: nine, Q: How many children can often not comprehend sarcasm at all?, P: Children under what age often cannot comprehend sarcasm?, R: 0.8489320874214172\n"
     ]
    },
    {
     "name": "stderr",
     "output_type": "stream",
     "text": [
      "  0%|          | 1/625 [00:12<2:10:32, 12.55s/it]"
     ]
    },
    {
     "name": "stdout",
     "output_type": "stream",
     "text": [
      "objective/kl: 45.34385299682617\n",
      "ppo/returns/mean: -2.016042470932007\n",
      "ppo/policy/advantages_mean: -0.03571716696023941\n",
      "---------------------------------------------------------------------------------------------------\n",
      "> Ans: echiurans and sipunculan, Q: What are the polychaetes', P: What offshoots of polychaetes are unsegmented?, R: 0.9337579607963562\n",
      "> Ans: Religion, Q: What is the important to the Tibetans?, P: What has a strong influence over all aspect of Tibetans lives?, R: 0.9346240758895874\n",
      "> Ans: paralyzes muscles, Q: What does Clostridium tetani release a toxin?, P: What does the of toxin Clostridium tetani releases do?, R: 0.9425755143165588\n",
      "> Ans: tituli, Q: What diocese of Rome is the term, P: The Church of England uses what term that is held by two senior members of the College of Minor Canons of St. Pauls Catherdral?, R: 0.6144264340400696\n",
      "> Ans: CBS Television City, Q: Who is the title of the finals?, P: Where studio hosts the live final rounds on American Idol?, R: 0.8228824138641357\n",
      "> Ans: 1720 and 1734, Q: Between what years was Sicily ruled by Austria?, P: During what years did Austria rule Palermo?, R: 0.8576290607452393\n",
      "> Ans: 1,032,949, Q: How many people did the United States Census Bureau estimate Montana was?, P: What was the population of the state in 2015?, R: 0.8176374435424805\n",
      "> Ans: the three grades of medieval craft guilds, Q: What do the degrees of freemasonry retain?, P: Where did the degrees of Freemasonry derived from?, R: 0.8618288040161133\n",
      "> Ans: Zhejiang, Q: Where did the famous north of Jiangsu have been used for their prosperity?, P: What neighbours south Jiangsu to the north?, R: 0.8309280872344971\n",
      "> Ans: over 70, Q: How many restaurants are located in St. Barthélemy?, P: How many restaurants does the island have?, R: 0.9332579970359802\n",
      "> Ans: German Football Federation, Q: What is the largest athletic organisation in the German country?, P: What is the largest athletic organisation in the country?, R: 0.9495088458061218\n",
      "> Ans: Japan, Q: In what country did Sony release DualShock 3?, P: What was the first country to be able to buy the new DualShock 3 in stores?, R: 0.8368824124336243\n",
      "> Ans: 150 to 300 mm, Q: What is the mean of the region of Namibia?, P: What is the arid measurement in Namibia?, R: 0.9385943412780762\n",
      "> Ans: 2003, Q: In what year did Martine Rothblatt publish a book about the addition of Israel and the Palestinian territories surrounding it as the 51, P: When was Two Stars for Peace published?, R: 0.8040757775306702\n",
      "> Ans: process theologians are so diverse and transdisciplinary in their views and interests, Q: Why is process theology difficult to define?, P: Why is there difficulty in defining process theology ?, R: 0.9440537095069885\n",
      "> Ans: both popularity and skepticism, Q: What did the concept of structural and aesthetic considerations be met with?, P: What were the reactions to the idea that function should come before other concerns?, R: 0.9316797852516174\n"
     ]
    },
    {
     "name": "stderr",
     "output_type": "stream",
     "text": [
      "  0%|          | 2/625 [00:22<1:52:49, 10.87s/it]"
     ]
    },
    {
     "name": "stdout",
     "output_type": "stream",
     "text": [
      "objective/kl: 48.285545349121094\n",
      "ppo/returns/mean: -2.303199291229248\n",
      "ppo/policy/advantages_mean: -5.0502829253673553e-05\n",
      "---------------------------------------------------------------------------------------------------\n",
      "> Ans: exceeds 2%, Q: What is the prevalence of HIV prevalence among the 15–49 group?, P: How prevalent is HIV among the 15-49 age group in Eritrea?, R: 0.8509702086448669\n",
      "> Ans: 1763, Q: What year did the Treaty of Paris sign?, P: When was the Treaty of Paris?, R: 0.8581595420837402\n",
      "> Ans: Mark Dybul, Q: Who is director of the Global Fund to Fight AIDS?, P: What member of leadership at the Global Fund to Fight AIDS, Tuberculosis and Malaria called TB a \"pandemic\"?, R: 0.8438253402709961\n",
      "> Ans: From at least the late nineteenth century, Q: From what century did Europe speculate that the range of human sexual response looked more like a continuum?, P: When did the questioning of human sexual responses begin?, R: 0.836018979549408\n",
      "> Ans: NASCAR (headquartered in Daytona Beach) begins all three of its major auto racing series in Florida at Daytona International Speedway in February, Q: What February did NASCAR begin all three major auto racing series?, P: What is headquartered in Daytona, R: 0.9104393720626831\n",
      "> Ans: Scuba, Q: What type of divers can explore the reefs of Bermuda?, P: Bermuda's coral reefs, shipwrecks, and shallow waters are great for what activity in particular?, R: 0.8268882632255554\n",
      "> Ans: sustainability, Q: What was the theme of the concept of sustainable architecture?, P: What novel concept was introduced at the end of the 20th century?, R: 0.928911030292511\n",
      "> Ans: Africa, Q: What is the name of the country in which ISPs are there?, P: Somalia was one of the last countries on what continent to get connected tothe internet?, R: 0.8113751411437988\n",
      "> Ans: Nasser, Q: What did Gaddafi's father say he was a \"simple revolutionary\" and \"pious, P: Whose efforts did Gaddafi see himself as continuing?, R: 0.819734513759613\n",
      "> Ans: 40, Q: How many miles miles did Clark Field take?, P: Clark field was how many miles northwest of Manila?, R: 0.8455271124839783\n",
      "> Ans: Richard Owen, Q: Who did Darwin's findings suggest?, P: Which scientist theorized that the earliest members of a class in a species were simple and generalized?, R: 0.8151721954345703\n",
      "> Ans: French, Q: What French language does the ANSES of, P: Which government advocated the banning of Class 2 LEDs?, R: 0.010117604397237301\n",
      "> Ans: gabber, Q: What was a hardcore techno from the Netherlands?, P: what was another name for hardcore techno from the netherlands?, R: 0.9454524517059326\n",
      "> Ans: open circuited, Q: What is an antenna element not connected to?, P: a antenna element not connected to anything is circuited how?, R: 0.853091299533844\n",
      "> Ans: King Henry VIII, Q: Who was a strong defender of Roman Catholicism?, P: Which king failed to receive a divorce from the Pope in 1534?, R: 0.8176893591880798\n",
      "> Ans: 3.1, Q: What did Oklahoma dropout rate fall from in 2007 to 2008?, P: What was Oklahoma's high school dropout rate in 2007?, R: 0.9394591450691223\n"
     ]
    },
    {
     "name": "stderr",
     "output_type": "stream",
     "text": [
      "  0%|          | 3/625 [00:32<1:49:04, 10.52s/it]"
     ]
    },
    {
     "name": "stdout",
     "output_type": "stream",
     "text": [
      "objective/kl: 49.49913024902344\n",
      "ppo/returns/mean: -2.5499267578125\n",
      "ppo/policy/advantages_mean: -0.02233893796801567\n",
      "---------------------------------------------------------------------------------------------------\n",
      "> Ans: Angevin, Q: Under what dynasty did France expand their authority over the nobility?, P: To what dynasty did Henry II belong?, R: 0.8318046927452087\n",
      "> Ans: leaving Field Marshal Hans von Lehwaldt in East Prussia to guard against Russian invasion from the east, Q: How did Frederick leave Field Marshal Kurt von Schwerin in East Prussia to guard against Russian invasion from the east P, P: How did Frederick protect East Prussia when he went to invade Saxony?, R: 0.9329959750175476\n",
      "> Ans: those educated, considered their ethnicity (genos) to be Hellenic, Q: What did the Greek speakers consider Romioi?, P: What did the literate segment of Greeks consider to be a part of their ethic lines ?, R: 0.933443009853363\n",
      "> Ans: 136, Q: How many high-tech enterprises in the zone?, P: How many high-tech enterprises are present in the Mianyang Hi-Tech Industrial Development Zone ?, R: 0.9421523809432983\n",
      "> Ans: MacArthur, Q: What did Eisenhower resign if he was a candidate for the Republican nomination?, P: What general was considered a potential Republican presidential candidate in 1948?, R: 0.9332113862037659\n",
      "> Ans: 13 July 1985, Q: When was Live Aid held at Wembley?, P: What date was Live Aid?, R: 0.8465847969055176\n",
      "> Ans: British attempts to halt this fort construction were unsuccessful, Q: What was the peaceful attempt of British to halt this fort construction?, P: Were the British successful in stopping the building of Fort Duquesne?, R: 0.8335375785827637\n",
      "> Ans: 2010, Q: When did Beyonce announce a hiatus?, P: Beyonce would take a break from music in which year?, R: 0.8384305834770203\n",
      "> Ans: Italian, Q: What country does women tolerate less intense electric shock than Jewish or Native American women?, P: What nationality can tolerate the least amount of electric shock?, R: 0.9339842200279236\n",
      "> Ans: 12.21 million, Q: How many tickets did attendance in 2013–2014 increase?, P: How many people attended Broadway shows during the 2013-2014 season?, R: 0.9359212517738342\n",
      "> Ans: 1948, Q: What was the era of planning in Himachal Pradesh?, P: When did the era of planning start in Himachal Pradesh?, R: 0.8653460741043091\n",
      "> Ans: 1987, Q: How did Phuture's \"Acid Tracks\" come to life?, P: When was Phuture's \"Acid Tracks\" released?, R: 0.8607927560806274\n",
      "> Ans: 80%, Q: How much of the Alaskan economy is derived from petroleum extraction?, P: How much of Alaskan state revenue comes from petroleum extraction?, R: 0.9469966292381287\n",
      "> Ans: the grid street patterns, Q: What is the reason that San Diego's roadway system is now absent in newer developments?, P: Why are older neighborhoods in San Diego popular with cyclists?, R: 0.8333529233932495\n",
      "> Ans: police and public works departments, Q: What did the Eritrean Railway employ Eritreans in public service?, P: In what areas of public service were Eritreans particularly employed?, R: 0.8491047620773315\n",
      "> Ans: fiction or non-fiction, Q: What type of literature can a class of literature be classified according to?, P: What are two major divisions of literature?, R: 0.9314915537834167\n"
     ]
    },
    {
     "name": "stderr",
     "output_type": "stream",
     "text": [
      "  1%|          | 4/625 [00:42<1:49:03, 10.54s/it]"
     ]
    },
    {
     "name": "stdout",
     "output_type": "stream",
     "text": [
      "objective/kl: 50.710777282714844\n",
      "ppo/returns/mean: -2.351426124572754\n",
      "ppo/policy/advantages_mean: -0.013105562888085842\n",
      "---------------------------------------------------------------------------------------------------\n",
      "> Ans: connections between different electrical services, Q: What are issues of, P: What is the other issue that comes to sight when using electrification system?, R: 0.9284484386444092\n",
      "> Ans: May, Q: What is the hottest month in Hyderabad?, P: What is generally the hottest month in Hyderabad?, R: 0.9498719573020935\n",
      "> Ans: in a single record, Q: What would all of this data be placed in a navigational approach?, P: How is information stored in a navigational system?, R: 0.8410745859146118\n",
      "> Ans: Western, Q: What did the Great powers of 1914 do?, P: Which societal values had become world-wide by 1914?, R: 0.8219700455665588\n",
      "> Ans: India, Q: Where is Sanskrit in Greater?, P: Where is Sanskrit usually found?, R: 0.941259503364563\n",
      "> Ans: Sahel, Q: What is the sahara belt of dry tropical savanna?, P: What is to the south of the Sahara?, R: 0.9361419677734375\n",
      "> Ans: power requirements, Q: What does the, P: A component might not be able to be made any smaller because of its mechanical limitations or what other need?, R: 0.7913785576820374\n",
      "> Ans: winter, Q: What is DST commonly not observed during?, P: During what season is DST usually not observed because of the detriments of dark mornings?, R: 0.845142662525177\n",
      "> Ans: White House of the Confederacy, Q: What was the name of the Confederacy's executive mansion?, P: What is another name for the Confederacy's executive mansion?, R: 0.9463193416595459\n",
      "> Ans: Belgrade, Q: Where was Radovan Karadi arrested in 2008?, P: Where was Karadzic when he was finally arrested?, R: 0.9338065981864929\n",
      "> Ans: George V, Q: Who had succeeded Edward VII in 1910?, P: Which king placed more emphasis on official entertaining and royal duties instead of lavish parties?, R: 0.8116909265518188\n",
      "> Ans: obscurity and mystery, Q: What are the origins of the szlachta shrouded in?, P: Were the szlachta obscure and mysterious or obvious and proud., R: 0.8377415537834167\n",
      "> Ans: pride and shame, Q: What were the most important emotions that drive people to take various social actions?, P: What emotions did Cooley regard as of paramount social importance?, R: 0.9283978343009949\n",
      "> Ans: Magic Mouse, Q: What did Apple introduce in 2009?, P: What Apple mouse 1st used multi-touch gesture recognition?, R: 0.9263022541999817\n",
      "> Ans: Archaeologist, Q: Who criticised the idea that early humans were hunters?, P: What is Louis Binford's profession?, R: 0.805131196975708\n",
      "> Ans: the absolute Galois group, Q: What is the name of Galois group?, P: What group uses infinite field extensions with topology?, R: 0.9297038316726685\n"
     ]
    },
    {
     "name": "stderr",
     "output_type": "stream",
     "text": [
      "  1%|          | 5/625 [00:53<1:47:55, 10.44s/it]"
     ]
    },
    {
     "name": "stdout",
     "output_type": "stream",
     "text": [
      "objective/kl: 46.12009811401367\n",
      "ppo/returns/mean: -2.59531831741333\n",
      "ppo/policy/advantages_mean: -0.013819878920912743\n",
      "---------------------------------------------------------------------------------------------------\n",
      "> Ans: convert attempts, Q: What does the clock do not run during?, P: Which plays do not cause time to run off the clock during the final minutes of a half?, R: 0.830646276473999\n",
      "> Ans: Sassanian architecture, Q: What was the point arch used in?, P: What other type of architecture also made use of the pointed arch?, R: 0.9307811260223389\n",
      "> Ans: ring-porous, Q: What does the vessels of the wood appear on a finished surface appear on a surface?, P: What type of woods might sometimes appear to have darker earlywood on a finished surface?, R: 0.9331985116004944\n",
      "> Ans: absolute terms, Q: What terms should the number of individuals targeted be evaluated?, P: The number of people targeted in a genocide should not be solely evaluated by what?, R: 0.8431704044342041\n",
      "> Ans: have broken the law, Q: What did Masons swear to protect their brethren?, P: Masons swear to protect their brethren unless they what?, R: 0.854985773563385\n",
      "> Ans: \"misstatements\" in his first divorce trial, Q: What did Kerry announce in 1978?, P: Why was Brooke being investigated?, R: 0.8161810636520386\n",
      "> Ans: an altar, Q: What did the family members do to worship the gods?, P: What religious element could be found in all Roman households?, R: 0.9283849596977234\n",
      "> Ans: Indian Carnatic, Q: What instrument has been used to cater to the special needs of, P: Many adaptations of the instruments were done to cater to what type of music?, R: 0.8374950885772705\n",
      "> Ans: Native Americans, Q: What did many of Bermuda's black population trace some of their ancestors to?, P: What is one group that Bermuda's black population can link some of their ancestry to?, R: 0.9423121809959412\n",
      "> Ans: plant toxins, Q: What did insects develop mechanisms to deal with?, P: Insects formed mechanisms to shield against what?, R: 0.8452110290527344\n",
      "> Ans: the Unteraar Glacier, Q: At what glacier did Agassiz study the glacier movement in the 1840s?, P: Where did Agassiz study during the 1840s?, R: 0.8550806641578674\n",
      "> Ans: Xbox Video Marketplace, Q: What was Microsoft's first Xbox 360 launch?, P: What was the name of the 360's video store service?, R: 0.9322825074195862\n",
      "> Ans: Tampa, Q: What was the name of the proposed government backed high-speed rail system?, P: Along with Orlando, what city would have been connected to Miami via Florida High Speed Rail?, R: 0.8263998627662659\n",
      "> Ans: deficient in actuality and change, Q: What does Whitehead see God as permanent?, P: In what way did Whitehead view God as deficient?, R: 0.8515708446502686\n",
      "> Ans: seven, Q: How many fundamental physical quantities is spacetime in both the International System of Units and International System of Quantities?, P: Time is one of how many fundamental physical quantities?, R: 0.833354651927948\n",
      "> Ans: placing the aspiration modifier letter before the consonant symbol, Q: What represents the preaspiration bilabial stop?, P: A preaspirated consonant is marked how?, R: 0.8328467011451721\n"
     ]
    },
    {
     "name": "stderr",
     "output_type": "stream",
     "text": [
      "  1%|          | 6/625 [01:03<1:47:32, 10.42s/it]"
     ]
    },
    {
     "name": "stdout",
     "output_type": "stream",
     "text": [
      "objective/kl: 49.962738037109375\n",
      "ppo/returns/mean: -2.508425712585449\n",
      "ppo/policy/advantages_mean: -0.00360055360943079\n",
      "---------------------------------------------------------------------------------------------------\n",
      "> Ans: more than 60, Q: How many Asian-American organizations did the coalition of?, P: How many Asian organizations were involved in filing the federal complaints?, R: 0.9362801909446716\n",
      "> Ans: Vladimir the Great, Q: What did the Rus' name in the book of the Rus'?, P: Which ruler introduced Christianity in Kievan Rus?, R: 0.8240792751312256\n",
      "> Ans: Murad I, Q: Who was the sultanate of Ottoman Empire?, P: Conquests by who began the transformation of the Ottoman sultanate into an Empire?, R: 0.8370700478553772\n",
      "> Ans: 53%, Q: How many adolescents have had a romantic relationship?, P: How many percent of adolescents have had a romantic relationship lasting one month or longer by age 15?, R: 0.9405272603034973\n",
      "> Ans: the Alps, Q: What are the most popular tourist destinations in the world?, P: What's one of the most popular tourist destinations in the world?, R: 0.8692573308944702\n",
      "> Ans: Jewish, Q: What is the eschatological imagery of the Lord?, P: What ethnicity are these literary works mostly?, R: 0.9267504811286926\n",
      "> Ans: Universal College of Learning, Q: What is the name of the tertiary institution?, P: What does UCOL stand for?, R: 0.9289000034332275\n",
      "> Ans: East Coast Greenway, Q: What is the name of the trail that is part of the 3,000-mile route?, P: Segments of the Farmington Canal is also part of which bicycle trail?, R: 0.8201944231987\n",
      "> Ans: ascenders, Q: What are letters with, P: In Time New Roman the letter \"b\" would be consider which type of letter based on whether it is above or below average height?, R: 0.5965436100959778\n",
      "> Ans: Premier League title, Q: What was the title of the premier league?, P: What competition sparked the rivalry with Manchester?, R: 0.9299340844154358\n",
      "> Ans: northern Soviet Union near Murmansk, Q: Where did the Soviets provide a submarine base?, P: Where was the sub base located?, R: 0.9375132322311401\n",
      "> Ans: three, Q: How many military departments is the Department of the Army?, P: How many military departments does the Department of Defense have?, R: 0.9437717795372009\n",
      "> Ans: two, Q: How many presidents are in the United States?, P: How many United States presidents are interred in Hollywood Cemetery?, R: 0.9402433037757874\n",
      "> Ans: the Thames, Q: Modern London stands on what?, P: What is the main geographical landmark in London?, R: 0.8266942501068115\n",
      "> Ans: the palace, Q: What was the cathedral church, the parish church, the castle, the castle?, P: What is another category of building that was established during the Romanesque period?, R: 0.9217849373817444\n",
      "> Ans: Representatives, Q: What did the forum have started in support of Morales' legal process of change?, P: Who started a forum in support of Morales' legal process of change?, R: 0.8630624413490295\n"
     ]
    },
    {
     "name": "stderr",
     "output_type": "stream",
     "text": [
      "  1%|          | 7/625 [01:13<1:45:35, 10.25s/it]"
     ]
    },
    {
     "name": "stdout",
     "output_type": "stream",
     "text": [
      "objective/kl: 44.89136505126953\n",
      "ppo/returns/mean: -2.359884738922119\n",
      "ppo/policy/advantages_mean: -0.004864310845732689\n",
      "---------------------------------------------------------------------------------------------------\n",
      "> Ans: Hong Kong, Q: Where was LaserDisc in 1990?, P: In what city was LaserDisk used as a popular rental medium in the 1990s?, R: 0.8421430587768555\n",
      "> Ans: 2001, Q: Inducted into the Rock and Roll Hall of Fame in 2001, the band is the only group in which the band has composed more, P: When was Queen inducted into the Hall of Fame?, R: 0.011103290133178234\n",
      "> Ans: 1920, Q: What year was the Tribhuvan Museum dedicated to king Mahendra?, P: What was the birth year of King Mahendra?, R: 0.9376464486122131\n",
      "> Ans: 2014, Q: When did Hodgson et al. study the Afro-Asiatic languages? question, P: When did Hodgson publish his DNA study?, R: 0.9314708113670349\n",
      "> Ans: MDNA, Q: What was the album Madonna's second album in 2012?, P: What was the name of Madonna's twelfth album?, R: 0.9407025575637817\n",
      "> Ans: Madonna, Q: What did Robert M. Grant say Madonna's approach was far from the music industry wisdom of \"Find a winning, P: Who has established herself as a Queen of Popular Music?, R: 0.010051866061985493\n",
      "> Ans: the region between the Harz mountains in the north, the Weiße Elster river in the east, the Franconian Forest in the south and the Werra river in the west., Q: What was the term Thuringia?, P: Where is Thuringia located?, R: 0.849681556224823\n",
      "> Ans: Treaty of Rome, Q: What was the name of the Treaty of Rome?, P: What did France sign instead of joining the Commonwealth?, R: 0.030840536579489708\n",
      "> Ans: the Habsburgs, Q: Where did the Holy Roman Empire pass?, P: In 1438, control of the Holy Roman Empire passed to what dynasty?, R: 0.8325058817863464\n",
      "> Ans: names were replaced by new Russian names, Q: What were replaced by all German places?, P: What else happened in the northern part of East Prussia in the now Russian area?, R: 0.9263150095939636\n",
      "> Ans: Gage Cengage, Q: What publisher is the publisher of the digitized paper?, P: The complete historical file of the digitized paper of The Times is online and published by what publisher?, R: 0.8407689929008484\n",
      "> Ans: 35, Q: How many years of his life did Alexander Graham Bell live?, P: Over how many years did Bell spend a great deal of time at Beinn Bhreagh?, R: 0.8261845111846924\n",
      "> Ans: Ladoga and Karelia regions, Q: What regions did the Finnic Chud tribes live in?, P: Where was the Finnic Chud Tripe located curing this time period?, R: 0.8451666831970215\n",
      "> Ans: 20–25%, Q: In humans, the percentage of the brain increases to, P: The energy used for metabolism of the brain in humans is what percentage?, R: 0.8399904370307922\n",
      "> Ans: Coleman Young, Q: What was the mayor of Detroit in 1973?, P: Who was the first black mayor of Detroit?, R: 0.8516184687614441\n",
      "> Ans: theory of evolution, Q: What did Darwin's theory of evolution do?, P: What theory did Darwin introduce?, R: 0.036709945648908615\n"
     ]
    },
    {
     "name": "stderr",
     "output_type": "stream",
     "text": [
      "  1%|▏         | 8/625 [01:23<1:43:37, 10.08s/it]"
     ]
    },
    {
     "name": "stdout",
     "output_type": "stream",
     "text": [
      "objective/kl: 45.19919967651367\n",
      "ppo/returns/mean: -2.3741812705993652\n",
      "ppo/policy/advantages_mean: -0.026690345257520676\n",
      "---------------------------------------------------------------------------------------------------\n",
      "> Ans: using American-supplied equipment during the Turkish invasion of Cyprus in 1974, Q: What was a military embargo on Turkey in 1974?, P: Why did the US impose an arms embargo on Turkey?, R: 0.8507280945777893\n",
      "> Ans: Gasparinus de Bergamo, Q: What was the name of the first book in France, Epistolae?, P: Who wrote Epistolae?, R: 0.8419656157493591\n",
      "> Ans: fined 200 guilders (a year's wage for a skilled tradesman) and banned from the city, Q: In 17th-century Leiden, how could people opening their homes to services be?, P: What was the punishment for people who opened their homes to Catholic services during 17th-century Leiden?, R: 0.8519103527069092\n",
      "> Ans: complexity, Q: What does classical music achieve?, P: Since it is written down, classical music can attain a high level of what?, R: 0.8342567086219788\n",
      "> Ans: $11 million, Q: How much did the moribund Universal sell to MCA in 1958?, P: How much did MCA pay for Universal's 360-acre lot?, R: 0.9353707432746887\n",
      "> Ans: Video data, Q: What can be represented as a series of still image frames?, P: What may be represented as a series of still image frames?, R: 0.9508458375930786\n",
      "> Ans: Čech, Q: What was the name of the tribe of Slavs?, P: Who was the hero who led the Slavs to their new home, according to legend?, R: 0.8354456424713135\n",
      "> Ans: beef cattle, Q: What is the state's agriculture area roughly 59 percent of?, P: Which livestock is the major focus of Tennessee agriculture?, R: 0.8338252305984497\n",
      "> Ans: paternal grandmother, Q: What did Madonna turn to her?, P: Who did Madonna turn to for comfort during her mother's illness?, R: 0.8245443105697632\n",
      "> Ans: House of Hanover, Q: What is the name of the British monarchs?, P: What was the name of the house of the monarchs in power from 1714 and 1830?, R: 0.9376576542854309\n",
      "> Ans: South East Asia Collective Defence Treaty, Q: What did the Menzies Government sign in 1954?, P: What does the acronym SEATO stand for?, R: 0.9261408448219299\n",
      "> Ans: April 24, 1967, Q: On what date was the first spaceflight fatality?, P: When did Vladimir Komarov die on impact from his spacecraft crash?, R: 0.8205147385597229\n",
      "> Ans: their actions are also frequently scripted for dramatic effect, Q: What is the role of referees in wrestling?, P: What determines how the referee acts?, R: 0.9312438368797302\n",
      "> Ans: Mildred Burke, Q: Who won the original World Women's title?, P: Who won the women's title in 1937?, R: 0.9436749815940857\n",
      "> Ans: Avar invaders, Q: What were the Slavs and Germanic Gepids who intermarried?, P: In the Western Balkans, South Slavs and Germanic Gepids intermarried with who?, R: 0.8496589660644531\n",
      "> Ans: Los Angeles, Q: Where was the concert hall used to depict the New Haven Arena?, P: The movie The Doors however did not film at New Haven, instead where did they film the reenactment?, R: 0.8264352679252625\n"
     ]
    },
    {
     "name": "stderr",
     "output_type": "stream",
     "text": [
      "  1%|▏         | 9/625 [01:32<1:40:27,  9.79s/it]"
     ]
    },
    {
     "name": "stdout",
     "output_type": "stream",
     "text": [
      "objective/kl: 46.113616943359375\n",
      "ppo/returns/mean: -2.273925304412842\n",
      "ppo/policy/advantages_mean: 0.012690378352999687\n",
      "---------------------------------------------------------------------------------------------------\n",
      "> Ans: Gigantopterids, Q: What is a group of extinct seed plants that share many morphological traits with flowering plants? question, P: What group of now extinct seed plants had many of the traits of what are now flowering plants?, R: 0.9394246339797974\n",
      "> Ans: the treatment of the windows and wall surfaces, Q: In the interior of the building, the verticals are usually repeated in what?, P: Where are the verticals found repeated in the interior of Gothic buildings?, R: 0.844828188419342\n",
      "> Ans: forces in the field, Q: What forces in the field can deploy their own air defence capability?, P: Who will deploy their own air defence if their is an air threat?, R: 0.013707729056477547\n",
      "> Ans: subject–verb–object, Q: What pattern does a basic sentence follow?, P: Being topic prominant, what basic sentence pattern is often not used?, R: 0.8338099122047424\n",
      "> Ans: Tangshan earthquake, Q: What was the devastating 1976 earthquake?, P: What catastrophe inspired them to make a building design code/, R: 0.9223251342773438\n",
      "> Ans: Gascony, Q: What did John acquire a key land route between Poitou and?, P: John acquired key land between Poitou and where?, R: 0.8552666902542114\n",
      "> Ans: Andre Aboolian, Q: What did hl>?, P: What doctor originally turned Donda West down for her plastic surgery operation?, R: 0.9159305691719055\n",
      "> Ans: France, Q: Where did Apple remove iPods from shelves in?, P: What country originally pulled iPods due to higher-than-allowed volume levels?, R: 0.8270737528800964\n",
      "> Ans: Persia, Q: Iran, then known to the west as, P: What was Iran known as to the west?, R: 0.838543176651001\n",
      "> Ans: the Norman Conquest, Q: What did the Norman Conquest date to, P: What event led to English temporarily losing its importance as a literary language?, R: 0.027967877686023712\n",
      "> Ans: plight of their Church., Q: How did Ukrainian hunger strikers call attention to?, P: What were the hunger strikers hoping to draw attention to?, R: 0.8509011268615723\n",
      "> Ans: x. Men did not show any sexual arousal to non-human visual stimuli,, Q: What did men and women do not show any sexual arousal to non-human visual stimuli? question, P: Did men have any arousal from non human videos containing sex?, R: 0.8437270522117615\n",
      "> Ans: the peasant class, Q: The local parish priests were often drawn from, P: From what class were many parish priests?, R: 0.8248248100280762\n",
      "> Ans: rule of law, Q: What did Aristotle advocate?, P: Under what rule did Aristotle believe a nation should be led?, R: 0.8374224305152893\n",
      "> Ans: suffering (dukkha) and the cycle of incessant rebirths (saṃsāra), Q: What are the two reasons that the Buddha recommended a meditation on the nature of the self and all phenomena? ques>, P: Upon awakening to the true nature of the self, what is one is liberated from?, R: 0.8255327343940735\n",
      "> Ans: composer James Reese Europe., Q: What did he do with a mandolin orchestra?, P: Who was the famous African American musican and director?, R: 0.8187789916992188\n"
     ]
    },
    {
     "name": "stderr",
     "output_type": "stream",
     "text": [
      "  2%|▏         | 10/625 [01:39<1:32:44,  9.05s/it]"
     ]
    },
    {
     "name": "stdout",
     "output_type": "stream",
     "text": [
      "objective/kl: 45.88789749145508\n",
      "ppo/returns/mean: -2.6724367141723633\n",
      "ppo/policy/advantages_mean: -0.007313806563615799\n",
      "---------------------------------------------------------------------------------------------------\n",
      "> Ans: explicitly prohibited false therapeutic claims, Q: What did the Federal Food, Drug, and Cosmetic Act of 1938 prohibit false therapeutic claims?, P: What was one of the things the Federal Food, Drug and Cosmetic Act do?, R: 0.936554491519928\n",
      "> Ans: None of the summits reaches the region of perpetual snow., Q: What does the Appalachian belt mean?, P: What is the climate like on the summits?, R: 0.9308024048805237\n",
      "> Ans: Melbourne Shuffle, Q: What does the name of the contemporary dance in Melbourne?, P: What is one example of Australian contemporary dance?, R: 0.9353888034820557\n",
      "> Ans: fourth, Q: What is the world's smallest film studio?, P: Among major film studies, where does Universal Studios rank in terms of age?, R: 0.8194790482521057\n",
      "> Ans: 92%, Q: How many Estonian countries did Estonia represent in 1992?, P: What percentage of Estonia's foreign trade was held by Russia in 1992?, R: 0.8405945301055908\n",
      "> Ans: 150,000, Q: How many people confirmed in Queen's audience?, P: How many people helped Queen set a 1976 attendance record?, R: 0.9335741400718689\n",
      "> Ans: The east end is polygonal, Q: What is the east end of the French cathedral?, P: What shape does the east end of French chapels typically have?, R: 0.9377307295799255\n",
      "> Ans: 300 AD, Q: When did the Roman Empire split into the Western Roman Empire based in Rome?, P: By what year was the Roman Empire split into two sections?, R: 0.8431243300437927\n",
      "> Ans: Americas, Q: What did Tito do?, P: Two government ministers resigned over Tito's visit to what region?, R: 0.8119064569473267\n",
      "> Ans: Equator, Q: What is the country located on?, P: On what major line of latitude is the Congo located?, R: 0.8402909636497498\n",
      "> Ans: United Nations, Q: What nations did the Korean War be?, P: What organization did all combatants on both sides of the war belong to?, R: 0.9317977428436279\n",
      "> Ans: areas that are closer to the equator have a greater amount of solar radiation, Q: context> What does the hl> area that are closer to the equator have a greater amount of solar radiation, P: Why does geography have an effect of the amount of solar energy available?, R: 0.8256346583366394\n",
      "> Ans: U.S. bombing of Libya and United Nations-imposed economic sanctions., Q: What did Gaddafi do in 1986?, P: How did the world respond to Libya in 1986?, R: 0.849066436290741\n",
      "> Ans: the Telangana uprising, Q: What was the lords of the Telangana region?, P: Which uprising occurred from 1946 to 1951?, R: 0.8117388486862183\n",
      "> Ans: idealist, Q: What is a philosophy that assigns crucial importance to the ideal or spiritual realm in its account of human existence? ques, P: What is the term used for philosophies that consider the spiritual to be of paramount importance?, R: 0.9314892888069153\n",
      "> Ans: a few days up to multiple decades, Q: How long can a feud last?, P: How long might a feud last?, R: 0.9488088488578796\n"
     ]
    },
    {
     "name": "stderr",
     "output_type": "stream",
     "text": [
      "  2%|▏         | 11/625 [01:47<1:28:53,  8.69s/it]"
     ]
    },
    {
     "name": "stdout",
     "output_type": "stream",
     "text": [
      "objective/kl: 37.59285354614258\n",
      "ppo/returns/mean: -1.76035475730896\n",
      "ppo/policy/advantages_mean: -0.04554015025496483\n",
      "---------------------------------------------------------------------------------------------------\n",
      "> Ans: Carnivals, Q: What does some Belgian cities hold during Lent?, P: What do some Belgian cities hold during Lent?, R: 0.9518266320228577\n",
      "> Ans: plasmids, Q: What type of DNA does Prokaryotes encode?, P: Small circles of DNA that encode only a few genes and are transferable between individuals are called what?, R: 0.818358838558197\n",
      "> Ans: March 1, 1969, Q: What was a press release written on?, P: When was a press release put out about Kerry earning the Silver Star?, R: 0.838189423084259\n",
      "> Ans: 1971, Q: What year did Meinhard die in a car accident?, P: What year did Schwarzenegger's brother die?, R: 0.9352932572364807\n",
      "> Ans: before the turn of the 20th century, Q: What did the railway tracks as the Benguela railway in Angola started to be built?, P: When were railroad tracks being installed Portugese Africa?, R: 0.8360965847969055\n",
      "> Ans: American scientists, Q: What did Eisenhower support?, P: With whom did Eisenhower try to improve relations?, R: 0.8375216722488403\n",
      "> Ans: Alfred Lord Tennyson, Q: Who wrote the famous poem of the Light Brigade in the poem of??, P: Who wrote the famous poem about the Light Brigade?, R: 0.943653404712677\n",
      "> Ans: 1977, Q: When did Madonna move to New York City?, P: In which year did Madonna move to New York City?, R: 0.8681054711341858\n",
      "> Ans: legume, Q: What is the name of the Fabaceae?, P: What is the more common name of the Fabaceae?, R: 0.9473122358322144\n",
      "> Ans: 2012, Q: What year did KIPP Reach College Preparatory School receive the National Blue Ribbon?, P: What year did KIPP Reach College Preparatory School win the National Blue Ribbon Award?, R: 0.9506960511207581\n",
      "> Ans: Patrick and Gilbert, Q: What were the two names of the, P: Who noticed that sleepiness increases and decreases in a 24 hour period?, R: 0.7886877655982971\n",
      "> Ans: Iron Age, Q: What era was the northern Europe?, P: In what age did the sound patterns that distinguish Germanic languages develop?, R: 0.8278080821037292\n",
      "> Ans: chemical compounds, Q: Respiratory organisms use, P: What do respiratory organisms use as electron donors?, R: 0.8319475054740906\n",
      "> Ans: modernization and industrialization, Q: What is the challenges of a Chinese culture?, P: What challenges are China using Whitehead's ideas to help manage?, R: 0.9315479397773743\n",
      "> Ans: Cleveland, Q: Where is the Church of God of Prophecy located?, P: Which Tennessee city contains the headquarters of the Church of God and The Church of God of Prophecy?, R: 0.8479024767875671\n",
      "> Ans: the 18th century, Q: In what century did Freemasonry spread to France?, P: When did Freemasonry spread to most of the Continental Europe?, R: 0.8560753464698792\n"
     ]
    },
    {
     "name": "stderr",
     "output_type": "stream",
     "text": [
      "  2%|▏         | 12/625 [01:54<1:23:55,  8.22s/it]"
     ]
    },
    {
     "name": "stdout",
     "output_type": "stream",
     "text": [
      "objective/kl: 46.17695617675781\n",
      "ppo/returns/mean: -2.4369006156921387\n",
      "ppo/policy/advantages_mean: -0.005503034219145775\n",
      "---------------------------------------------------------------------------------------------------\n",
      "> Ans: the monarchy, Q: What was the name of Caesar's monarchy?, P: What did some members of the conspiracy believe Caesar would bring back?, R: 0.930492639541626\n",
      "> Ans: King Edward's heavy redecorations, Q: What did the palace feel like King Edward VII's heavy redecorations?, P: What was at odds with Nash's original work in the palace?, R: 0.9279318451881409\n",
      "> Ans: represent the nearest approximation in every respect of the author's final intentions, Q: What did the eds of Greg's work, P: What did Bower's say about Greg's method?, R: 0.9310576915740967\n",
      "> Ans: Farnsworth image dissector, Q: What was the Baird system used for live programming?, P: What kind of camera was used to broadcast live shows under the Baird system?, R: 0.9409307241439819\n",
      "> Ans: quiet instruments, Q: What were the pre-mandolin instruments?, P: Were premandolins quiet or loud instruments?, R: 0.829520046710968\n",
      "> Ans: Mariah Carey and Nicki Minaj, Q: What two judges did Randy Jackson decide to leave after one season?, P: Who were the other judges to leave after this season?, R: 0.8425963521003723\n",
      "> Ans: Fort Polk, Louisiana, Q: What area is the largest unit level training in the country?, P: Where is the Joint Readiness Training Center located?, R: 0.8329089879989624\n",
      "> Ans: auspex, Q: What word is \"auspicious\"?, P: The word auspicious is derived from which word?, R: 0.8425531983375549\n",
      "> Ans: Exeter, Q: What is the headquarters of South Western Ambulance Service NHS Foundation Trust in Plymouth?, P: Where is South Western Ambulance Service NHS Foundation Trust headquartered?, R: 0.8607897758483887\n",
      "> Ans: Frankie Knuckles, Q: What was the name of the DJ who played the term house music?, P: who was the resident DJ at The Warehouse in Chicago?, R: 0.8348347544670105\n",
      "> Ans: On the Road, Q: What is the iconic book of the artist colony?, P: Jack Kerouac authored what iconic book?, R: 0.8179802298545837\n",
      "> Ans: in order to host The 10th National Game of People's Republic of China, Q: What did the stadium in 2005 do?, P: Why was the Nanjing Olympic Sports Center built?, R: 0.8257340788841248\n",
      "> Ans: khalifat Allah, Q: What did the Umayyad caliphs name themselves as?, P: What Arabic term did the Umayyad caliphs use to refer to themselves?, R: 0.9436572194099426\n",
      "> Ans: faith or dogma, Q: What was not the principle of prayer, ritual, and sacrifice?, P: What characteristics were not inherent in Roman religious practice?, R: 0.9333051443099976\n",
      "> Ans: New York, Q: Where does Marvel's stories often appear in the American Southwest?, P: Spiderman's fictional city is based off what real American location?, R: 0.8206388354301453\n",
      "> Ans: temples, Q: What are the ruins of the most visible monuments of ancient Roman culture?, P: What monuments were the some of most visible of Roman culture?, R: 0.94101482629776\n"
     ]
    },
    {
     "name": "stderr",
     "output_type": "stream",
     "text": [
      "  2%|▏         | 13/625 [02:03<1:24:13,  8.26s/it]"
     ]
    },
    {
     "name": "stdout",
     "output_type": "stream",
     "text": [
      "objective/kl: 42.985836029052734\n",
      "ppo/returns/mean: -2.1224071979522705\n",
      "ppo/policy/advantages_mean: 0.0011252202093601227\n",
      "---------------------------------------------------------------------------------------------------\n",
      "> Ans: 1949, Q: When did the People's Republic of China begin?, P: When was the People's Republic of China founded?, R: 0.9489282965660095\n",
      "> Ans: 1917, Q: When did the Commonwealth Liberal Party merged with several Labor dissidents?, P: In what year was the Nationalist Party of Australia formed?, R: 0.8352047204971313\n",
      "> Ans: her second son Alfred (\"Affie\") died, Q: How did the Queen die in July?, P: What tragedy did Victoria face in July of 1900?, R: 0.8404062986373901\n",
      "> Ans: Liberians and the Lebanese, Q: What are the differences between ethnic and Lebanese?, P: There is high percentage of interracial marriage between what two groups?, R: 0.8178682327270508\n",
      "> Ans: fight against the town's racism, Q: What does Atticus need to do without help from other white citizens?, P: What is Atticus shooting the rabid dog symbolic of?, R: 0.9297055006027222\n",
      "> Ans: 7 July, Q: When did the Wehrmacht cross the Estonian southern border?, P: When did the Werhmacht cross the south border of Estonia?, R: 0.9399100542068481\n",
      "> Ans: Isaac Newton, Q: Who was buried in the north transept?, P: Who was buried in the abbey on 4 April 1727?, R: 0.9357474446296692\n",
      "> Ans: travel, Q: What can DST clock shifts disrupt?, P: What can be affected by DST that might disrupt plans for a vacation?, R: 0.9344021081924438\n",
      "> Ans: 1927, Q: How did the German regulation be reinstated?, P: When did the suspension of German teaching in  schools happen?, R: 0.8435958027839661\n",
      "> Ans: the Dutch Golden Age, Q: What period did the Dutch Republic dominate world trade?, P: The Dutch Republic dominated world trade during what time?, R: 0.8628073334693909\n",
      "> Ans: Egypt, Q: What did Idris shut oil terminals in solidarity with?, P: On what country's behalf were the 1967 protests taking place?, R: 0.8141948580741882\n",
      "> Ans: meteorological conditions over Britain, Q: What did >, P: What was preventing escalation of air operations?, R: 0.9161595702171326\n",
      "> Ans: The works of Homer (i.e. Iliad and Odyssey) and Hesiod (i.e. Theogony), Q: The works of Homer and theogony were written in the 8th century BC?, P: What was the foundation for spirituality and church ?, R: 0.8007844686508179\n",
      "> Ans: a major role, Q: Symbiosis played, P: How big a part did symbiosis have in the development of flowering plants and their pollinators?, R: 0.8163415193557739\n",
      "> Ans: Indian and Arab merchants, Q: Who was the first spice trade in Southeast Asia?, P: Who developed the spice trade initially?, R: 0.9382514953613281\n",
      "> Ans: Gregory Peck, Q: Who was the original director of the 1962 film?, P: Which actor received An Oscar for his role of Atticus Finch in the 1962 movie of the book?, R: 0.8309503793716431\n"
     ]
    },
    {
     "name": "stderr",
     "output_type": "stream",
     "text": [
      "  2%|▏         | 14/625 [02:10<1:20:21,  7.89s/it]"
     ]
    },
    {
     "name": "stdout",
     "output_type": "stream",
     "text": [
      "objective/kl: 43.773521423339844\n",
      "ppo/returns/mean: -2.388742446899414\n",
      "ppo/policy/advantages_mean: 0.016567349433898926\n",
      "---------------------------------------------------------------------------------------------------\n",
      "> Ans: Keïta regime, Q: What was overthrown in a bloodless military coup led by Moussa Traoré?, P: What regime was overthrown in 1968?, R: 0.9327109456062317\n",
      "> Ans: qualitative, Q: What does the method of cultural sociological research do?, P: What is most of the research into sociological culture ?, R: 0.9367489218711853\n",
      "> Ans: Deitsch, Q: What is Pennsylvania Dutch?, P: What's the native Pennsylvania Dutch word for the language?, R: 0.8459311127662659\n",
      "> Ans: Professor Skousen, Q: Who took over as editor and head of the FARMS Critical Text of the Book of Mormon Project?, P: Who took over after the preliminary phase?, R: 0.9292077422142029\n",
      "> Ans: receiver, Q: What type of receiver did Bell work on?, P: Bell needed to fix both the transmitter and what?, R: 0.011133556254208088\n",
      "> Ans: 300,000, Q: How many, P: How many troops did the Chinese enter into the Korean War?, R: 0.9239663481712341\n",
      "> Ans: digraph, Q: What does Dutch use to write Dutch using the Latin script?, P: What's the name for the additional character Dutch uses?, R: 0.8313013315200806\n",
      "> Ans: Kurt Weill, Q: Who has influenced classical music?, P: Who wrote The Threepenny Opera?, R: 0.9281988143920898\n",
      "> Ans: Albert Grey, Q: Who donated the Grey Cup to the Governor General of Canada?  What was the name of the Grey Cup?, P: Who donated a championship trophy for Canadian football teams in 1909?, R: 0.930736780166626\n",
      "> Ans: the early 1970s, Q: When did the Carpenters play softer songs?, P: During what period were artists like Anne Murray and Barbra Streisand featured on Top 40 radio?, R: 0.8209470510482788\n",
      "> Ans: 1994, Q: In what year did the Karabakh cease-fire end?, P: When did the Karabakh War end?, R: 0.8606351017951965\n",
      "> Ans: Alexander I, Q: What was the name of Tsar who was visiting Warsaw?, P: Which tsar did Frédéric perform for due to his success in previous concerts?, R: 0.8224914073944092\n",
      "> Ans: 1899, Q: When did Sidney Myer come to Australia?, P: When did Sydney Myer come to Australia?, R: 0.9495077729225159\n",
      "> Ans: Gymnastics is a sport involving the performance of exercises requiring strength, flexibility, balance and control, Q: Gymnastics is a sport involving the performance of exercises requiring strength, flexibility, balance and control, P: What is gymnastics?, R: 0.010284461081027985\n",
      "> Ans: eleven, Q: How many states and the District of Columbia have abolished capital punishment?, P: How many US states have passed laws outlawing the death penalty?, R: 0.9383785724639893\n",
      "> Ans: light, Q: What did exposure exposure to bitumen hardened the bitumen?, P: Exposure to what natural element was necessary for early photographic plates?, R: 0.825186550617218\n"
     ]
    },
    {
     "name": "stderr",
     "output_type": "stream",
     "text": [
      "  2%|▏         | 15/625 [02:17<1:19:21,  7.81s/it]"
     ]
    },
    {
     "name": "stdout",
     "output_type": "stream",
     "text": [
      "objective/kl: 45.25752639770508\n",
      "ppo/returns/mean: -2.400679588317871\n",
      "ppo/policy/advantages_mean: -0.011275867000222206\n",
      "---------------------------------------------------------------------------------------------------\n",
      "> Ans: a century, Q: How did David Hume write?, P: How long before Peirce did Hume write?, R: 0.9405149221420288\n",
      "> Ans: Adabas, Oracle and DB2, Q: What are some general-purpose DBMSs that are undergoing upgrades since the 1970s?, P: Name three DBMSs that have been used since the 1970s., R: 0.844393789768219\n",
      "> Ans: half an hour, Q: What was the average weight of Schwarzenegger working out for a year?, P: In 2011, how much time each day did Schwarzenegger say he lifted weights?, R: 0.8268279433250427\n",
      "> Ans: Nizam VII, Q: What was the name of the hliam VII?, P: Which Nizam defeated by the Indian Army?, R: 0.8097097873687744\n",
      "> Ans: the Constabulary, Q: What was the name of the Constabulary?, P: What was the Constable's force called, in English?, R: 0.03404450789093971\n",
      "> Ans: In 1970, non-Hispanic whites were nearly 80% of Florida's population, Q: What was the percentage of whites in Florida in 1970?, P: What percentage of florida was white Non Hispanic in 1970, R: 0.9375491142272949\n",
      "> Ans: Woodrow Wilson, Q: Who did Arthur Hadley of Yale and A. Lawrence Lowell work to develop changes to reduce injuries?, P: Who represented Princeton during the rule changing discussions?, R: 0.9248186349868774\n",
      "> Ans: primates, Q: What species of primates are the survivors of?, P: What may modern humans be the only survivor of several species of?, R: 0.033755235373973846\n",
      "> Ans: successes against Catiline, Q: What did Pompey's Senate elated by?, P: What provided the Roman senate with exuberance?, R: 0.9307055473327637\n",
      "> Ans: social services, emergency relief, and the operation of mission hospitals, Q: context> African Presbyterian churches incorporate diaconal ministries?, P: Which  services to most African Presbyterian churches offer?, R: 0.8362231254577637\n",
      "> Ans: Yellow Emperor, Q: In China, what is the humanistic primogenitor?, P: Who was known as being a founder of humanism thought in China?, R: 0.8235712647438049\n",
      "> Ans: 2nd, Q: What century did the emperors have been reluctance?, P: Egyptianized Greeks in the Ptolemaic kingdom started to exist by which century?, R: 0.8133989572525024\n",
      "> Ans: 2002 Winter Olympic Games, Q: What was the Opening Ceremonies of Spielberg held at Rice-Eccles Stadium?, P: In which Olympics was Spielberg a flagbearer?, R: 0.817377507686615\n",
      "> Ans: The MP, Q: What output streams does the MP receive from each endpoint?, P: What generates output streams from each endpoint?, R: 0.03974887728691101\n",
      "> Ans: a warehouse, Q: What was the torch resurfaced in the San Francisco airport?, P: Where did the first relay runner disappear to with the torch??, R: 0.8228093385696411\n",
      "> Ans: Decameron, Q: What did Boccaccio promote with his, P: What is one of Boccaccio's works that helped promote the Italian language?, R: 0.9347787499427795\n"
     ]
    },
    {
     "name": "stderr",
     "output_type": "stream",
     "text": [
      "  3%|▎         | 16/625 [02:25<1:17:46,  7.66s/it]"
     ]
    },
    {
     "name": "stdout",
     "output_type": "stream",
     "text": [
      "objective/kl: 47.933841705322266\n",
      "ppo/returns/mean: -2.7767176628112793\n",
      "ppo/policy/advantages_mean: -0.017772844061255455\n",
      "---------------------------------------------------------------------------------------------------\n",
      "> Ans: Yellow, Q: What was the electric electric chair?, P: What color was Alabama's electric chair?, R: 0.9382452964782715\n",
      "> Ans: historical or mythological themes, Q: What are the earliest forms of Greek drama?, P: A tragedy typically involved what subject matter?, R: 0.812821090221405\n",
      "> Ans: Pesticides are substances meant for attracting, seducing, and then destroying any pest, Q: What is the term pesticide?, P: What is the purpose of a pesticide?, R: 0.9418738484382629\n",
      "> Ans: the 1720s, Q: In what period did French Freemasonry spread to France?, P: When did English Freemasonry arrive in France?, R: 0.8615116477012634\n",
      "> Ans: TV Parental Guidelines, Q: What is the content of TCM's films rated on?, P: What rating system is often used by TCM?, R: 0.9328557252883911\n",
      "> Ans: racial, Q: What is caste systems?, P: What type of caste system is mass incarceration compared to?, R: 0.9356586933135986\n",
      "> Ans: falling into the shaft, Q: What protects riders from a lift from a rider?, P: What do elevator doors protect riders from?, R: 0.9349569082260132\n",
      "> Ans: 1200 BC, Q: When did the Mycenaeans collapse violently?, P: The Mycenaean civilization deteriorated in what time period?, R: 0.8488979935646057\n",
      "> Ans: a lack of backward compatibility, Q: What can be found in the case of software failure?, P: What often lacks in software developed when its released that can eventually lead to errors?, R: 0.9308313131332397\n",
      "> Ans: 12 June 1968, Q: What happened to the resolution 2372 (XXII) of, P: What date did Namibia get it's official name?, R: 0.9147937297821045\n",
      "> Ans: tobacco, Q: What tobacco did the Confederate troops burn?, P: What was contained in warehouses that were notably burned by Confederates when evacuating Richmond?, R: 0.03179709613323212\n",
      "> Ans: Ethiopia, Q: In what Ethiopia are a few Somalis?, P: What country has the second largest Somali population?, R: 0.012220957316458225\n",
      "> Ans: Ottoman Empire, Q: What did the Safavid Era rival?, P: What Empire neighbored and had a rivalry with Safavid Iran?, R: 0.9352912902832031\n",
      "> Ans: Amazonian Guard, Q: What did Kolotnytska's daughter say the relationship was anything but professional?, P: What was the name of Gaddafi's female bodyguard?, R: 0.92341548204422\n",
      "> Ans: in the prostomium, Q: What is the brain of polychaetes?, P: Where are polychaetes' brains?, R: 0.8594723343849182\n",
      "> Ans: English, Q: What is German the dominant language of science related Nobel Prize laureates?, P: What is the dominant language of science?, R: 0.9391123652458191\n"
     ]
    },
    {
     "name": "stderr",
     "output_type": "stream",
     "text": [
      "  3%|▎         | 17/625 [02:32<1:18:09,  7.71s/it]"
     ]
    },
    {
     "name": "stdout",
     "output_type": "stream",
     "text": [
      "objective/kl: 44.073875427246094\n",
      "ppo/returns/mean: -2.3906631469726562\n",
      "ppo/policy/advantages_mean: 0.013294518925249577\n",
      "---------------------------------------------------------------------------------------------------\n",
      "> Ans: Law of Tuvalu, Q: What is the Supreme Court of Tuvalu?, P: What is the High Court's right to determine?, R: 0.9320095777511597\n",
      "> Ans: Northern Russians, Q: What does the report say that Y Haplogroup N is a common name in Pomors? question, P: Pomors are also known as what?, R: 0.8148460388183594\n",
      "> Ans: isolate the rebel barons in London, Q: John's strategy was to hl>, P: What was John's strategy?, R: 0.8332576155662537\n",
      "> Ans: 50, Q: How many acres of storage are available at the site?, P: Approximately how many acres of outside storage does the Port of New Haven offer?, R: 0.845833957195282\n",
      "> Ans: Vigo, Q: What was the most famous assault on Galicia?, P: Where did Sir Francis Drake attack in 1585 and again in 1589?, R: 0.8155720829963684\n",
      "> Ans: the 20th century, Q: In what century did the first towns in Thuringia have a town status?, P: What was the latest a town was established in Thuringia?, R: 0.84466153383255\n",
      "> Ans: puberty, Q: What happens when children go through adolescence?, P: During what stage of development is there increased parent-child conflict and a less cohesive familial bond?, R: 0.8158097863197327\n",
      "> Ans: Twenty-two, Q: How many of the executions occurred in 1976?, P: Since 1976, how many Americans have been executed for crimes committed as juveniles?, R: 0.8338585495948792\n",
      "> Ans: people of color, Q: What is the name of the poor?, P: Who primarily makes up America's poor group?, R: 0.8258634209632874\n",
      "> Ans: Jiangnan Examination Hall, Q: What was the official imperial examination centre?, P: What was the name of the examination centre?, R: 0.9422250390052795\n",
      "> Ans: large loan defaults or MBS losses, Q: What did banks not have a financial cushion sufficient to absorb?, P: What impacted the ability of financial institutions to lend in the financial crisis of 2007?, R: 0.9263052344322205\n",
      "> Ans: C, C++, Visual Basic .NET, C#, along with HTML5 and JavaScript, Q: What are the Windows Store apps running within a new set of APIs known as Windows Runtime?, P: What programming languages does Windows Runtime work with?, R: 0.9326733946800232\n",
      "> Ans: If the metals remain soluble when solid, Q: What do the metals remain soluble when, P: What causes an alloy to form a solid solution?, R: 0.928939938545227\n",
      "> Ans: Villa, Q: What was the name of the militia that was notified by Huerta?, P: Who notified Huerta the revolt had been put down?, R: 0.8346738219261169\n",
      "> Ans: ten, Q: How many days did Diem visit the United States in 1957?, P: How many days did the President of South Vietnam visit the US for in 1957?, R: 0.9410580992698669\n",
      "> Ans: Saturday, 2 February, Q: When was Victoria's funeral held?, P: When was Queen Victoria's funeral held?, R: 0.948363721370697\n"
     ]
    },
    {
     "name": "stderr",
     "output_type": "stream",
     "text": [
      "  3%|▎         | 18/625 [02:40<1:17:33,  7.67s/it]"
     ]
    },
    {
     "name": "stdout",
     "output_type": "stream",
     "text": [
      "objective/kl: 43.64839553833008\n",
      "ppo/returns/mean: -2.269979476928711\n",
      "ppo/policy/advantages_mean: 0.0012756786309182644\n",
      "---------------------------------------------------------------------------------------------------\n",
      "> Ans: Gordon Gund, Q: Who did the Blindness lobbie in 1985 and 2005 for US DST extensions?, P: What chair of the Retinitis Pigmentosa Foundation Fighting Blindness lobbied for an extension to daylight savings in the U.S.?, R: 0.8174535036087036\n",
      "> Ans: provide teachers, Q: What did Prince Rastislav request the Emperor to, P: What had Prince Rastislav requested?, R: 0.9422250390052795\n",
      "> Ans: raising the \"aerial\" wire, Q: What did Marconi find out he had a long wire?, P: What is a way to increase the strength of a radio transmission?, R: 0.9233606457710266\n",
      "> Ans: Early Middle Ages and the High Middle Ages, Q: What  What, P: Along with the Late Middle Ages, what are the other two period of the Middle Ages?, R: 0.7935548424720764\n",
      "> Ans: multiple ISPs interconnect at peering points or Internet exchange points, Q: What does a single ISP interconnect at peering points or Internet exchange points?, P: What is peering?, R: 0.9236823916435242\n",
      "> Ans: specialisation, Q: What is the goal of a government policy promoting?, P: What concept does the government currently support for education?, R: 0.932826578617096\n",
      "> Ans: Burma, Q: Where did Churchill divert the divisions from?, P: Where did Churchill want the Australian divisions bound for Singapore to be diverted to?, R: 0.9406741261482239\n",
      "> Ans: the 3rd millennium BC, Q: What century did Mosaic start in Mesopotamia?, P: What millennium did Mosaic start?, R: 0.9461946487426758\n",
      "> Ans: Queen Victoria, Q: What was the first monarch to reside there?, P: Who was the first monarch to reside there?, R: 0.8737131953239441\n",
      "> Ans: houses and villages, Q: What did Neolithic peoples build?, P: What did Neolithic people use mud-brick to build?, R: 0.9427778124809265\n",
      "> Ans: Globe Union, Q: What did the Centralab Division of?, P: What company developed the first electronic circuit that could be mass produced and was durable enough to be fired from a gun?, R: 0.805709183216095\n",
      "> Ans: the Holy Spirit, Q: What is the baptism of the Pentecostals?, P: Pentecostals believe in baptism with what entity?, R: 0.8460387587547302\n",
      "> Ans: 1937, Q: In what year did the Empire of Japan invade China?, P: When did Japan invade all of China?, R: 0.8530985713005066\n",
      "> Ans: Between 64 and 104, Q: What were aftershocks recorded between 4.0 and 6.1?, P: How many aftershocks were there within 72 hours?, R: 0.834062933921814\n",
      "> Ans: four, Q: How many major HDTV systems did SMPTE test?, P: How many major HDTV systems were tested by SMPTE in the late 70's?, R: 0.9411229491233826\n",
      "> Ans: Dell, Q: What did the Macintosh take the top spot in 2013?, P: Who did Macintosh displace from 1st place on the 2013 holiday season \"list of intended brands for desktop purchases\"?, R: 0.8313181400299072\n"
     ]
    },
    {
     "name": "stderr",
     "output_type": "stream",
     "text": [
      "  3%|▎         | 19/625 [02:47<1:16:49,  7.61s/it]"
     ]
    },
    {
     "name": "stdout",
     "output_type": "stream",
     "text": [
      "objective/kl: 49.40911865234375\n",
      "ppo/returns/mean: -2.7184956073760986\n",
      "ppo/policy/advantages_mean: -0.00646184291690588\n",
      "---------------------------------------------------------------------------------------------------\n",
      "> Ans: Siddhatta Gotama, Q: What did you know the Buddha did exist?, P: What do some say is Buddha's real name?, R: 0.9280003309249878\n",
      "> Ans: kickback, Q: What is an official's share of misappropriated funds allocated from his or her organization to an organization involved in corrupt bidding, P: What is the public official's share called when involved in corrupt bidding?, R: 0.9325548410415649\n",
      "> Ans: a kind of perception that can be conscious or unconscious, applying to people as well as electrons, Q: What is the term \"prehension\" meant to indicate?, P: What is prehension used to define?, R: 0.9412853717803955\n",
      "> Ans: financial services, Q: What are other important industries?, P: Mutual funds and insurance are what type of industry?, R: 0.8272709846496582\n",
      "> Ans: Delaware Bay, Q: What Bay of Fundy is one of the most important stopover locations in the migration?, P: What is another stopover location?, R: 0.9324222803115845\n",
      "> Ans: 1994, Q: In what year did the club play two songs?, P: What year did the Everton players walk out to a song other than \"Johnny Todd\"?, R: 0.8357722759246826\n",
      "> Ans: this may be of immunological origin, caused by a maternal immune reaction against a substance crucial to male fetal development during pregnancy,, Q: What is the evidence that a maternal immune reaction is a cause of a prenatal origin?, P: What does research show about the FBO effect?, R: 0.9286091923713684\n",
      "> Ans: International Budget Partnership, Q: What does Global Integrity and the hl>, P: A second set of corruption metrics has been compiled by Global Integrity and what other organization?, R: 0.8170839548110962\n",
      "> Ans: its narrow gauge tracks railways, Q: What is the name of the railway that is famous for?, P: What is Railway Himachal famous for?, R: 0.9364810585975647\n",
      "> Ans: traditional, Q: What did the princeps must respect?, P: As first citizen, what must the emperor's mores represent?, R: 0.8332504630088806\n",
      "> Ans: Save Me, Q: Queen's final track, \" What was the name of the song Queen played in Montreal?, P: What was the final track on Queen's The Game?, R: 0.8277481198310852\n",
      "> Ans: Xbox 360 Arcade, Q: What was replaced by the \"Xbox 360 Core\" in October 2007?, P: What did Microsoft name the SKU that replaced the 360 Core?, R: 0.9313613772392273\n",
      "> Ans: Cenozoic, Q: What did the first mammals survive in the Mesozoic?, P: When mamals appeared they remained small until what period?, R: 0.8076611161231995\n",
      "> Ans: jizya, Q: What was a per capita tax imposed on free adult non-Muslim males?, P: What is the per capita tax imposed on free adult non-Muslim males known as?, R: 0.9477019906044006\n",
      "> Ans: near-field scanning optical microscopy (NSOM), Q: What is fluorescence, P: A Quantum Dot LED has been used in what?, R: 0.8085604310035706\n",
      "> Ans: southwest, Q: Where did the Central Public Works Department (CPWD) develop a large area of land?, P: In which direction did Chanakyapuri extend from New Delhi?, R: 0.8098505139350891\n"
     ]
    },
    {
     "name": "stderr",
     "output_type": "stream",
     "text": [
      "  3%|▎         | 20/625 [02:55<1:16:45,  7.61s/it]"
     ]
    },
    {
     "name": "stdout",
     "output_type": "stream",
     "text": [
      "objective/kl: 43.545562744140625\n",
      "ppo/returns/mean: -2.2506613731384277\n",
      "ppo/policy/advantages_mean: -0.03077569231390953\n",
      "---------------------------------------------------------------------------------------------------\n",
      "> Ans: Tomás de Torquemada, Q: Who led the Spanish Inquisition?, P: Who led the Spanish Inquisition?, R: 0.9525741338729858\n",
      "> Ans: He Yingqin, Q: What did the 4th Front Army carry?, P: Who was the Chinese commander-in-chief of the 10th and 27th Army Groups?, R: 0.8297029733657837\n",
      "> Ans: studied classical music, Q: What have, P: What have classical trained performers done extensively?, R: 0.9214174151420593\n",
      "> Ans: Ark Royal, Q: What did the, P: What aircraft carrier received maintenance at Devonport Dockyard?, R: 0.914445698261261\n",
      "> Ans: Stout and porter, Q: What are dark beers made using roasted malts or roast barley?, P: What do you call a dark beer that is brewed with roasted malts or barley?, R: 0.9407511949539185\n",
      "> Ans: 32 million, Q: How many albums did West sell?, P: How many CDs has Kanye West sold?, R: 0.9423123598098755\n",
      "> Ans: 1 by 1⁄2 mile (1.61 by 0.80 km), Q: What is the Hoddle Grid?, P: What are the dimensions of the Hoddle Grid?, R: 0.9458261728286743\n",
      "> Ans: the principal clergy of Rome and the bishops of the seven suburbicarian sees., Q: What did the right of electing the pope be reserved to in 1059?, P: In 1059, who was responsible for electing the pope?, R: 0.8479083776473999\n",
      "> Ans: felony-level criminal cases and civil suits above the minimum jurisdictional limit of $7000, Q: What is the case of the Philadelphia County Court of Common Pleas?, P: What type of cases are heard here?, R: 0.9249602556228638\n",
      "> Ans: policies common across the island of Ireland, Q: What does the Northern Ireland Executive and the Government of Ireland reunite as the North/South Ministerial Council to develop, P: The 1998 Good Friday Agreement resulted in what arrangement?, R: 0.8015375137329102\n",
      "> Ans: Surely You're Joking, Mr. Feynman, Q: What is the name of the bar?, P: Which book does Feynman detail was to pick up girls?, R: 0.8095525503158569\n",
      "> Ans: The Governor General, Q: Who was the council of Hastings?, P: The highest ranking persons title in British india is?, R: 0.8050691485404968\n",
      "> Ans: 1996, Q: In what year did Unicode 2.0 implement a re-introduced surrogate character mechanism? ques, P: When was a surrogate character mechanism implemented in Unicode 2.0?, R: 0.8558838367462158\n",
      "> Ans: to determine the relative amount heterosexual and homosexual experience and response in a person's history when using the scale, Q: How did Masters and Johnson find it difficult to determine the relative amount heterosexual and homosexual experience and response?, P: In a study by Masters and Johnson what did the find difficult about KIneys ratings?, R: 0.827415406703949\n",
      "> Ans: stupas, Q: What Buddhist consists of the temples of Swayambhu and Boudhanath? question, P: What Buddhist monuments are present at Boudhanath?, R: 0.9357152581214905\n",
      "> Ans: stressful work environments and implacable work that drove them away, Q: What did many who have been questioned after leaving an NPO have reported that it was?, P: How do employees that are no longer with NPOs feel about the time that they worked there?, R: 0.8267588019371033\n"
     ]
    },
    {
     "name": "stderr",
     "output_type": "stream",
     "text": [
      "  3%|▎         | 21/625 [03:03<1:17:34,  7.71s/it]"
     ]
    },
    {
     "name": "stdout",
     "output_type": "stream",
     "text": [
      "objective/kl: 43.01519775390625\n",
      "ppo/returns/mean: -2.3164620399475098\n",
      "ppo/policy/advantages_mean: -0.016844402998685837\n",
      "---------------------------------------------------------------------------------------------------\n",
      "> Ans: al-Farabi's commentary, Q: What did he read about the work of Aristotle?, P: What helped Avicenna understand the Metaphysics of Aristotle?, R: 0.9352065324783325\n",
      "> Ans: capitalism, Q: What did the Third International Theory reject?, P: What economic philosophy was associated with the West?, R: 0.933594286441803\n",
      "> Ans: Liberal Democrats, Q: What did the SDP and Liberals form?, P: What was the merger of SDP and the Liberals called?, R: 0.9423277378082275\n",
      "> Ans: occupied part of their capital, Berlin, for one night, Q: What was the city where, P: What city did Hadik occupy?, R: 0.9297762513160706\n",
      "> Ans: Britain, Q: What did the Suez Crisis exposed to?, P: A British minister thought which country was becoming an 'American satellite'?, R: 0.8148893117904663\n",
      "> Ans: positive transfer., Q: What is known as?, P: What is a term used to describe being able to learn something quicker due to an older ability?, R: 0.9235741496086121\n",
      "> Ans: 2005, Q: What year did the Human Development Report for 2007/2008 originate?, P: The HDI in the 2007/2008 Human Development Report is for what year?, R: 0.851648211479187\n",
      "> Ans: Protestant Bible societies, Q: What groups did Paul VI support?, P: Who was Paul VI in favor of cooperating with in the translation of the bible?, R: 0.8315472602844238\n",
      "> Ans: The orientation behaviour, Q: What is the orientation behaviour of the bird inside the cage?, P: What is studied quantitatively inside the cage?, R: 0.03600762039422989\n",
      "> Ans: bridges, Q: What did Paris' strategic importance be with preventing ships from passing?, P: What helped establish a successful defense in the Siege of Paris?, R: 0.9253662824630737\n",
      "> Ans: 177,000, Q: How much did the Underground shelter count for in 1940?, P: What was the largest number to use Underground shelters in September  27, 1940?, R: 0.8362215161323547\n",
      "> Ans: Treaty of Frankfurt, Q: What was the term of the hl> Treaty of Frankfurt?, P: What was the Treaty in 1871 called?, R: 0.03415685519576073\n",
      "> Ans: the Pope, Q: Who was required to maintain a charity school?, P: Who required the Benedictine monks to maintain a charity school?, R: 0.944474995136261\n",
      "> Ans: late 2nd millennium BC, Q: When did the Vedas date back?, P: When do the Vedas date back to?, R: 0.9480341076850891\n",
      "> Ans: about a third, Q: What is the area of the region's surface area?, P: The desert zone accounts for how much of the state's surface area?, R: 0.8479617238044739\n",
      "> Ans: 1714, Q: When did Anne die Anne?, P: In what year did Queen Anne die?, R: 0.8461348414421082\n"
     ]
    },
    {
     "name": "stderr",
     "output_type": "stream",
     "text": [
      "  4%|▎         | 22/625 [03:10<1:15:57,  7.56s/it]"
     ]
    },
    {
     "name": "stdout",
     "output_type": "stream",
     "text": [
      "objective/kl: 45.17784881591797\n",
      "ppo/returns/mean: -2.681993007659912\n",
      "ppo/policy/advantages_mean: -0.052433740347623825\n",
      "---------------------------------------------------------------------------------------------------\n",
      "> Ans: 26 square kilometres, Q: How many kilometers does Tuvalu have?, P: What is the total land area of Tuvalu?, R: 0.8449804782867432\n",
      "> Ans: enormous influence, Q: What did each szlachcic have?, P: How much influence did each szlachcic have over politics?, R: 0.8603295683860779\n",
      "> Ans: Robert Boyle, Q: Who discovered and described the reaction between iron filings and dilute acids?, P: Who discovered Hydrogen gas?, R: 0.9339531064033508\n",
      "> Ans: 1,500, Q: How many were reported missing?, P: How many soldiers from Napoleon's army were reported missing?, R: 0.9417231678962708\n",
      "> Ans: a specific cutoff date, Q: What is a specific cutoff date for reception?, P: Some reception statutes impose what?, R: 0.011168358847498894\n",
      "> Ans: medium-sized aquatic birds with broad bills, eyes on the side of the head, fairly long necks, short legs set far back on the body, and webbed feet., Q: What are ducks?, P: How can you identify a duck from other poultry?, R: 0.8278568387031555\n",
      "> Ans: castle, Q: What is the name of the castle?, P: What is distinguished from 'lock' only by an accent, in Russian?, R: 0.02852262742817402\n",
      "> Ans: Teodoro Vilardebó Matuliche, Q: Who is the name of the psychiatric hospital in Montevideo?, P: Who is Hospital Vilardebo named after?, R: 0.9309888482093811\n",
      "> Ans: tea, Q: How does Kathmandu have a larger proportion of drinkers?, P: What beverage is consumed by more people in Kathmandu, coffee or tea?, R: 0.8288644552230835\n",
      "> Ans: on the southern slopes above the Kofarnihon valley, Q: What is Dushanbe located?, P: Where is Dushanbe located?, R: 0.87270188331604\n",
      "> Ans: Linux, Q: What did IBM start supporting in 1998?, P: IBM began supporting this in 1998., R: 0.8414721488952637\n",
      "> Ans: the US Congress, Q: Who did the Bush Administration deny funding to UNFPA?, P: Who allocates UNFPA funding in the U.S.?, R: 0.9333731532096863\n",
      "> Ans: 1820, Q: In what year did Victoria die?, P: When did the Duke of Kent die?, R: 0.8355124592781067\n",
      "> Ans: continues to divide, Q: How does a single fertilized egg cell grow?, P: How are the different cells formed?, R: 0.9322067499160767\n",
      "> Ans: 56.1, Q: How many murders did Richmond have in 1990?, P: How many people per 100,000 were murdered in Richmond in 1990?, R: 0.9369311928749084\n",
      "> Ans: Janet Rapelye, Q: Who was the Princeton Dean of Admissions?, P: Who was the Dean of Admissions at Princeton University at the time of the complaint?, R: 0.9397299289703369\n"
     ]
    },
    {
     "name": "stderr",
     "output_type": "stream",
     "text": [
      "  4%|▎         | 23/625 [03:18<1:17:33,  7.73s/it]"
     ]
    },
    {
     "name": "stdout",
     "output_type": "stream",
     "text": [
      "objective/kl: 43.985755920410156\n",
      "ppo/returns/mean: -2.577760696411133\n",
      "ppo/policy/advantages_mean: -0.009899545460939407\n",
      "---------------------------------------------------------------------------------------------------\n",
      "> Ans: Materialism, Q: What is closely related to physicalism?, P: Some people consider physicalism to be synonymous with what?, R: 0.8358490467071533\n",
      "> Ans: touchscreen, Q: What is the iPod Touch?, P: The iPod Touch uses what kind of interface?, R: 0.8461365699768066\n",
      "> Ans: adaptive, restorative and regulatory, Q: What were Augustus' reforms represented?, P: How were Augustus's reforms viewed?, R: 0.8637587428092957\n",
      "> Ans: calques, Q: What is the name of Indonesian words?, P: What term describes the literally translated Indonesian versions of Dutch terms that have become standard?, R: 0.933756947517395\n",
      "> Ans: weekly evenings and monthly weekends, Q: context> What do members train on?, P: How often do the TA troops regularly train?, R: 0.827893853187561\n",
      "> Ans: halva, Q: What is Xalwo?, P: What is another term for xalwo?, R: 0.9427081942558289\n",
      "> Ans: uniformity, Q: What does the Catalan language feature?, P: What do the dialects of Catalan feature?, R: 0.944996178150177\n",
      "> Ans: keeping animals, Q: What does horticulture and/or, P: Besides  agriculture, how do gatherers add to their food supply?, R: 0.8107169270515442\n",
      "> Ans: 95%, Q: How much of the life of the Triassic went extinct?, P: What percentage of extinction of species had recently happened??, R: 0.8262526988983154\n",
      "> Ans: FireWire, Q: What was the connection to the host computer used to update songs?, P: What was the first type of connection used by the iPod to charge and transfer files?, R: 0.9360793828964233\n",
      "> Ans: immediately after publication, Q: After publication, what did the first book published in the Estonian language never reach the reader?, P: At what point in its existence was the Lutheran manuscript destroyed?, R: 0.8209189772605896\n",
      "> Ans: 0.50%, Q: How many people in the Bronx were spoken at home?, P: How much of the Bronx speaks Chinese at home?, R: 0.9395027756690979\n",
      "> Ans: the number of parking spaces, Q: How many parking spaces did Braslia's airport double in 2014?, P: Besides boarding bridges, what also doubled in 2014 at Brasilia's airport?, R: 0.8335248231887817\n",
      "> Ans: up to 525 lbs, Q: What pounds are elevators?, P: How much weight is permitted on a low capacity elevator?, R: 0.8343523144721985\n",
      "> Ans: Mount Ararat, Q: What is the highest peak of the Armenian Highland?, P: What mountain does Armenia surround?, R: 0.9354046583175659\n",
      "> Ans: Schindler's List, Q: What was the name of the Holocaust?, P: In what film did Spielberg address humanistic issues?, R: 0.818854808807373\n"
     ]
    },
    {
     "name": "stderr",
     "output_type": "stream",
     "text": [
      "  4%|▍         | 24/625 [03:27<1:21:32,  8.14s/it]"
     ]
    },
    {
     "name": "stdout",
     "output_type": "stream",
     "text": [
      "objective/kl: 43.43010711669922\n",
      "ppo/returns/mean: -2.496980667114258\n",
      "ppo/policy/advantages_mean: 0.021900741383433342\n",
      "---------------------------------------------------------------------------------------------------\n",
      "> Ans: $2.1 billion, Q: What did the cost of the bridge in the Detroit–Windsor bridge?, P: How much is the Gordie Howe International Bridge expected to cost?, R: 0.8295533061027527\n",
      "> Ans: three field armies, Q: How many armies did the Chinese Spring Offensive have?, P: How many armies did the Chinese use in the Fifth Phase Offensive?, R: 0.9437017440795898\n",
      "> Ans: the American Revolution, Q: What was the major event of Boston Massacre?, P: Boston became one of the wealthiest international ports after what war?, R: 0.8180480003356934\n",
      "> Ans: imprisoned or martyred, Q: What did some Christians resisted and were resisted?, P: In areas of strict enforcement, what happened to Christians?, R: 0.8218377232551575\n",
      "> Ans: oil, Q: What did the southwestern China price drop over speculation that China might fall?, P: What natural resource dropped in value?, R: 0.9277977347373962\n",
      "> Ans: July 22, 1946, Q: When did Irgun attacked the British administrative headquarters for Palestine?, P: When did Irgun attack the British administrative headquarters?, R: 0.948104202747345\n",
      "> Ans: Buddhism, Q: What did Indo-Greek kingdom find kings converts to?, P: Menander converted to what religion?, R: 0.8239884376525879\n",
      "> Ans: Twelve, Q: How many roads lead out of Connaught Place?, P: How many roads lead out of the outer ring of Connaught Place?, R: 0.9486724734306335\n",
      "> Ans: agricultural, Q: What is the key ingredient in Greece?, P: What is Greece a significant producer of within the EU?, R: 0.9345477223396301\n",
      "> Ans: 19 Entertainment, Q: Who did the onerous contract contestants have to sign that gave excessive control over their future career?, P: What company are contestants required to sign a contract with on American Idol?, R: 0.8296000361442566\n",
      "> Ans: wipe out the entire drilling season, Q: context> What did Larry McKinney say was a two-month delay in the Arctic?, P: Larry McKinney explained that a two-month delay in drilling could do what?, R: 0.8452979922294617\n",
      "> Ans: FBI, Q: What is the Federal Bureau of Investigation?, P: What agency is the domestic intelligence and security service for the US?, R: 0.9324949383735657\n",
      "> Ans: Robert Koch, Q: Who identified the tuberculosis disease in 1882?, P: Who discovered M. tuberculosis?, R: 0.938730776309967\n",
      "> Ans: Plympton, Q: What is the station outskirts of Plymouth?, P: What settlement is Langage Power Station located near?, R: 0.9302740097045898\n",
      "> Ans: NW, Q: What does the Miami street address have in their address?, P: If a street is west of Miami Avenue and north of Flagler Street, what will necessarily be in its address?, R: 0.836422324180603\n",
      "> Ans: In 1299, Q: In 1299, what did the metropolitan moved to Vladimir and Vladimir-Suzdal?, P: In what year did the mongol invasion begin?, R: 0.028984040021896362\n"
     ]
    },
    {
     "name": "stderr",
     "output_type": "stream",
     "text": [
      "  4%|▍         | 25/625 [03:37<1:25:24,  8.54s/it]"
     ]
    },
    {
     "name": "stdout",
     "output_type": "stream",
     "text": [
      "objective/kl: 47.30708694458008\n",
      "ppo/returns/mean: -2.697758674621582\n",
      "ppo/policy/advantages_mean: 0.010769917629659176\n",
      "---------------------------------------------------------------------------------------------------\n",
      "> Ans: COSCO, Q: Who owned Pier II?, P: What organization owns Pier II in Piraeus?, R: 0.848210871219635\n",
      "> Ans: classical civilisation, Q: What is the most enduring period for analysing European history?, P: What is another name for Antiquity?, R: 0.9301806092262268\n",
      "> Ans: Themba Dlamini, Q: What did the government declare a humanitarian crisis?, P: Who was the prime minister of Swaziland in 2004?, R: 0.8181110620498657\n",
      "> Ans: /u/, Q: How does the /o / o /, P: What letter remains distinct?, R: 0.8107894062995911\n",
      "> Ans: mud brick houses, Q: What did the neolithic constructions appear in?, P: What type of homes were built in the Neolithic era?, R: 0.9360272884368896\n",
      "> Ans: 1895, Q: When was Lancashire inception?, P: What year did Rugby League start?, R: 0.836193323135376\n",
      "> Ans: sleet and freezing rain, Q: What is the Piemont especially notorious for?, P: What type of precipitation is the Piedmont known for?, R: 0.9343141913414001\n",
      "> Ans: £11 million, Q: How much did GDP in 2005-06 fall?, P: By 2006 the GDP had dropped to what?, R: 0.8315106630325317\n",
      "> Ans: The Iroquois, dominant in what is now Upstate New York, sided with the British but did not play a large role in the war, Q: What did the Iroquois sided with the British but did not play a large role in the war?, P: How valuable was the Iroquois alliance with Britain?, R: 0.8345007300376892\n",
      "> Ans: 200,000, Q: How many homes were rebuilt in 2008?, P: How many homes had been rebuilt?, R: 0.9445544481277466\n",
      "> Ans: John Wycliffe, Q: Who founded the Hussite movement?, P: Whose words were an inspiration for Jan Hus?, R: 0.8214269876480103\n",
      "> Ans: Tibetan flags, Q: What was confiscated from French police?, P: What did French law enforcement take from protesters?, R: 0.9379322528839111\n",
      "> Ans: Ottoman cuisine, Q: What is the cuisine of former Ottoman territories today descended from?, P: Pita bread descends from what type of cuisine?, R: 0.8283534646034241\n",
      "> Ans: Graves, Q: What did Wright think that values >0.25 represent great genetic variation?, P: What is the name of the person who thinks FST shouldn't be used as a marker of subspecies status?, R: 0.9220860004425049\n",
      "> Ans: grazing, Q: What was the main cause of degradation?, P: The main cause of degradation has been what?, R: 0.8529800772666931\n",
      "> Ans: 1982, Q: Since what year did Compact Discs have been commercially available?, P: When did Audio CDs become available for purchase?, R: 0.8446175456047058\n"
     ]
    },
    {
     "name": "stderr",
     "output_type": "stream",
     "text": [
      "  4%|▍         | 26/625 [03:44<1:22:25,  8.26s/it]"
     ]
    },
    {
     "name": "stdout",
     "output_type": "stream",
     "text": [
      "objective/kl: 45.65447235107422\n",
      "ppo/returns/mean: -2.7148070335388184\n",
      "ppo/policy/advantages_mean: -0.013831594958901405\n",
      "---------------------------------------------------------------------------------------------------\n",
      "> Ans: much greater than their separation d, Q: What does the length and width of the plates do?, P: In an ideal model of a capacitor, what must be assumed about the size of the plates?, R: 0.8355190753936768\n",
      "> Ans: 1960, Q: In what year did Lee and Capote travel to Kansas?, P: What year did Lee and Capote go to Kansas together?, R: 0.8676168322563171\n",
      "> Ans: Talaat Harb, Q: What did the company financed the studio Misr in 1936?, P: Who financed Studio Misr?, R: 0.846940279006958\n",
      "> Ans: 1992, Q: In what year was the UK Polytechnics designated as universities?, P: In what year were polytechnics in the UK given the university designation?, R: 0.9445331692695618\n",
      "> Ans: nine, Q: How many children did Victoria marry?, P: How many children did Queen Victoria and Prince Albert have?, R: 0.9390062093734741\n",
      "> Ans: instituting such a festival without the permission of the Holy See, Q: St Bernard blames the canons of the metropolitan church of Lyon for instituting the festival without permission of the Holy See, P: Did the query starter believe that the festival for Mary's conception had authorization to be held ?, R: 0.8129221796989441\n",
      "> Ans: gone down dramatically, Q: What has the level of crime in Palermo gone down dramatically?, P: Has the level of crime in Palermo risen or declined?, R: 0.014712831936776638\n",
      "> Ans: ice age, Q: Since the last year, what was the last time people lived on the edge of the desert?, P: When did people start living on the edge of the desert?, R: 0.8513386249542236\n",
      "> Ans: a microcontroller, Q: What do USB mice and keyboards use to perform bidirectional data translation?, P: What performs bidirectional data translation between two standards?, R: 0.9388223886489868\n",
      "> Ans: resin, Q: What does etch-back remove?, P: Etch-back removes glass fibers and what other material?, R: 0.8364500403404236\n",
      "> Ans: 883, Q: In  How did Rurik conquer the Slav tribes?, P: What year did Oleg conquer the Drevlians?, R: 0.8390488028526306\n",
      "> Ans: electronics and optics., Q: What applications are the other chalcogenides?, P: What applications do chalcogenides have?, R: 0.9444817304611206\n",
      "> Ans: same as school does in the English language, Q: What does the word madrasah mean in Arabic?, P: In Arabic, what does madarasah mean?, R: 0.8496177196502686\n",
      "> Ans: 28, Q: How many NCAA tournaments have the Fighting Irish team played in the last year?, P: How many NCAA tournaments did the Notre Dame men's basketball team take part in?, R: 0.9376644492149353\n",
      "> Ans: 64, Q: How long was the Z3 used to be?, P: How many words of memory could be stored with the Z3?, R: 0.9317514896392822\n",
      "> Ans: Pregnant, Q: What does the EFSA panel propose that pregnant women consume the same volume of water as non-pregnant women?, P: Other then breastfeeding women, who what other category of woman should have increased water intake?, R: 0.011445456184446812\n"
     ]
    },
    {
     "name": "stderr",
     "output_type": "stream",
     "text": [
      "  4%|▍         | 27/625 [03:53<1:24:10,  8.44s/it]"
     ]
    },
    {
     "name": "stdout",
     "output_type": "stream",
     "text": [
      "objective/kl: 46.82549285888672\n",
      "ppo/returns/mean: -2.499849319458008\n",
      "ppo/policy/advantages_mean: -0.009788726456463337\n",
      "---------------------------------------------------------------------------------------------------\n",
      "> Ans: Jan III Sobieski, Q: Who was the king of the Ottomans?, P: Which polish king led the fight against the Ottoman empire in the Battle of Vienna?, R: 0.8330919146537781\n",
      "> Ans: Zen, Q: What did Dwight Goddard focus on in his Buddhist scriptures?, P: Goddard collected mainly what type of Buddhist scripture?, R: 0.8347311615943909\n",
      "> Ans: 18th century, Q: In what century did the Manchus dominate Tibet?, P: When was Tibet dominated by the Manchus?, R: 0.8578073382377625\n",
      "> Ans: the Defense Clandestine Service, Q: What is the name of the global clandestine service?, P: What intelligence service did the Department of Defense recently create?, R: 0.9313071966171265\n",
      "> Ans: mild and also wet, Q: What is the summer of the islands?, P: What is the weather like in the summer time in the British Isles?, R: 0.9357378482818604\n",
      "> Ans: Over 200,000, Q: How many Irish immigrants were living in New York by 1860?, P: How many immigrants that were Irish were living in New York in 1860?, R: 0.9482807517051697\n",
      "> Ans: its association with nature, Q: Why is green the color of the environmental movement?, P: Why is green the color of the environmental movement?, R: 0.9525741338729858\n",
      "> Ans: Majorca, Q: Where did Chopin visit with Sand?, P: In what area had Frédéric's most productive period of composition taken place?, R: 0.8160194158554077\n",
      "> Ans: Protestant, Q: What did the French attack Prussia?, P: What religion was a majority in Germany?, R: 0.9288997054100037\n",
      "> Ans: in the singular, Q: What does Stallman say to copyrights, patents and trademarks?, P: How does Stallman advocate referring to copyrights, patents, and trademarks?, R: 0.8632802367210388\n",
      "> Ans: the elderly, Q: Who are the highest increases in the population of Southampton?, P: What age segment of the population of Southampton is projected to increase the most?, R: 0.8484169244766235\n",
      "> Ans: Presentational immediacy, Q: What is a word for \"pure sense perception\"?, P: What is it called if you mistake a reflection in a mirror for the real thing?, R: 0.9254844784736633\n",
      "> Ans: mammals and birds, Q: What are the species that are hunted as game or prey?, P: What species are usually hunted?, R: 0.9387457966804504\n",
      "> Ans: ruses, Q: What did, P: What did they use to lure German bombers away from their targets?, R: 0.9178096652030945\n",
      "> Ans: the Greeks liberated a part of their historic homelands, Peloponnese, from the Ottoman Empire, Q: What did the Greeks in the modern Greek state do?, P: What did Greeks do that caused  the formation of the new state ?, R: 0.9378284215927124\n",
      "> Ans: 1928, Q: When did Oklahoma City begin to discover oil?, P: When was oil discovered in the city limits?, R: 0.9373007416725159\n"
     ]
    },
    {
     "name": "stderr",
     "output_type": "stream",
     "text": [
      "  4%|▍         | 28/625 [04:02<1:24:38,  8.51s/it]"
     ]
    },
    {
     "name": "stdout",
     "output_type": "stream",
     "text": [
      "objective/kl: 48.8499641418457\n",
      "ppo/returns/mean: -2.7073721885681152\n",
      "ppo/policy/advantages_mean: -0.0047171451151371\n",
      "---------------------------------------------------------------------------------------------------\n",
      "> Ans: Viktor Suvorov, Q: Who was the writer of The Black Book of Communism?, P: Who was skeptical of Stalin’s policies?, R: 0.9321053624153137\n",
      "> Ans: thundershowers, Q: What does the average annual rainfall occur in Charleston?, P: Half of Charleston's annual rainfall occurs in what form?, R: 0.8429701924324036\n",
      "> Ans: forest, Q: What is the east coast of Appalachia covered?, P: What originally covered the east coast of the Appalachians?, R: 0.9370855689048767\n",
      "> Ans: World Broadcasting System and Associated Music Publishers, Q: What were the dominant radio transcription producers?, P: What were the top licensees of the Western Electric system in the 1930s?, R: 0.9354323148727417\n",
      "> Ans: 1948, Prime Minister U Nu embarked upon a policy of nationalisation and the state was declared the owner of all land., Q: In 1948, did a parliamentary government be formed?, P: When was Myanmar given sovereignty to rule it's own nation ?, R: 0.8128746747970581\n",
      "> Ans: as decoupling capacitors, Q: When were they used in telephony?, P: What other use did paper capacitors serve in the telecommunications industry?, R: 0.830284059047699\n",
      "> Ans: the Royal Opera House and the London Coliseum, Q: What are the two main opera houses in London?, P: What are the names of London's two primary opera houses?, R: 0.943845808506012\n",
      "> Ans: internal clock, Q: What is the name of the birds that use the sun during the day?, P: What do birds to compensate for the changing position of the sun during the day?, R: 0.9371033310890198\n",
      "> Ans: Indonesia, Q: What is the name of the most populous Muslim nation?, P: Name the most Muslim populous region in Asia?, R: 0.8425161242485046\n",
      "> Ans: October 2004, Q: What year did China officially join the Galileo project?, P: When did China join the Galileo project?, R: 0.8687317967414856\n",
      "> Ans: 2005, Q: In what year did the Smart Bodies initiative start?, P: When was the Smart Bodies initiative first released?, R: 0.8550097942352295\n",
      "> Ans: the pitch must be of FIFA One Star quality, or Two Star for ties if they involve one of the 92 professional clubs., Q: What is the term for the pitch to be of FIFA One Star quality?, P: What is the required quality of the pitch?, R: 0.9339597821235657\n",
      "> Ans: five miles, Q: How many miles of parkway from bridge to bridge is the second phase?, P: What is the total length of the Detroit International Riverfront?, R: 0.8286905884742737\n",
      "> Ans: Zamak, Q: What are alloys marketed under?, P: Alloys of zinc mixed with copper, aluminium and magnesium are marketed as what?, R: 0.8269315958023071\n",
      "> Ans: $1.5 trillion, Q: How much did the US borrow from the US banks?, P: How much preferred stock did governments of European nations and the USA purchase in their major banks?, R: 0.9382457733154297\n",
      "> Ans: one, Q: What is the first season of the Premier League newcomer being relegated to the Football League? question, P: In every season but 2001-02 and 2011-12, at least how many Premier League teams have been relegated?, R: 0.8173841238021851\n"
     ]
    },
    {
     "name": "stderr",
     "output_type": "stream",
     "text": [
      "  5%|▍         | 29/625 [04:09<1:20:32,  8.11s/it]"
     ]
    },
    {
     "name": "stdout",
     "output_type": "stream",
     "text": [
      "objective/kl: 46.11994934082031\n",
      "ppo/returns/mean: -2.556302547454834\n",
      "ppo/policy/advantages_mean: -0.026333559304475784\n",
      "---------------------------------------------------------------------------------------------------\n",
      "> Ans: Around the second century BC, Q: Around the second century BC, what were the first-known city-states in central Myanmar?, P: What period was the first known city states established in Myanmar?, R: 0.013850994408130646\n",
      "> Ans: Louis Miriani, Q: What was the last mayor of Detroit?, P: Who was Detroit's last Republican mayor?, R: 0.8531922698020935\n",
      "> Ans: 1948, Q: What did the National Security Council issue Directive 10/2 calling for covert action against USSR?, P: In what year was directive 10/2 issued?, R: 0.8359910845756531\n",
      "> Ans: World Wealth Report, Q: What did the 2011, P: What organization ranked New Delhi 39th in economic activity in 2011?, R: 0.9202055931091309\n",
      "> Ans: Latin Church, Q: What was the name of the earliest universities in Europe?, P: What church is said to be responsible for the formation of universities?, R: 0.9311050176620483\n",
      "> Ans: south, Q: Where did Richmond's borders expand?, P: In what direction did Richmond's borders expand in 1970?, R: 0.8611951470375061\n",
      "> Ans: Madison Square Garden, Q: Where did Queen perform in September 1980?, P: Queen performed several sold out shows at what US venue?, R: 0.8276196718215942\n",
      "> Ans: future development of the Evanston Campus, Q: What does Northwestern have the Evanston Campus Framework Plan?, P: What does the Evanston Campus Framework Plan outline?, R: 0.945480227470398\n",
      "> Ans: the Behistun inscription, Q: What is the first inscription in Old Persian?, P: In which historical record does Old Persian appear in exemplary form?, R: 0.8326742649078369\n",
      "> Ans: Germany and Italy, Q: In what countries did the expansion of the order create changes?, P: In what European countries did the Dominican Order experience changes to how they thought?, R: 0.9380710124969482\n",
      "> Ans: Charlie Chaplin, Q: What other notable actors and filmmakers from London include?, P: What silent movie film star who made movies such as The Little Tramp hailed from London?, R: 0.9269922971725464\n",
      "> Ans: Hunters of protected species, Q: What require a hunting license in all states?, P: What hunters require a hunting license in all states?, R: 0.9489465951919556\n",
      "> Ans: the 18th century, Q: What was the time of the Manchu Qing dynasty invasion?, P: When was the Manchu Qing dynasty invasion?, R: 0.865297257900238\n",
      "> Ans: 1990s, Q: When did the establishmental Revolutionary Party first exist?, P: For how long did the dominant one-party system last in mexico?, R: 0.8265751600265503\n",
      "> Ans: Wenchuan County, Ngawa Tibetan and Qiang Autonomous Prefecture, Q: What were the epicenter of the earthquake?, P: Where was the epicenter?, R: 0.8502709269523621\n",
      "> Ans: al-Nahda, Q: What is the name of the country in Egypt?, P: From where did Nasser graduate?, R: 0.8177022337913513\n"
     ]
    },
    {
     "name": "stderr",
     "output_type": "stream",
     "text": [
      "  5%|▍         | 30/625 [04:16<1:16:48,  7.74s/it]"
     ]
    },
    {
     "name": "stdout",
     "output_type": "stream",
     "text": [
      "objective/kl: 45.505855560302734\n",
      "ppo/returns/mean: -2.624690532684326\n",
      "ppo/policy/advantages_mean: -0.006543579511344433\n",
      "---------------------------------------------------------------------------------------------------\n",
      "> Ans: ASPEC, Q: What was the joint proposal of AT&T Bell Laboratories, Thomson Consumer Electronics, Fraunhofer Society and CNET, P: What was the name given to the proposal?, R: 0.9173706769943237\n",
      "> Ans: five, Q: How many FA Cups did Arsenal win between 1988 and 2005?, P: Over a 17 year period which began in the late 80s, stretching five years into the new millenia, how many FA Cups did Arsenal win?, R: 0.6475770473480225\n",
      "> Ans: City of Man, Q: What was the name of the city of God?, P: What does Civitas terrena mean?, R: 0.9235515594482422\n",
      "> Ans: one of the world's poorest countries, Q: Liberia is what kind of country?, P: What is Liberia considered around the world economically?, R: 0.8291416764259338\n",
      "> Ans: Shaye J. D. Cohen, Q: Who was the historian of mixed marriages?, P: Who believed the status of the offspring of mixed marriages was determined patrilineally in the Bible?, R: 0.9309274554252625\n",
      "> Ans: seven, Q: How many national championships did Notre Dame have?, P: How many students at Notre Dame received the Heisman Trophy?, R: 0.9365260601043701\n",
      "> Ans: World War I, Q: During what war did the palace escape?, P: Buckingham Palace was untouched during which war?, R: 0.8433476686477661\n",
      "> Ans: archaic grammar and vocabulary, Q: What did Pushkin reject?, P: What was 'high style'?, R: 0.9253178834915161\n",
      "> Ans: The Giving of Love, Q: What was the name of the special four-hour program called CCTV-1?, P: What was the program that CCTV-1 hosted?, R: 0.9407363533973694\n",
      "> Ans: by broadcasting White Sox games for a decade, Q: How did Caray become a well-known Chicago figure?, P: How did Caray become a well-known Chicago figure?, R: 0.9525741338729858\n",
      "> Ans: Chemoreception, Q: What is the physiological response of a sense organ?, P: What is the physiological response of a sense organ called?, R: 0.9493439197540283\n",
      "> Ans: Rueil-Malmaison, Q: What town is the mayor of?, P: What town was Patrick Ollier a mayor of?, R: 0.9419686794281006\n",
      "> Ans: King George VI and Queen Elizabeth, Q: Who was Elizabeth, P: What were Elizabeth's parents' titles after ascending to the throne?, R: 0.8050647974014282\n",
      "> Ans: Uniform Resource Locator, Q: What is the process of a URI?, P: What does URL stand for?, R: 0.9301872253417969\n",
      "> Ans: wetting their belly feathers, Q: What is the name of a plovers carrying water to their young?, P: How do nesting sandgrouse carry water to their young?, R: 0.8458939790725708\n",
      "> Ans: 195, Q: How many metro stations are available in Mexico City?, P: How many stations are in the Mexico City metro system?, R: 0.9461979866027832\n"
     ]
    },
    {
     "name": "stderr",
     "output_type": "stream",
     "text": [
      "  5%|▍         | 31/625 [04:23<1:14:26,  7.52s/it]"
     ]
    },
    {
     "name": "stdout",
     "output_type": "stream",
     "text": [
      "objective/kl: 43.683555603027344\n",
      "ppo/returns/mean: -2.618239402770996\n",
      "ppo/policy/advantages_mean: -0.030731061473488808\n",
      "---------------------------------------------------------------------------------------------------\n"
     ]
    }
   ],
   "source": [
    "BATCH_SIZE = 16\n",
    "config = PPOConfig(\n",
    "    learning_rate=1e-5,\n",
    "    log_with='tensorboard',\n",
    "    project_kwargs={'logging_dir': f'./logs/{model_name}-ppo'},\n",
    "    batch_size=BATCH_SIZE,\n",
    ")\n",
    "\n",
    "ppo_trainer = PPOTrainer(\n",
    "    model=ppo_model,\n",
    "    ref_model=ref_model,\n",
    "    config=config,\n",
    "    tokenizer=tokenizer,\n",
    ")\n",
    "\n",
    "\n",
    "batched_dataset = [[train_dataset[i] for i in range(j, min(j+BATCH_SIZE, len(train_dataset)))] for j in range(0, len(train_dataset), BATCH_SIZE)]\n",
    "# remove last batch if it is not full\n",
    "if len(batched_dataset[-1]) != BATCH_SIZE:\n",
    "    batched_dataset.pop(-1)\n",
    "\n",
    "for batch in tqdm(batched_dataset):\n",
    "    query_tensors = [tokenizer(e[\"query\"], return_tensors='pt', padding=True, truncation=True).input_ids.squeeze().to('cuda:0') for e in batch]\n",
    "\n",
    "    response_tensors = ppo_trainer.generate(query_tensors, max_length=32, early_stopping=True)\n",
    "\n",
    "    # put response_tensors into batch\n",
    "    for i in range(len(batch)):\n",
    "        batch[i][\"prediction\"] = tokenizer.decode(response_tensors[i], skip_special_tokens=True)\n",
    "\n",
    "    pipe_outputs = [reward_model(e) for e in batch] \n",
    "    rewards = pipe_outputs\n",
    "\n",
    "    stats = ppo_trainer.step(query_tensors, response_tensors, rewards)\n",
    "    \n",
    "    \n",
    "    print(f'objective/kl: {stats[\"objective/kl\"]}')\n",
    "    print(f'ppo/returns/mean: {stats[\"ppo/returns/mean\"]}')\n",
    "    print(f'ppo/policy/advantages_mean: {stats[\"ppo/policy/advantages_mean\"]}')\n",
    "\n",
    "    print('-'.join('' for x in range(100)))\n",
    "\n",
    "# save model\n",
    "ppo_trainer.save_pretrained(f\"./models/{model_name}-ppo/\")"
   ]
  },
  {
   "cell_type": "code",
   "execution_count": null,
   "metadata": {},
   "outputs": [],
   "source": [
    "# save model \n"
   ]
  }
 ],
 "metadata": {
  "kernelspec": {
   "display_name": ".venv",
   "language": "python",
   "name": "python3"
  },
  "language_info": {
   "codemirror_mode": {
    "name": "ipython",
    "version": 3
   },
   "file_extension": ".py",
   "mimetype": "text/x-python",
   "name": "python",
   "nbconvert_exporter": "python",
   "pygments_lexer": "ipython3",
   "version": "3.10.13"
  }
 },
 "nbformat": 4,
 "nbformat_minor": 2
}
