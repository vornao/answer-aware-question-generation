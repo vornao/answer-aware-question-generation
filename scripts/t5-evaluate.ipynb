{
 "cells": [
  {
   "cell_type": "markdown",
   "metadata": {},
   "source": [
    "## Evaluation Notebook\n",
    "> model to evaluate below"
   ]
  },
  {
   "cell_type": "code",
   "execution_count": 2,
   "metadata": {},
   "outputs": [],
   "source": [
    "# change model name\n",
    "model_name = \"t5-base\""
   ]
  },
  {
   "cell_type": "code",
   "execution_count": 16,
   "metadata": {},
   "outputs": [],
   "source": [
    "\"\"\"Train T5 model on a given dataset, for answer aware question generation task. (Basically a sequence to sequence task)\"\"\"\n",
    "\n",
    "import os\n",
    "os.environ[\"CUDA_VISIBLE_DEVICES\"] = \"1,2,3\"\n",
    "import gc\n",
    "import datasets\n",
    "import transformers\n",
    "import torch\n",
    "import evaluate\n",
    "from tqdm import tqdm\n",
    "\n",
    "TOKEN_QUESTION = '<question>'\n",
    "TOKEN_END_QUESTION = '<question>'\n",
    "TOKEN_CONTEXT = '<context>'\n",
    "TOKEN_END_CONTEXT = '<context>'\n",
    "TOKEN_ANSWER = '<answer>'\n",
    "TOKEN_END_ANSWER = '<answer>'  \n",
    "SPLIT_SEED = 42\n",
    "NPROC = 32"
   ]
  },
  {
   "cell_type": "markdown",
   "metadata": {},
   "source": [
    "## Load fine-tuned model"
   ]
  },
  {
   "cell_type": "code",
   "execution_count": 4,
   "metadata": {},
   "outputs": [],
   "source": [
    "model = transformers.T5ForConditionalGeneration.from_pretrained(f\"./models/{model_name}/\", device_map='auto')\n",
    "tokenizer = transformers.AutoTokenizer.from_pretrained(f\"./models/{model_name}\")\n",
    "torch.cuda.empty_cache()"
   ]
  },
  {
   "cell_type": "markdown",
   "metadata": {},
   "source": [
    "## Create SQuAD preprocessing pipeline"
   ]
  },
  {
   "cell_type": "code",
   "execution_count": 5,
   "metadata": {},
   "outputs": [],
   "source": [
    "def preprocess_squad_dataset(dataset_name='squad', split='train'):\n",
    "    dataset = datasets.load_dataset(dataset_name, split=split)\n",
    "    # Add question, answer and context tokens to dataset in a new column named text\n",
    "    dataset = dataset.map(\n",
    "        lambda e: {\n",
    "            # answer + context\n",
    "            'inputs': f'generate question: {TOKEN_ANSWER} {e[\"answers\"][\"text\"][0]} {TOKEN_END_ANSWER} {TOKEN_CONTEXT} {e[\"context\"]} {TOKEN_END_CONTEXT}', \n",
    "            # question\n",
    "            'target': f'{TOKEN_QUESTION} {e[\"question\"]} {TOKEN_END_QUESTION}'},\n",
    "            num_proc=NPROC\n",
    "        )\n",
    "    \n",
    "    # Remove unnecessary columns, leaving only the formatted_text column\n",
    "    dataset = dataset.remove_columns(['answers', 'context', 'question'])\n",
    "    return dataset\n",
    "\n",
    "# create a tokenizer function\n",
    "def tokenize_function(example, max_context_length=512, max_question_length=32):\n",
    "# Combine context and question\n",
    "    # Tokenize input (context + answer)\n",
    "    inputs = tokenizer(example['inputs'], max_length=(max_context_length), return_tensors=\"pt\", padding=\"max_length\", truncation=True)\n",
    "    labels = tokenizer(example['target'], max_length=max_question_length, return_tensors=\"pt\", padding=\"max_length\", truncation=True)\n",
    "    return {\"input_ids\": inputs[\"input_ids\"], \"labels\": labels[\"input_ids\"]}"
   ]
  },
  {
   "cell_type": "code",
   "execution_count": 6,
   "metadata": {},
   "outputs": [],
   "source": [
    "# load dataset\n",
    "dataset = preprocess_squad_dataset(dataset_name='squad', split='train')\n",
    "valid_dataset = preprocess_squad_dataset(dataset_name='squad', split='validation')\n",
    "train, validation = dataset, valid_dataset\n",
    "\n",
    "# tokenize dataset\n",
    "tokenized_dataset_train = train.map(\n",
    "    tokenize_function,\n",
    "    batched=True,\n",
    "    num_proc=32,\n",
    "    remove_columns=['inputs', 'target', 'title', 'id'],\n",
    ")\n",
    "\n",
    "tokenized_dataset_validation = validation.select(range(1000)).map(\n",
    "    tokenize_function,\n",
    "    batched=True,\n",
    "    num_proc=4,\n",
    "    remove_columns=['inputs', 'target', 'title', 'id'],\n",
    ")"
   ]
  },
  {
   "cell_type": "markdown",
   "metadata": {},
   "source": [
    "## Evaluate"
   ]
  },
  {
   "cell_type": "code",
   "execution_count": 17,
   "metadata": {},
   "outputs": [
    {
     "name": "stderr",
     "output_type": "stream",
     "text": []
    }
   ],
   "source": [
    "predictions = []\n",
    "rouge = evaluate.load('rouge')\n",
    "bertscore = evaluate.load('bertscore')\n",
    "\n",
    "def generate_question(example, max_length=32):\n",
    "    ids = tokenizer.encode(example, return_tensors=\"pt\", padding=True, truncation=True)\n",
    "    outputs = model.generate(input_ids=ids, max_length=max_length, num_beams=4, early_stopping=True)\n",
    "    return tokenizer.decode(outputs[0], skip_special_tokens=True)\n",
    "\n",
    "def evaluate_question_generation(dataset, max_length=32):\n",
    "    for example in tqdm(dataset):\n",
    "        predictions.append(generate_question(example['inputs'], max_length=max_length))\n",
    "\n",
    "\n",
    "dataset = preprocess_squad_dataset(dataset_name='squad', split='validation').select(range(1000, 2000))    \n",
    "evaluate_question_generation(dataset, max_length=32)"
   ]
  },
  {
   "cell_type": "code",
   "execution_count": null,
   "metadata": {},
   "outputs": [],
   "source": [
    "# save predictions\n",
    "with open(f\"./results/{model_name}/predictions.txt\", \"w\") as f:\n",
    "    for pred in predictions:\n",
    "        f.write(pred + \"\\n\")"
   ]
  },
  {
   "cell_type": "code",
   "execution_count": 94,
   "metadata": {},
   "outputs": [],
   "source": [
    "predictions = [prediction.replace('question>', '').replace('<question>', '') for prediction in predictions]\n",
    "targets = [target.replace('<question>', '') for target in dataset['target']]"
   ]
  },
  {
   "cell_type": "code",
   "execution_count": 95,
   "metadata": {},
   "outputs": [
    {
     "data": {
      "text/plain": [
       "' When was Super Bowl 50 played? '"
      ]
     },
     "execution_count": 95,
     "metadata": {},
     "output_type": "execute_result"
    }
   ],
   "source": [
    "predictions[6]"
   ]
  },
  {
   "cell_type": "code",
   "execution_count": 96,
   "metadata": {},
   "outputs": [
    {
     "data": {
      "text/plain": [
       "' What day was the game played on? '"
      ]
     },
     "execution_count": 96,
     "metadata": {},
     "output_type": "execute_result"
    }
   ],
   "source": [
    "targets[6]"
   ]
  },
  {
   "cell_type": "code",
   "execution_count": 97,
   "metadata": {},
   "outputs": [
    {
     "name": "stderr",
     "output_type": "stream",
     "text": [
      "Some weights of RobertaModel were not initialized from the model checkpoint at roberta-large and are newly initialized: ['roberta.pooler.dense.bias', 'roberta.pooler.dense.weight']\n",
      "You should probably TRAIN this model on a down-stream task to be able to use it for predictions and inference.\n",
      "Warning: Empty candidate sentence detected; setting raw BERTscores to 0.\n",
      "Warning: Empty candidate sentence detected; setting raw BERTscores to 0.\n",
      "Warning: Empty candidate sentence detected; setting raw BERTscores to 0.\n"
     ]
    }
   ],
   "source": [
    "score = bertscore.compute(predictions=predictions, references=targets, lang='en')"
   ]
  },
  {
   "cell_type": "code",
   "execution_count": 101,
   "metadata": {},
   "outputs": [
    {
     "data": {
      "text/plain": [
       "dict_keys(['precision', 'recall', 'f1', 'hashcode'])"
      ]
     },
     "execution_count": 101,
     "metadata": {},
     "output_type": "execute_result"
    }
   ],
   "source": [
    "score.keys()"
   ]
  },
  {
   "cell_type": "markdown",
   "metadata": {},
   "source": [
    "### Eval results\n",
    "```` T5-SMALL SQUAD: 0.89937"
   ]
  },
  {
   "cell_type": "code",
   "execution_count": 104,
   "metadata": {},
   "outputs": [
    {
     "data": {
      "text/plain": [
       "0.8993794137835502"
      ]
     },
     "execution_count": 104,
     "metadata": {},
     "output_type": "execute_result"
    }
   ],
   "source": [
    "import numpy as np\n",
    "np.mean(score['f1'])"
   ]
  },
  {
   "cell_type": "code",
   "execution_count": 99,
   "metadata": {},
   "outputs": [
    {
     "data": {
      "text/plain": [
       "{'rouge1': 0.3940472830525471,\n",
       " 'rouge2': 0.2026262090775079,\n",
       " 'rougeL': 0.3640860483908057,\n",
       " 'rougeLsum': 0.36411097278438986}"
      ]
     },
     "execution_count": 99,
     "metadata": {},
     "output_type": "execute_result"
    }
   ],
   "source": [
    "rouge.compute(predictions=predictions, references=targets)"
   ]
  },
  {
   "cell_type": "code",
   "execution_count": null,
   "metadata": {},
   "outputs": [],
   "source": [
    "# save results in a json file into ./models/{model_name}/metrics.json\n",
    "import json\n",
    "with open(f\"./results/{model_name}/metrics.json\", \"w\") as f:\n",
    "    json.dump(rouge.compute(predictions=predictions, references=targets), f)\n",
    "    json.dump(bertscore.compute(predictions=predictions, references=targets, lang='en'), f)\n"
   ]
  }
 ],
 "metadata": {
  "kernelspec": {
   "display_name": ".venv",
   "language": "python",
   "name": "python3"
  },
  "language_info": {
   "codemirror_mode": {
    "name": "ipython",
    "version": 3
   },
   "file_extension": ".py",
   "mimetype": "text/x-python",
   "name": "python",
   "nbconvert_exporter": "python",
   "pygments_lexer": "ipython3",
   "version": "3.10.13"
  }
 },
 "nbformat": 4,
 "nbformat_minor": 2
}
