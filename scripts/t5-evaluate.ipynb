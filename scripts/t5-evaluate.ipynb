{
 "cells": [
  {
   "cell_type": "markdown",
   "metadata": {},
   "source": [
    "## Evaluation Notebook\n",
    "> model to evaluate below"
   ]
  },
  {
   "cell_type": "code",
   "execution_count": 1,
   "metadata": {},
   "outputs": [],
   "source": [
    "# change model name\n",
    "model_name = \"t5-base-hl-ppo\""
   ]
  },
  {
   "cell_type": "code",
   "execution_count": 2,
   "metadata": {},
   "outputs": [
    {
     "name": "stderr",
     "output_type": "stream",
     "text": [
      "/storagenfs/l.miglior/answer-aware-question-generation/.venv/lib/python3.10/site-packages/tqdm/auto.py:21: TqdmWarning: IProgress not found. Please update jupyter and ipywidgets. See https://ipywidgets.readthedocs.io/en/stable/user_install.html\n",
      "  from .autonotebook import tqdm as notebook_tqdm\n"
     ]
    }
   ],
   "source": [
    "import os\n",
    "os.environ[\"CUDA_VISIBLE_DEVICES\"] = \"0,1,2\"\n",
    "import gc\n",
    "import datasets\n",
    "import transformers\n",
    "import torch\n",
    "import evaluate\n",
    "from tqdm import tqdm\n",
    "import json\n",
    "import numpy as np\n",
    "HIGHLIGHT = True\n",
    "TOKEN_QUESTION = '<question>'\n",
    "TOKEN_END_QUESTION = '<question>'\n",
    "TOKEN_CONTEXT = '<context>'\n",
    "TOKEN_END_CONTEXT = '<context>'\n",
    "TOKEN_ANSWER = '<answer>'\n",
    "TOKEN_END_ANSWER = '<answer>'  \n",
    "HIGHLIGHT_ANSWER = '<hl>'\n",
    "SPLIT_SEED = 42\n",
    "NPROC = 32"
   ]
  },
  {
   "cell_type": "markdown",
   "metadata": {},
   "source": [
    "## Load fine-tuned model"
   ]
  },
  {
   "cell_type": "code",
   "execution_count": 3,
   "metadata": {},
   "outputs": [
    {
     "name": "stdout",
     "output_type": "stream",
     "text": [
      "t5-base-hl-ppo\n"
     ]
    }
   ],
   "source": [
    "print(model_name)"
   ]
  },
  {
   "cell_type": "code",
   "execution_count": 4,
   "metadata": {},
   "outputs": [],
   "source": [
    "\n",
    "model = transformers.T5ForConditionalGeneration.from_pretrained(f\"./models/{model_name}/\", device_map='cuda:0')\n",
    "tokenizer = transformers.AutoTokenizer.from_pretrained(f\"./models/{model_name}\")\n",
    "torch.cuda.empty_cache()"
   ]
  },
  {
   "cell_type": "markdown",
   "metadata": {},
   "source": [
    "## Create SQuAD preprocessing pipeline"
   ]
  },
  {
   "cell_type": "code",
   "execution_count": 5,
   "metadata": {},
   "outputs": [],
   "source": [
    "def get_inputs_target(e):\n",
    "    answer_start = e[\"answers\"][\"answer_start\"][0]\n",
    "    # add highlight token to context\n",
    "    ans_len = len(e[\"answers\"][\"text\"][0])\n",
    "\n",
    "    if HIGHLIGHT:\n",
    "        e[\"context\"] = (\n",
    "            e[\"context\"][:answer_start]\n",
    "            + \" \"\n",
    "            + HIGHLIGHT_ANSWER\n",
    "            + \" \"\n",
    "            + e[\"context\"][answer_start : answer_start + ans_len]\n",
    "            + \" \"\n",
    "            + HIGHLIGHT_ANSWER\n",
    "            + \" \"\n",
    "            + e[\"context\"][answer_start + ans_len :]\n",
    "        )\n",
    "\n",
    "    return {\n",
    "        # answer + context\n",
    "        \"inputs\": f'generate question: {TOKEN_ANSWER} {e[\"answers\"][\"text\"][0]} {TOKEN_END_ANSWER} {TOKEN_CONTEXT} {e[\"context\"]} {TOKEN_END_CONTEXT}',\n",
    "        # question\n",
    "        \"target\": f'{TOKEN_QUESTION} {e[\"question\"]} {TOKEN_END_QUESTION}',\n",
    "    }\n",
    "\n",
    "def preprocess_squad_dataset(dataset_name=\"squad\", split=\"train\"):\n",
    "    dataset = datasets.load_dataset(dataset_name, split=split).select(range(1000,2000))\n",
    "    dataset = dataset.map(get_inputs_target, num_proc=NPROC)\n",
    "    return dataset\n",
    "\n",
    "# create a tokenizer function\n",
    "def tokenize_function(example, max_context_length=512, max_question_length=32):\n",
    "# Combine context and question\n",
    "    # Tokenize input (context + answer)\n",
    "    inputs = tokenizer(example['inputs'], max_length=(max_context_length), return_tensors=\"pt\", padding=\"max_length\", truncation=True)\n",
    "    labels = tokenizer(example['target'], max_length=max_question_length, return_tensors=\"pt\", padding=\"max_length\", truncation=True)\n",
    "    return {\"input_ids\": inputs[\"input_ids\"], \"labels\": labels[\"input_ids\"]}"
   ]
  },
  {
   "cell_type": "code",
   "execution_count": 6,
   "metadata": {},
   "outputs": [],
   "source": [
    "# load dataset\n",
    "validation = preprocess_squad_dataset(dataset_name='squad', split='validation')\n",
    "validation = validation.shuffle(seed=SPLIT_SEED).select(range(100))\n"
   ]
  },
  {
   "cell_type": "markdown",
   "metadata": {},
   "source": [
    "## Evaluate"
   ]
  },
  {
   "cell_type": "code",
   "execution_count": 7,
   "metadata": {},
   "outputs": [
    {
     "name": "stderr",
     "output_type": "stream",
     "text": [
      "100%|██████████| 100/100 [02:00<00:00,  1.21s/it]\n"
     ]
    }
   ],
   "source": [
    "predictions = []\n",
    "rouge = evaluate.load('rouge')\n",
    "bertscore = evaluate.load('bertscore')\n",
    "\n",
    "def generate_question(example, max_length=32):\n",
    "    ids = tokenizer.encode(example, return_tensors=\"pt\", padding=True, truncation=True).to(model.device)\n",
    "    outputs = model.generate(input_ids=ids, max_length=max_length, num_beams=4, early_stopping=True)\n",
    "    return tokenizer.decode(outputs[0], skip_special_tokens=True)\n",
    "\n",
    "def evaluate_question_generation(dataset, max_length=32):\n",
    "    for example in tqdm(dataset):\n",
    "        predictions.append(generate_question(example['inputs'], max_length=max_length))\n",
    "\n",
    "\n",
    "dataset = validation\n",
    "evaluate_question_generation(dataset, max_length=32)"
   ]
  },
  {
   "cell_type": "code",
   "execution_count": 10,
   "metadata": {},
   "outputs": [],
   "source": [
    "predictions = [prediction.replace('question>', '').replace('<question>', '').replace('<hl>', '') for prediction in predictions]\n",
    "targets = [target.replace('<question>', '') for target in dataset['target']]\n",
    "contexes = [d['context'] for d in dataset]\n",
    "answers = [d['answers']['text'][0] for d in dataset]\n",
    "references= [d['question'] for d in dataset]\n"
   ]
  },
  {
   "cell_type": "code",
   "execution_count": 11,
   "metadata": {},
   "outputs": [],
   "source": [
    "# export to json file. create a list of json objects, each object is a dict with keys: context, answer, question, prediction\n",
    "json_list = []\n",
    "for i in range(len(predictions)):\n",
    "    json_list.append({'context': contexes[i], 'answer': answers[i], 'question': references[i], 'prediction': predictions[i]})\n",
    "with open(f'./predictions/{model_name}.json', 'w') as outfile:\n",
    "    json.dump(json_list, outfile)"
   ]
  },
  {
   "cell_type": "code",
   "execution_count": null,
   "metadata": {},
   "outputs": [],
   "source": [
    "# save predictions and targets\n",
    "\n",
    "\n",
    "\n",
    "res = {\n",
    "    'predictions': predictions,\n",
    "    'targets': targets,\n",
    "    'contexes': contexes,\n",
    "    'answers': answers,\n",
    "    'question': references\n",
    "}\n",
    "\n",
    "with open(f'./results/{model_name}.json', 'w') as f:\n",
    "    json.dump(res, f)"
   ]
  },
  {
   "cell_type": "code",
   "execution_count": 48,
   "metadata": {},
   "outputs": [
    {
     "data": {
      "text/plain": [
       "'t5-small-hl'"
      ]
     },
     "execution_count": 48,
     "metadata": {},
     "output_type": "execute_result"
    }
   ],
   "source": [
    "model_name"
   ]
  },
  {
   "cell_type": "code",
   "execution_count": 49,
   "metadata": {},
   "outputs": [
    {
     "name": "stdout",
     "output_type": "stream",
     "text": [
      "./results/t5-small-hl.json\n"
     ]
    }
   ],
   "source": [
    "# evaluate\n",
    "# load predictions and targets\n",
    "with open(f'./results/{model_name}.json', 'r') as f:\n",
    "    print(f'./results/{model_name}.json')\n",
    "    res = json.load(f)\n",
    "\n",
    "predictions = res['predictions']\n",
    "targets = res['targets']"
   ]
  },
  {
   "cell_type": "code",
   "execution_count": 50,
   "metadata": {},
   "outputs": [
    {
     "name": "stderr",
     "output_type": "stream",
     "text": [
      "Some weights of RobertaModel were not initialized from the model checkpoint at roberta-large and are newly initialized: ['roberta.pooler.dense.bias', 'roberta.pooler.dense.weight']\n",
      "You should probably TRAIN this model on a down-stream task to be able to use it for predictions and inference.\n"
     ]
    },
    {
     "name": "stdout",
     "output_type": "stream",
     "text": [
      "BERTScore: 0.9083551833033562\n",
      "ROUGE: 0.42308826740676375\n"
     ]
    }
   ],
   "source": [
    "rouge = evaluate.load('rouge')\n",
    "bertscore = evaluate.load('bertscore', device_map='cpu')\n",
    "\n",
    "bscore = bertscore.compute(predictions=predictions, references=targets, lang='en')\n",
    "rougescore = rouge.compute(predictions=predictions, references=targets)\n",
    "\n",
    "print(f\"BERTScore: {np.mean(bscore['f1'])}\")\n",
    "print(f\"ROUGE: {rougescore['rouge1']}\")"
   ]
  },
  {
   "cell_type": "markdown",
   "metadata": {},
   "source": [
    "### Eval results (Squad v1)"
   ]
  },
  {
   "cell_type": "markdown",
   "metadata": {},
   "source": [
    "| Model | BERTScore | ROUGE |\n",
    "| --- | --- | --- |\n",
    "| T5-small no hl | 0.89052 | 0.35782 |\n",
    "| T5-small hl | 0.908355 | 0.42310 |\n",
    "| T5-small hl, PPO | 0.9039 | 0.41878 |\n",
    "| T5-base no hl | 0.9106 | 0.43880 |\n",
    "| T5-base hl | 0.91270 | 0.454453 |\n",
    "| T5-base hl, PPO | ???? | ???? |\n",
    "\n"
   ]
  },
  {
   "cell_type": "markdown",
   "metadata": {},
   "source": [
    "## Evaluate on SQuAD v2"
   ]
  },
  {
   "cell_type": "code",
   "execution_count": 51,
   "metadata": {},
   "outputs": [],
   "source": [
    "metrics = {\n",
    "    'bertscore': bscore,\n",
    "    'rouge': rougescore,\n",
    "    'predictions' : predictions,\n",
    "    'targets' : targets\n",
    "}\n",
    "\n",
    "# save results in a json file into ./models/{model_name}/metrics.json\n",
    "with open(f\"./models/{model_name}/metrics.json\", \"w\") as f:\n",
    "    json.dump(metrics, f)"
   ]
  },
  {
   "cell_type": "code",
   "execution_count": 4,
   "metadata": {},
   "outputs": [
    {
     "name": "stdout",
     "output_type": "stream",
     "text": [
      "BERTScore: 0.9127049925327301\n",
      "ROUGE: 0.45445331974723385\n"
     ]
    }
   ],
   "source": [
    "model_name = \"t5-base-hl\"\n",
    "\n",
    "# read metrics from json file\n",
    "with open(f\"./models/{model_name}/metrics.json\", \"r\") as f:\n",
    "    metrics = json.load(f)\n",
    "\n",
    "# print metrics\n",
    "print(f\"BERTScore: {np.mean(metrics['bertscore']['f1'])}\")\n",
    "print(f\"ROUGE: {metrics['rouge']['rouge1']}\")\n"
   ]
  }
 ],
 "metadata": {
  "kernelspec": {
   "display_name": ".venv",
   "language": "python",
   "name": "python3"
  },
  "language_info": {
   "codemirror_mode": {
    "name": "ipython",
    "version": 3
   },
   "file_extension": ".py",
   "mimetype": "text/x-python",
   "name": "python",
   "nbconvert_exporter": "python",
   "pygments_lexer": "ipython3",
   "version": "3.10.13"
  }
 },
 "nbformat": 4,
 "nbformat_minor": 2
}
