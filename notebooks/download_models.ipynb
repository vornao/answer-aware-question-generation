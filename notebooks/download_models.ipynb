{
 "cells": [
  {
   "cell_type": "markdown",
   "metadata": {},
   "source": [
    "# Downloading all T5 models from HuggingFace\n",
    "\n",
    "- t5-small\n",
    "- t5-base\n",
    "- t5-large\n",
    "- t5-3b \n",
    "- t5-11b"
   ]
  },
  {
   "cell_type": "code",
   "execution_count": null,
   "metadata": {},
   "outputs": [],
   "source": [
    "from transformers import T5Tokenizer, T5ForConditionalGeneration\n",
    "import torch\n",
    "import transformers\n",
    "\n",
    "model_dir = \"../models/\"\n",
    "\n",
    "models = ['t5-small', 't5-base', 't5-large']\n",
    "\n",
    "for model_name in models:\n",
    "   \n",
    "    tokenizer = T5Tokenizer.from_pretrained(model_name)\n",
    "    model = T5ForConditionalGeneration.from_pretrained(model_name)\n",
    "   \n",
    "    # then save the models\n",
    "    tokenizer.save_pretrained(model_dir+\"/\"+model_name)\n",
    "    model.save_pretrained(model_dir+\"/\"+model_name)\n",
    "    \n",
    "    "
   ]
  }
 ],
 "metadata": {
  "kernelspec": {
   "display_name": "Python 3",
   "language": "python",
   "name": "python3"
  },
  "language_info": {
   "codemirror_mode": {
    "name": "ipython",
    "version": 3
   },
   "file_extension": ".py",
   "mimetype": "text/x-python",
   "name": "python",
   "nbconvert_exporter": "python",
   "pygments_lexer": "ipython3",
   "version": "3.8.10"
  }
 },
 "nbformat": 4,
 "nbformat_minor": 2
}
