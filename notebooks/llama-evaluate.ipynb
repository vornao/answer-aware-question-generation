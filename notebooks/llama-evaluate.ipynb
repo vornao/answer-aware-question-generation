{
 "cells": [
  {
   "cell_type": "code",
   "execution_count": 1,
   "metadata": {},
   "outputs": [
    {
     "name": "stderr",
     "output_type": "stream",
     "text": [
      "/storagenfs/l.miglior/answer-aware-question-generation/.venv/lib/python3.10/site-packages/tqdm/auto.py:21: TqdmWarning: IProgress not found. Please update jupyter and ipywidgets. See https://ipywidgets.readthedocs.io/en/stable/user_install.html\n",
      "  from .autonotebook import tqdm as notebook_tqdm\n"
     ]
    }
   ],
   "source": [
    "import os\n",
    "os.environ[\"CUDA_VISIBLE_DEVICES\"] = \"0,1,2\"\n",
    "\n",
    "import evaluate\n",
    "import transformers\n",
    "import argparse\n",
    "import torch\n",
    "import json\n",
    "import datasets\n",
    "\n",
    "from numpy import mean\n",
    "from tqdm import tqdm\n",
    "\n",
    "TOKEN_QUESTION = \"### Question:\"\n",
    "TOKEN_END_QUESTION = \"\"\n",
    "TOKEN_CONTEXT = \"### Context:\"\n",
    "TOKEN_END_CONTEXT = \"\"\n",
    "TOKEN_ANSWER = \"### Answer:\"\n",
    "TOKEN_END_ANSWER = \"\"\n",
    "HIGHLIGHT_ANSWER = \"\"\n",
    "SPLIT_SEED = 42\n",
    "NPROC = 32\n",
    "HIGHLIGHT = True\n",
    "LLAMA_PATH = \"./results/llama-7B/checkpoint-1000\"\n"
   ]
  },
  {
   "cell_type": "code",
   "execution_count": 2,
   "metadata": {},
   "outputs": [],
   "source": [
    "bertscore = evaluate.load(\"bertscore\")\n",
    "rouge = evaluate.load(\"rouge\")"
   ]
  },
  {
   "cell_type": "code",
   "execution_count": 4,
   "metadata": {},
   "outputs": [
    {
     "name": "stderr",
     "output_type": "stream",
     "text": [
      "Loading checkpoint shards: 100%|██████████| 2/2 [00:19<00:00,  9.75s/it]\n"
     ]
    }
   ],
   "source": [
    "tokenizer = transformers.AutoTokenizer.from_pretrained(LLAMA_PATH)\n",
    "model = transformers.AutoModelForCausalLM.from_pretrained(LLAMA_PATH, device_map=\"auto\")"
   ]
  },
  {
   "cell_type": "code",
   "execution_count": 5,
   "metadata": {},
   "outputs": [],
   "source": [
    "pipeline = transformers.pipeline(\n",
    "    \"text-generation\",\n",
    "    model=model,\n",
    "    tokenizer=tokenizer,\n",
    ")"
   ]
  },
  {
   "cell_type": "code",
   "execution_count": 3,
   "metadata": {},
   "outputs": [
    {
     "name": "stderr",
     "output_type": "stream",
     "text": [
      "Map (num_proc=32): 100%|██████████| 1000/1000 [00:00<00:00, 1787.43 examples/s]\n"
     ]
    }
   ],
   "source": [
    "\n",
    "def get_inputs_target(e):\n",
    "    answer_start = e[\"answers\"][\"answer_start\"][0]\n",
    "    # add highlight token to context\n",
    "    ans_len = len(e[\"answers\"][\"text\"][0])\n",
    "\n",
    "    e[\"context\"] = (\n",
    "        e[\"context\"][:answer_start]\n",
    "        + \" \"\n",
    "        + HIGHLIGHT_ANSWER\n",
    "        + \" \"\n",
    "        + e[\"context\"][answer_start : answer_start + ans_len]\n",
    "        + \" \"\n",
    "        + HIGHLIGHT_ANSWER\n",
    "        + \" \"\n",
    "        + e[\"context\"][answer_start + ans_len :]\n",
    "        + \" \"\n",
    "        + TOKEN_ANSWER\n",
    "        + \" \"\n",
    "        + e[\"answers\"][\"text\"][0]\n",
    "        + \" \"\n",
    "        + TOKEN_END_ANSWER\n",
    "    )\n",
    "\n",
    "    return {\n",
    "        # answer + context + question for causal language modeling\n",
    "        \"text\": f'<s> {e[\"context\"]} {TOKEN_QUESTION}',\n",
    "    }\n",
    "\n",
    "\n",
    "\n",
    "def preprocess_squad_dataset(dataset_name=\"squad\", split=\"train\"):\n",
    "    dataset = datasets.load_dataset(dataset_name, split=split).select(range(1000,2000))\n",
    "    dataset = dataset.map(get_inputs_target, num_proc=NPROC)\n",
    "    return dataset\n",
    "\n",
    "\n",
    "# load dataset\n",
    "valid_dataset = preprocess_squad_dataset(dataset_name=\"squad\", split=\"validation\")"
   ]
  },
  {
   "cell_type": "code",
   "execution_count": 4,
   "metadata": {},
   "outputs": [],
   "source": [
    "shuffled = valid_dataset.shuffle(SPLIT_SEED).select(range(100))\n"
   ]
  },
  {
   "cell_type": "code",
   "execution_count": 12,
   "metadata": {},
   "outputs": [],
   "source": [
    "# put all contexts, questions, and references answers in a json file\n",
    "with open(\"llama.json\", \"w\") as f:\n",
    "    for e in shuffled:\n",
    "        f.write(\n",
    "            json.dumps(\n",
    "                {\n",
    "                    \"context\": e[\"context\"],\n",
    "                    \"question\": e[\"question\"],\n",
    "                    \"answers\": e[\"answers\"][\"text\"][0],\n",
    "                }\n",
    "            )\n",
    "            + \",\\n\"\n",
    "        )"
   ]
  },
  {
   "cell_type": "code",
   "execution_count": 21,
   "metadata": {},
   "outputs": [
    {
     "name": "stdout",
     "output_type": "stream",
     "text": [
      "> Prediction:  What is the name of the big park in the northern Mokotów \n",
      " Original: Where was the first horse racetrack located? \n",
      "\n"
     ]
    }
   ],
   "source": [
    "example = valid_dataset[2]\n",
    "sequences = pipeline(\n",
    "            example['text'],\n",
    "            eos_token_id=tokenizer.eos_token_id,\n",
    "            pad_token_id=tokenizer.eos_token_id,\n",
    "            max_length=512\n",
    "        )\n",
    "prediction = str([s[\"generated_text\"] for s in sequences])\n",
    "print(\"> Prediction:\", prediction.split(TOKEN_QUESTION)[1].split('?')[0], \"\\n\", \"> Original:\", example[\"question\"], \"\\n\") "
   ]
  },
  {
   "cell_type": "code",
   "execution_count": 30,
   "metadata": {},
   "outputs": [
    {
     "name": "stderr",
     "output_type": "stream",
     "text": [
      "  0%|          | 0/100 [00:00<?, ?it/s]"
     ]
    },
    {
     "name": "stderr",
     "output_type": "stream",
     "text": [
      "/storagenfs/l.miglior/answer-aware-question-generation/.venv/lib/python3.10/site-packages/transformers/pipelines/base.py:1101: UserWarning: You seem to be using the pipelines sequentially on GPU. In order to maximize efficiency please use a dataset\n",
      "  warnings.warn(\n",
      "  1%|          | 1/100 [00:27<45:57, 27.85s/it]"
     ]
    },
    {
     "name": "stdout",
     "output_type": "stream",
     "text": [
      "> Prediction:  What is the main problem with modern schooling \n",
      "> Original: What do critics think the cause of problems with modern schooling is? \n",
      "\n"
     ]
    },
    {
     "name": "stderr",
     "output_type": "stream",
     "text": [
      "  2%|▏         | 2/100 [00:55<45:12, 27.68s/it]"
     ]
    },
    {
     "name": "stdout",
     "output_type": "stream",
     "text": [
      "> Prediction:  What is the most significant difference between primary school and secondary school teaching \n",
      "> Original: What's the biggest difference in the teaching relationship for primary and secondary school? \n",
      "\n"
     ]
    },
    {
     "name": "stderr",
     "output_type": "stream",
     "text": [
      "  3%|▎         | 3/100 [01:25<46:51, 28.99s/it]"
     ]
    },
    {
     "name": "stdout",
     "output_type": "stream",
     "text": [
      "> Prediction:  Who is credited with the invention of the Turing machine \n",
      "> Original: Who was the most influential researcher among those grappling with the deficit of work surrounding the complexity posed by algorithmic problems? \n",
      "\n"
     ]
    },
    {
     "name": "stderr",
     "output_type": "stream",
     "text": [
      "  4%|▍         | 4/100 [01:58<48:44, 30.47s/it]"
     ]
    },
    {
     "name": "stdout",
     "output_type": "stream",
     "text": [
      "> Prediction:  What is another name for a school \n",
      "> Original: Where is another indoor location for a teacher other than a school? \n",
      "\n"
     ]
    },
    {
     "name": "stderr",
     "output_type": "stream",
     "text": [
      "  5%|▌         | 5/100 [02:26<46:33, 29.41s/it]"
     ]
    },
    {
     "name": "stdout",
     "output_type": "stream",
     "text": [
      "> Prediction:  When did Roger de Tosny travel to the Iberian Peninsula \n",
      "> Original: What year did Roger de Tosny fail to accomplish what he set out to do? \n",
      "\n"
     ]
    },
    {
     "name": "stderr",
     "output_type": "stream",
     "text": [
      "  6%|▌         | 6/100 [02:54<45:18, 28.92s/it]"
     ]
    },
    {
     "name": "stdout",
     "output_type": "stream",
     "text": [
      "> Prediction:  Where did Tesla bring injured pigeons to nurse back to health \n",
      "> Original: To what place did he bring the injured pigeons to take care of them? \n",
      "\n"
     ]
    },
    {
     "name": "stderr",
     "output_type": "stream",
     "text": [
      "  7%|▋         | 7/100 [03:19<43:12, 27.88s/it]"
     ]
    },
    {
     "name": "stdout",
     "output_type": "stream",
     "text": [
      "> Prediction:  What is the time complexity of the knapsack problem \n",
      "> Original: How quickly can an algorithm solve an NP-complete knapsack problem? \n",
      "\n"
     ]
    },
    {
     "name": "stderr",
     "output_type": "stream",
     "text": [
      "  8%|▊         | 8/100 [03:44<41:16, 26.91s/it]"
     ]
    },
    {
     "name": "stdout",
     "output_type": "stream",
     "text": [
      "> Prediction:  What did Tesla do for 60 florins a month \n",
      "> Original: What did Tesla work as after dropping out?  \n",
      "\n"
     ]
    },
    {
     "name": "stderr",
     "output_type": "stream",
     "text": [
      "  9%|▉         | 9/100 [04:13<41:54, 27.63s/it]"
     ]
    },
    {
     "name": "stdout",
     "output_type": "stream",
     "text": [
      "> Prediction:  Who bought the rights to the islands from Jean's nephew \n",
      "> Original: Who bought the rights? \n",
      "\n"
     ]
    },
    {
     "name": "stderr",
     "output_type": "stream",
     "text": [
      " 10%|█         | 10/100 [04:39<40:32, 27.03s/it]"
     ]
    },
    {
     "name": "stdout",
     "output_type": "stream",
     "text": [
      "> Prediction:  What motivates the concept of a problem being hard for a complexity class \n",
      "> Original: What would create a conflict between a problem X and problem C within the context of reduction?  \n",
      "\n"
     ]
    },
    {
     "name": "stderr",
     "output_type": "stream",
     "text": [
      " 11%|█         | 11/100 [05:09<41:13, 27.79s/it]"
     ]
    },
    {
     "name": "stdout",
     "output_type": "stream",
     "text": [
      "> Prediction:  What position did Tesla fire because of weight \n",
      "> Original: Who did he fire? \n",
      "\n"
     ]
    },
    {
     "name": "stderr",
     "output_type": "stream",
     "text": [
      " 12%|█▏        | 12/100 [05:35<40:07, 27.35s/it]"
     ]
    },
    {
     "name": "stdout",
     "output_type": "stream",
     "text": [
      "> Prediction:  What is balanced with positive reinforcement \n",
      "> Original: What is the balance for positive reinforcement? \n",
      "\n"
     ]
    },
    {
     "name": "stderr",
     "output_type": "stream",
     "text": [
      " 13%|█▎        | 13/100 [05:58<37:47, 26.07s/it]"
     ]
    },
    {
     "name": "stdout",
     "output_type": "stream",
     "text": [
      "> Prediction:  What time did Tesla have dinner \n",
      "> Original: At what time did Tesla get dinner? \n",
      "\n"
     ]
    },
    {
     "name": "stderr",
     "output_type": "stream",
     "text": [
      " 14%|█▍        | 14/100 [06:21<36:02, 25.14s/it]"
     ]
    },
    {
     "name": "stdout",
     "output_type": "stream",
     "text": [
      "> Prediction:  What does a teacher need to show to have a positive learning experience \n",
      "> Original: What must a teacher show towards the course materials for increase learning? \n",
      "\n"
     ]
    },
    {
     "name": "stderr",
     "output_type": "stream",
     "text": [
      " 15%|█▌        | 15/100 [06:46<35:39, 25.17s/it]"
     ]
    },
    {
     "name": "stdout",
     "output_type": "stream",
     "text": [
      "> Prediction:  In what city did Tesla work for the Budapest Telephone Exchange \n",
      "> Original: Where did Tesla move in 1881? \n",
      "\n"
     ]
    },
    {
     "name": "stderr",
     "output_type": "stream",
     "text": [
      " 16%|█▌        | 16/100 [07:16<36:58, 26.41s/it]"
     ]
    },
    {
     "name": "stdout",
     "output_type": "stream",
     "text": [
      "> Prediction:  What type of military personnel could be targeted by the \"peace ray\" \n",
      "> Original: What ground based group did Tesla think the weapon could be used on? \n",
      "\n"
     ]
    },
    {
     "name": "stderr",
     "output_type": "stream",
     "text": [
      " 17%|█▋        | 17/100 [07:36<33:49, 24.45s/it]"
     ]
    },
    {
     "name": "stdout",
     "output_type": "stream",
     "text": [
      "> Prediction:  What was the date of Tesla's first experiment at his Colorado Springs lab \n",
      "> Original: What date did Tesla begin his Colorado Springs experiments? \n",
      "\n"
     ]
    },
    {
     "name": "stderr",
     "output_type": "stream",
     "text": [
      " 18%|█▊        | 18/100 [08:02<34:21, 25.14s/it]"
     ]
    },
    {
     "name": "stdout",
     "output_type": "stream",
     "text": [
      "> Prediction:  What caused Milutin Tesla's death \n",
      "> Original: What was one of theories as to what caused Tesla's father's unspecified illness? \n",
      "\n"
     ]
    },
    {
     "name": "stderr",
     "output_type": "stream",
     "text": [
      " 19%|█▉        | 19/100 [08:24<32:33, 24.12s/it]"
     ]
    },
    {
     "name": "stdout",
     "output_type": "stream",
     "text": [
      "> Prediction:  What is the population of the greater metropolitan area of Warsaw \n",
      "> Original: How many residents does the greater metropolitan area have? \n",
      "\n"
     ]
    },
    {
     "name": "stderr",
     "output_type": "stream",
     "text": [
      " 20%|██        | 20/100 [08:46<31:06, 23.33s/it]"
     ]
    },
    {
     "name": "stdout",
     "output_type": "stream",
     "text": [
      "> Prediction:  When did the Normans begin to develop a distinct cultural and ethnic identity \n",
      "> Original: What century did the Normans first gain their separate identity? \n",
      "\n"
     ]
    },
    {
     "name": "stderr",
     "output_type": "stream",
     "text": [
      " 21%|██        | 21/100 [09:10<31:14, 23.72s/it]"
     ]
    },
    {
     "name": "stdout",
     "output_type": "stream",
     "text": [
      "> Prediction:  What is the name of the class of complexity classes between P and PSPACE \n",
      "> Original: Where can the complexity classes RP, BPP, PP, BQP, MA, and PH be located? \n",
      "\n"
     ]
    },
    {
     "name": "stderr",
     "output_type": "stream",
     "text": [
      " 22%|██▏       | 22/100 [09:26<27:40, 21.28s/it]"
     ]
    },
    {
     "name": "stdout",
     "output_type": "stream",
     "text": [
      "> Prediction:  Who was illuminated by a Geissler tube \n",
      "> Original: Who was Tesla trying to photograph when he accidentally took the X-Ray image? \n",
      "\n"
     ]
    },
    {
     "name": "stderr",
     "output_type": "stream",
     "text": [
      " 23%|██▎       | 23/100 [09:45<26:40, 20.78s/it]"
     ]
    },
    {
     "name": "stdout",
     "output_type": "stream",
     "text": [
      "> Prediction:  What was the name of the geographical treatise written by al-Idrisi for King Roger II of Sicily \n",
      "> Original: What is another name for the Tabula Rogeriana? \n",
      "\n"
     ]
    },
    {
     "name": "stderr",
     "output_type": "stream",
     "text": [
      " 24%|██▍       | 24/100 [10:05<25:52, 20.42s/it]"
     ]
    },
    {
     "name": "stdout",
     "output_type": "stream",
     "text": [
      "> Prediction:  During his second year of study at what city did Tesla develop a passion for billiards, chess and card-playing \n",
      "> Original: Where was Tesla studying when he started playing cards and billiards? \n",
      "\n"
     ]
    },
    {
     "name": "stderr",
     "output_type": "stream",
     "text": [
      " 25%|██▌       | 25/100 [10:33<28:16, 22.62s/it]"
     ]
    },
    {
     "name": "stdout",
     "output_type": "stream",
     "text": [
      "> Prediction:  What is the class of problems defined using Boolean circuits \n",
      "> Original: AC and NC are complexity classes typically associated with what type of circuit? \n",
      "\n"
     ]
    },
    {
     "name": "stderr",
     "output_type": "stream",
     "text": [
      " 26%|██▌       | 26/100 [10:51<26:24, 21.42s/it]"
     ]
    },
    {
     "name": "stdout",
     "output_type": "stream",
     "text": [
      "> Prediction:  What is the name of the park close to the Sejm and John Lennon street \n",
      "> Original: What park is close to John Lennon street? \n",
      "\n"
     ]
    },
    {
     "name": "stderr",
     "output_type": "stream",
     "text": [
      " 27%|██▋       | 27/100 [11:12<25:41, 21.12s/it]"
     ]
    },
    {
     "name": "stdout",
     "output_type": "stream",
     "text": [
      "> Prediction:  What is the time used to solve a problem \n",
      "> Original: What is the most critical resource measured to in assessing the determination of a Turing machine's ability to solve any given set of problems? \n",
      "\n"
     ]
    },
    {
     "name": "stderr",
     "output_type": "stream",
     "text": [
      " 28%|██▊       | 28/100 [11:32<24:51, 20.71s/it]"
     ]
    },
    {
     "name": "stdout",
     "output_type": "stream",
     "text": [
      "> Prediction:  What is the name of the forest located on the southern border of Warsaw \n",
      "> Original: What forest is by Warsaw's southern border? \n",
      "\n"
     ]
    },
    {
     "name": "stderr",
     "output_type": "stream",
     "text": [
      " 29%|██▉       | 29/100 [12:01<27:30, 23.25s/it]"
     ]
    },
    {
     "name": "stdout",
     "output_type": "stream",
     "text": [
      "> Prediction:  Who may accompany students on field trips \n",
      "> Original: Who might be responsible for student discipline? \n",
      "\n"
     ]
    },
    {
     "name": "stderr",
     "output_type": "stream",
     "text": [
      " 30%|███       | 30/100 [12:22<26:36, 22.80s/it]"
     ]
    },
    {
     "name": "stdout",
     "output_type": "stream",
     "text": [
      "> Prediction:  Who wrote that Tesla was a \"gentlemanly\" person \n",
      "> Original: Who was Tesla's secretary?  \n",
      "\n"
     ]
    },
    {
     "name": "stderr",
     "output_type": "stream",
     "text": [
      " 31%|███       | 31/100 [12:44<25:55, 22.54s/it]"
     ]
    },
    {
     "name": "stdout",
     "output_type": "stream",
     "text": [
      "> Prediction:  What is the population of Warsaw \n",
      "> Original: Where does Warsaw rank in terms of population in the EU? \n",
      "\n"
     ]
    },
    {
     "name": "stderr",
     "output_type": "stream",
     "text": [
      " 32%|███▏      | 32/100 [13:12<27:08, 23.95s/it]"
     ]
    },
    {
     "name": "stdout",
     "output_type": "stream",
     "text": [
      "> Prediction:  When did Tesla state that he had built the death ray \n",
      "> Original: When did Tesla claim to have built the weapon? \n",
      "\n"
     ]
    },
    {
     "name": "stderr",
     "output_type": "stream",
     "text": [
      " 33%|███▎      | 33/100 [13:38<27:40, 24.78s/it]"
     ]
    },
    {
     "name": "stdout",
     "output_type": "stream",
     "text": [
      "> Prediction:  Who partnered with Tesla to finance an electric lighting company \n",
      "> Original: Who did Tesla partner with in 1886? \n",
      "\n"
     ]
    },
    {
     "name": "stderr",
     "output_type": "stream",
     "text": [
      " 34%|███▍      | 34/100 [14:06<28:18, 25.73s/it]"
     ]
    },
    {
     "name": "stdout",
     "output_type": "stream",
     "text": [
      "> Prediction:  What city was invaded by the Normans in 1185 \n",
      "> Original: What was the naval base called? \n",
      "\n"
     ]
    },
    {
     "name": "stderr",
     "output_type": "stream",
     "text": [
      " 35%|███▌      | 35/100 [14:35<28:59, 26.76s/it]"
     ]
    },
    {
     "name": "stdout",
     "output_type": "stream",
     "text": [
      "> Prediction:  What complexity classes are between P and L \n",
      "> Original: What are two complexity classes between L and P? \n",
      "\n"
     ]
    },
    {
     "name": "stderr",
     "output_type": "stream",
     "text": [
      " 36%|███▌      | 36/100 [15:00<27:45, 26.02s/it]"
     ]
    },
    {
     "name": "stdout",
     "output_type": "stream",
     "text": [
      "> Prediction:  What has begun to shape the way teachers approach their roles in the classroom \n",
      "> Original: What has started to change the way teachers teach in the classroom, generally? \n",
      "\n"
     ]
    },
    {
     "name": "stderr",
     "output_type": "stream",
     "text": [
      " 37%|███▋      | 37/100 [15:19<25:06, 23.92s/it]"
     ]
    },
    {
     "name": "stdout",
     "output_type": "stream",
     "text": [
      "> Prediction:  Who purchased the FSO Car Factory in 2005 \n",
      "> Original: Who bought the factory in 2005? \n",
      "\n"
     ]
    },
    {
     "name": "stderr",
     "output_type": "stream",
     "text": [
      " 38%|███▊      | 38/100 [15:45<25:28, 24.65s/it]"
     ]
    },
    {
     "name": "stdout",
     "output_type": "stream",
     "text": [
      "> Prediction:  What groups advocate a more assertive and confrontational style of discipline \n",
      "> Original: Who wants a more confrontational type of discipline? \n",
      "\n"
     ]
    },
    {
     "name": "stderr",
     "output_type": "stream",
     "text": [
      " 39%|███▉      | 39/100 [16:08<24:29, 24.08s/it]"
     ]
    },
    {
     "name": "stdout",
     "output_type": "stream",
     "text": [
      "> Prediction:  Who was the despot of Cyprus \n",
      "> Original: Who ruled Cyprus in 1191? \n",
      "\n"
     ]
    },
    {
     "name": "stderr",
     "output_type": "stream",
     "text": [
      " 40%|████      | 40/100 [16:34<24:33, 24.57s/it]"
     ]
    },
    {
     "name": "stdout",
     "output_type": "stream",
     "text": [
      "> Prediction:  Who led the papal army in the War of Barbastro \n",
      "> Original: Who was in charge of the papal army in the War of Barbastro? \n",
      "\n"
     ]
    },
    {
     "name": "stderr",
     "output_type": "stream",
     "text": [
      " 41%|████      | 41/100 [17:00<24:48, 25.23s/it]"
     ]
    },
    {
     "name": "stdout",
     "output_type": "stream",
     "text": [
      "> Prediction:  How much did Tesla spend on the injured pigeon \n",
      "> Original: How much did Tesla spend on the injured pigeon? \n",
      "\n"
     ]
    },
    {
     "name": "stderr",
     "output_type": "stream",
     "text": [
      " 42%|████▏     | 42/100 [17:28<25:11, 26.05s/it]"
     ]
    },
    {
     "name": "stdout",
     "output_type": "stream",
     "text": [
      "> Prediction:  What does co-teaching focus on \n",
      "> Original: What does co-teaching get the students to focus on? \n",
      "\n"
     ]
    },
    {
     "name": "stderr",
     "output_type": "stream",
     "text": [
      " 43%|████▎     | 43/100 [17:56<25:16, 26.61s/it]"
     ]
    },
    {
     "name": "stdout",
     "output_type": "stream",
     "text": [
      "> Prediction:  What is the big O notation for T(n) \n",
      "> Original: How would one write T(n) = 7n2 + 15n + 40 in big O notation?  \n",
      "\n"
     ]
    },
    {
     "name": "stderr",
     "output_type": "stream",
     "text": [
      " 44%|████▍     | 44/100 [18:23<24:51, 26.63s/it]"
     ]
    },
    {
     "name": "stdout",
     "output_type": "stream",
     "text": [
      "> Prediction:  What is the advantage of a platoon system \n",
      "> Original: The teacher's in a platoon style teaching are usually more _____? \n",
      "\n"
     ]
    },
    {
     "name": "stderr",
     "output_type": "stream",
     "text": [
      " 45%|████▌     | 45/100 [18:41<21:55, 23.93s/it]"
     ]
    },
    {
     "name": "stdout",
     "output_type": "stream",
     "text": [
      "> Prediction:  How many languages did Tesla speak \n",
      "> Original: How many languages did Tesla know? \n",
      "\n"
     ]
    },
    {
     "name": "stderr",
     "output_type": "stream",
     "text": [
      " 46%|████▌     | 46/100 [19:02<20:47, 23.10s/it]"
     ]
    },
    {
     "name": "stdout",
     "output_type": "stream",
     "text": [
      "> Prediction:  Where did Bohemond sign a peace treaty with the Byzantines \n",
      "> Original: What river was Petrela located by? \n",
      "\n"
     ]
    },
    {
     "name": "stderr",
     "output_type": "stream",
     "text": [
      " 47%|████▋     | 47/100 [19:32<22:18, 25.25s/it]"
     ]
    },
    {
     "name": "stdout",
     "output_type": "stream",
     "text": [
      "> Prediction:  What are complexity measures \n",
      "> Original: Decision tree is an example of what type of measure? \n",
      "\n"
     ]
    },
    {
     "name": "stderr",
     "output_type": "stream",
     "text": [
      " 48%|████▊     | 48/100 [19:56<21:26, 24.74s/it]"
     ]
    },
    {
     "name": "stdout",
     "output_type": "stream",
     "text": [
      "> Prediction:  What time did Tesla often work until \n",
      "> Original: On some nights how late did Tesla work until? \n",
      "\n"
     ]
    },
    {
     "name": "stderr",
     "output_type": "stream",
     "text": [
      " 49%|████▉     | 49/100 [20:26<22:25, 26.39s/it]"
     ]
    },
    {
     "name": "stdout",
     "output_type": "stream",
     "text": [
      "> Prediction:  What type of waves did Tesla observe during this time \n",
      "> Original: What sort of waves did he claim to observe? \n",
      "\n"
     ]
    },
    {
     "name": "stderr",
     "output_type": "stream",
     "text": [
      " 50%|█████     | 50/100 [20:52<21:51, 26.22s/it]"
     ]
    },
    {
     "name": "stdout",
     "output_type": "stream",
     "text": [
      "> Prediction:  What are the City Council's committees \n",
      "> Original: What does the City Council divide itself into? \n",
      "\n"
     ]
    },
    {
     "name": "stderr",
     "output_type": "stream",
     "text": [
      " 51%|█████     | 51/100 [21:16<20:58, 25.69s/it]"
     ]
    },
    {
     "name": "stdout",
     "output_type": "stream",
     "text": [
      "> Prediction:  How did Tesla plan to make dull students bright \n",
      "> Original: What was Tesla's plan to make students \"bright\"? \n",
      "\n"
     ]
    },
    {
     "name": "stderr",
     "output_type": "stream",
     "text": [
      " 52%|█████▏    | 52/100 [21:43<20:56, 26.17s/it]"
     ]
    },
    {
     "name": "stdout",
     "output_type": "stream",
     "text": [
      "> Prediction:  Where did Tesla run away to avoid being drafted into the Austro-Hungarian Army \n",
      "> Original: Where did Tesla run to avoid the army draft? \n",
      "\n"
     ]
    },
    {
     "name": "stderr",
     "output_type": "stream",
     "text": [
      " 53%|█████▎    | 53/100 [22:11<20:49, 26.58s/it]"
     ]
    },
    {
     "name": "stdout",
     "output_type": "stream",
     "text": [
      "> Prediction:  In which country is classroom behavior problematic \n",
      "> Original: What country has higher scores on standardized tests than the U.S.? \n",
      "\n"
     ]
    },
    {
     "name": "stderr",
     "output_type": "stream",
     "text": [
      " 54%|█████▍    | 54/100 [22:39<20:50, 27.18s/it]"
     ]
    },
    {
     "name": "stdout",
     "output_type": "stream",
     "text": [
      "> Prediction:  What did Tesla say helped his scientific abilities \n",
      "> Original: What characteristic did Tesla say helped his scientific abilities? \n",
      "\n"
     ]
    },
    {
     "name": "stderr",
     "output_type": "stream",
     "text": [
      " 55%|█████▌    | 55/100 [22:48<16:16, 21.71s/it]"
     ]
    },
    {
     "name": "stdout",
     "output_type": "stream",
     "text": [
      "> Prediction:  Did Tesla work on Sundays or holidays \n",
      "> Original: Did Tesla graduate from the university? \n",
      "\n"
     ]
    },
    {
     "name": "stderr",
     "output_type": "stream",
     "text": [
      " 56%|█████▌    | 56/100 [23:18<17:40, 24.10s/it]"
     ]
    },
    {
     "name": "stdout",
     "output_type": "stream",
     "text": [
      "> Prediction:  What religions did Tesla have a profound respect for \n",
      "> Original: Which two religions did Tesla express respect for? \n",
      "\n"
     ]
    },
    {
     "name": "stderr",
     "output_type": "stream",
     "text": [
      " 57%|█████▋    | 57/100 [23:46<18:08, 25.31s/it]"
     ]
    },
    {
     "name": "stdout",
     "output_type": "stream",
     "text": [
      "> Prediction:  When did Nikola Tesla die \n",
      "> Original: In what year did Tesla die?  \n",
      "\n"
     ]
    },
    {
     "name": "stderr",
     "output_type": "stream",
     "text": [
      " 58%|█████▊    | 58/100 [24:13<18:05, 25.84s/it]"
     ]
    },
    {
     "name": "stdout",
     "output_type": "stream",
     "text": [
      "> Prediction:  What did Tesla patent in 1891 \n",
      "> Original: What did Tesla patent in 1891? \n",
      "\n"
     ]
    },
    {
     "name": "stderr",
     "output_type": "stream",
     "text": [
      " 59%|█████▉    | 59/100 [24:34<16:35, 24.28s/it]"
     ]
    },
    {
     "name": "stdout",
     "output_type": "stream",
     "text": [
      "> Prediction:  What do proponents of Sudbury model democratic schools argue that a school with has \n",
      "> Original: What must be passed using democratic means by the entire school community? \n",
      "\n"
     ]
    },
    {
     "name": "stderr",
     "output_type": "stream",
     "text": [
      " 60%|██████    | 60/100 [24:59<16:20, 24.52s/it]"
     ]
    },
    {
     "name": "stdout",
     "output_type": "stream",
     "text": [
      "> Prediction:  What have sources discovered that have lain hidden in what \n",
      "> Original:  Where were missing patents later found? \n",
      "\n"
     ]
    },
    {
     "name": "stderr",
     "output_type": "stream",
     "text": [
      " 61%|██████    | 61/100 [25:26<16:25, 25.28s/it]"
     ]
    },
    {
     "name": "stdout",
     "output_type": "stream",
     "text": [
      "> Prediction:  What is the most common alphabet used in computational problems \n",
      "> Original: What is the name of the alphabet is most commonly used in a problem instance? \n",
      "\n"
     ]
    },
    {
     "name": "stderr",
     "output_type": "stream",
     "text": [
      " 62%|██████▏   | 62/100 [25:49<15:31, 24.50s/it]"
     ]
    },
    {
     "name": "stdout",
     "output_type": "stream",
     "text": [
      "> Prediction:  When did Tesla begin his experiments with X-rays \n",
      "> Original: when did tesla begin researching x-ray imaging? \n",
      "\n"
     ]
    },
    {
     "name": "stderr",
     "output_type": "stream",
     "text": [
      " 63%|██████▎   | 63/100 [26:10<14:25, 23.39s/it]"
     ]
    },
    {
     "name": "stdout",
     "output_type": "stream",
     "text": [
      "> Prediction:  Where did Tesla demonstrate his radio-controlled boat \n",
      "> Original: Where was the boat demonstration given? \n",
      "\n"
     ]
    },
    {
     "name": "stderr",
     "output_type": "stream",
     "text": [
      " 64%|██████▍   | 64/100 [26:37<14:46, 24.63s/it]"
     ]
    },
    {
     "name": "stdout",
     "output_type": "stream",
     "text": [
      "> Prediction:  Where did Tesla demonstrate his radio wave theories \n",
      "> Original: What Philadelphia institution did Tesla give a demonstration to? \n",
      "\n"
     ]
    },
    {
     "name": "stderr",
     "output_type": "stream",
     "text": [
      " 65%|██████▌   | 65/100 [27:05<14:59, 25.69s/it]"
     ]
    },
    {
     "name": "stdout",
     "output_type": "stream",
     "text": [
      "> Prediction:  What architectural style did Norman architecture typically stand out as a new stage in the architectural history of the regions they subdued \n",
      "> Original: What is the Norman architecture idiom? \n",
      "\n"
     ]
    },
    {
     "name": "stderr",
     "output_type": "stream",
     "text": [
      " 66%|██████▌   | 66/100 [27:34<15:04, 26.61s/it]"
     ]
    },
    {
     "name": "stdout",
     "output_type": "stream",
     "text": [
      "> Prediction:  What defines a complexity measure \n",
      "> Original: What is typically used to broadly define complexity measures? \n",
      "\n"
     ]
    },
    {
     "name": "stderr",
     "output_type": "stream",
     "text": [
      " 67%|██████▋   | 67/100 [27:43<11:41, 21.25s/it]"
     ]
    },
    {
     "name": "stdout",
     "output_type": "stream",
     "text": [
      "> Prediction:  When did Tesla\\'s father die \n",
      "> Original: In what year did Tesla's father die? \n",
      "\n"
     ]
    },
    {
     "name": "stderr",
     "output_type": "stream",
     "text": [
      " 68%|██████▊   | 68/100 [28:12<12:36, 23.65s/it]"
     ]
    },
    {
     "name": "stdout",
     "output_type": "stream",
     "text": [
      "> Prediction:  What are the bodies designed to instill, preserve and update the knowledge and professional standing of teachers called \n",
      "> Original: What do government's run that affects teachers? \n",
      "\n"
     ]
    },
    {
     "name": "stderr",
     "output_type": "stream",
     "text": [
      " 69%|██████▉   | 69/100 [28:35<12:11, 23.60s/it]"
     ]
    },
    {
     "name": "stdout",
     "output_type": "stream",
     "text": [
      "> Prediction:  What did Tesla do to the patents he had generated \n",
      "> Original: What did Tesla do with his patents causing him to lose them? \n",
      "\n"
     ]
    },
    {
     "name": "stderr",
     "output_type": "stream",
     "text": [
      " 70%|███████   | 70/100 [29:00<11:58, 23.96s/it]"
     ]
    },
    {
     "name": "stdout",
     "output_type": "stream",
     "text": [
      "> Prediction:  What did Tesla believe caused damage to the skin \n",
      "> Original: At first what did Tesla think was the main cause of damage to skin cells when they were exposed to X-rays? \n",
      "\n"
     ]
    },
    {
     "name": "stderr",
     "output_type": "stream",
     "text": [
      " 71%|███████   | 71/100 [29:27<11:56, 24.72s/it]"
     ]
    },
    {
     "name": "stdout",
     "output_type": "stream",
     "text": [
      "> Prediction:  What did Tesla believe humans\\' \"pity\" had interfered with \n",
      "> Original: What was his belief as to what nature was supposed to be? \n",
      "\n"
     ]
    },
    {
     "name": "stderr",
     "output_type": "stream",
     "text": [
      " 72%|███████▏  | 72/100 [29:54<11:52, 25.45s/it]"
     ]
    },
    {
     "name": "stdout",
     "output_type": "stream",
     "text": [
      "> Prediction:  What did Tesla's father promise to do if he recovered from the illness \n",
      "> Original: What bargain did his father make with him if Tesla recovered? \n",
      "\n"
     ]
    },
    {
     "name": "stderr",
     "output_type": "stream",
     "text": [
      " 73%|███████▎  | 73/100 [30:18<11:16, 25.05s/it]"
     ]
    },
    {
     "name": "stdout",
     "output_type": "stream",
     "text": [
      "> Prediction:  What event did Tesla blame for his financial troubles \n",
      "> Original: On what did Tesla blame for the loss of the initial money? \n",
      "\n"
     ]
    },
    {
     "name": "stderr",
     "output_type": "stream",
     "text": [
      " 74%|███████▍  | 74/100 [30:45<11:06, 25.63s/it]"
     ]
    },
    {
     "name": "stdout",
     "output_type": "stream",
     "text": [
      "> Prediction:  What is the most common reduction \n",
      "> Original: What measurement of time is used in polynomial time reduction? \n",
      "\n"
     ]
    },
    {
     "name": "stderr",
     "output_type": "stream",
     "text": [
      " 75%|███████▌  | 75/100 [31:07<10:12, 24.49s/it]"
     ]
    },
    {
     "name": "stdout",
     "output_type": "stream",
     "text": [
      "> Prediction:  What was Tesla\\'s personality like \n",
      "> Original: With what word was Tesla's sociability described? \n",
      "\n"
     ]
    },
    {
     "name": "stderr",
     "output_type": "stream",
     "text": [
      " 76%|███████▌  | 76/100 [31:27<09:17, 23.24s/it]"
     ]
    },
    {
     "name": "stdout",
     "output_type": "stream",
     "text": [
      "> Prediction:  What was the length of Tesla's first spark \n",
      "> Original: What was the recorded length of the first spark? \n",
      "\n"
     ]
    },
    {
     "name": "stderr",
     "output_type": "stream",
     "text": [
      " 77%|███████▋  | 77/100 [31:51<08:58, 23.41s/it]"
     ]
    },
    {
     "name": "stdout",
     "output_type": "stream",
     "text": [
      "> Prediction:  What did commutators require that induction motors did not \n",
      "> Original: What high maintenance part did Tesla's AC motor not require? \n",
      "\n"
     ]
    },
    {
     "name": "stderr",
     "output_type": "stream",
     "text": [
      " 78%|███████▊  | 78/100 [32:22<09:24, 25.67s/it]"
     ]
    },
    {
     "name": "stdout",
     "output_type": "stream",
     "text": [
      "> Prediction:  What is the general consensus on Tesla\\'s religious views \n",
      "> Original: Because of certain statements what was the believed state of his religious views? \n",
      "\n"
     ]
    },
    {
     "name": "stderr",
     "output_type": "stream",
     "text": [
      " 79%|███████▉  | 79/100 [32:49<09:08, 26.12s/it]"
     ]
    },
    {
     "name": "stdout",
     "output_type": "stream",
     "text": [
      "> Prediction:  What book did Tesla publish in 1900 \n",
      "> Original: What was one of Tesla's books where articles can be read? \n",
      "\n"
     ]
    },
    {
     "name": "stderr",
     "output_type": "stream",
     "text": [
      " 80%|████████  | 80/100 [33:16<08:44, 26.25s/it]"
     ]
    },
    {
     "name": "stdout",
     "output_type": "stream",
     "text": [
      "> Prediction:  In what year did Tesla state that he believed in eugenics \n",
      "> Original: When did he talk about his beliefs in an interview? \n",
      "\n"
     ]
    },
    {
     "name": "stderr",
     "output_type": "stream",
     "text": [
      " 81%|████████  | 81/100 [33:38<07:55, 25.00s/it]"
     ]
    },
    {
     "name": "stdout",
     "output_type": "stream",
     "text": [
      "> Prediction:  What organization did Tesla demonstrate his alternating current system to \n",
      "> Original: What is the IEEE? \n",
      "\n"
     ]
    },
    {
     "name": "stderr",
     "output_type": "stream",
     "text": [
      " 82%|████████▏ | 82/100 [34:00<07:13, 24.09s/it]"
     ]
    },
    {
     "name": "stdout",
     "output_type": "stream",
     "text": [
      "> Prediction:  What banner was used to announce the demonstration of the Tesla Polyphase System \n",
      "> Original: What did Tesla call his electrical effects in 1893? \n",
      "\n"
     ]
    },
    {
     "name": "stderr",
     "output_type": "stream",
     "text": [
      " 83%|████████▎ | 83/100 [34:30<07:21, 25.99s/it]"
     ]
    },
    {
     "name": "stdout",
     "output_type": "stream",
     "text": [
      "> Prediction:  What happened to the contents of Tesla's lab in 1906 \n",
      "> Original: What happened to the things inside the lab after it was torn down? \n",
      "\n"
     ]
    },
    {
     "name": "stderr",
     "output_type": "stream",
     "text": [
      " 84%|████████▍ | 84/100 [34:55<06:49, 25.59s/it]"
     ]
    },
    {
     "name": "stdout",
     "output_type": "stream",
     "text": [
      "> Prediction:  What is the answer to the question \n",
      "> Original: What will the output be for a member of the language of a decision problem? \n",
      "\n"
     ]
    },
    {
     "name": "stderr",
     "output_type": "stream",
     "text": [
      " 85%|████████▌ | 85/100 [35:19<06:17, 25.17s/it]"
     ]
    },
    {
     "name": "stdout",
     "output_type": "stream",
     "text": [
      "> Prediction:  What did Tesla theorize would enhance intelligence \n",
      "> Original: What did Tesla think could improve the brain's intelligence? \n",
      "\n"
     ]
    },
    {
     "name": "stderr",
     "output_type": "stream",
     "text": [
      " 86%|████████▌ | 86/100 [35:41<05:38, 24.20s/it]"
     ]
    },
    {
     "name": "stdout",
     "output_type": "stream",
     "text": [
      "> Prediction:  Where is the treatise currently located \n",
      "> Original: Where can the Treatise be found? \n",
      "\n"
     ]
    },
    {
     "name": "stderr",
     "output_type": "stream",
     "text": [
      " 87%|████████▋ | 87/100 [36:06<05:18, 24.49s/it]"
     ]
    },
    {
     "name": "stdout",
     "output_type": "stream",
     "text": [
      "> Prediction:  What is the name of the problem that is NP-complete \n",
      "> Original: What is the example of another problem characterized by large instances that is routinely solved by SAT handlers employing efficient algorithms? \n",
      "\n"
     ]
    },
    {
     "name": "stderr",
     "output_type": "stream",
     "text": [
      " 88%|████████▊ | 88/100 [36:28<04:45, 23.79s/it]"
     ]
    },
    {
     "name": "stdout",
     "output_type": "stream",
     "text": [
      "> Prediction:  What is the basis for the complexity class P \n",
      "> Original: What thesis specifies that a polynomial relationship exists within time complexities in a computational model?  \n",
      "\n"
     ]
    },
    {
     "name": "stderr",
     "output_type": "stream",
     "text": [
      " 89%|████████▉ | 89/100 [36:51<04:18, 23.52s/it]"
     ]
    },
    {
     "name": "stdout",
     "output_type": "stream",
     "text": [
      "> Prediction:  When did Richard the Lion-hearted leave Messina with a large fleet \n",
      "> Original: What year did the storm hit Richard's fleet? \n",
      "\n"
     ]
    },
    {
     "name": "stderr",
     "output_type": "stream",
     "text": [
      " 90%|█████████ | 90/100 [37:18<04:06, 24.66s/it]"
     ]
    },
    {
     "name": "stdout",
     "output_type": "stream",
     "text": [
      "> Prediction:  Tesla's father originally wanted him to do what \n",
      "> Original: What did Tesla's father originally want him to do? \n",
      "\n"
     ]
    },
    {
     "name": "stderr",
     "output_type": "stream",
     "text": [
      " 91%|█████████ | 91/100 [37:36<03:21, 22.44s/it]"
     ]
    },
    {
     "name": "stdout",
     "output_type": "stream",
     "text": [
      "> Prediction:  What does the teacher do to the cocky \n",
      "> Original: What would a teacher do for someone who is cocky? \n",
      "\n"
     ]
    },
    {
     "name": "stderr",
     "output_type": "stream",
     "text": [
      " 92%|█████████▏| 92/100 [37:58<03:00, 22.54s/it]"
     ]
    },
    {
     "name": "stdout",
     "output_type": "stream",
     "text": [
      "> Prediction:  What did Tesla call his X-ray imaging experiments \n",
      "> Original: What did Tesla begin to research in March 1896? \n",
      "\n"
     ]
    },
    {
     "name": "stderr",
     "output_type": "stream",
     "text": [
      " 93%|█████████▎| 93/100 [38:31<02:58, 25.45s/it]"
     ]
    },
    {
     "name": "stdout",
     "output_type": "stream",
     "text": [
      "> Prediction:  What religion was Tesla raised in \n",
      "> Original: What religion did Tesla grow up in? \n",
      "\n"
     ]
    },
    {
     "name": "stderr",
     "output_type": "stream",
     "text": [
      " 94%|█████████▍| 94/100 [38:54<02:29, 24.91s/it]"
     ]
    },
    {
     "name": "stdout",
     "output_type": "stream",
     "text": [
      "> Prediction:  What does the word \"passion\" mean \n",
      "> Original: What gets transferred to students who are receptive to the teacher? \n",
      "\n"
     ]
    },
    {
     "name": "stderr",
     "output_type": "stream",
     "text": [
      " 95%|█████████▌| 95/100 [39:03<01:39, 19.92s/it]"
     ]
    },
    {
     "name": "stdout",
     "output_type": "stream",
     "text": [
      "> Prediction:  What was the total nominal GDP of the city in 2010 \n",
      "> Original: What was the total nominal GDP of Warsaw in 2010? \n",
      "\n"
     ]
    },
    {
     "name": "stderr",
     "output_type": "stream",
     "text": [
      " 96%|█████████▌| 96/100 [39:33<01:32, 23.00s/it]"
     ]
    },
    {
     "name": "stdout",
     "output_type": "stream",
     "text": [
      "> Prediction:  What was Tesla's method of accurately determining the location of underground mineral deposits \n",
      "> Original: What did he hope to locate underground? \n",
      "\n"
     ]
    },
    {
     "name": "stderr",
     "output_type": "stream",
     "text": [
      " 97%|█████████▋| 97/100 [39:46<01:00, 20.09s/it]"
     ]
    },
    {
     "name": "stdout",
     "output_type": "stream",
     "text": [
      "> Prediction:  What culture did the Normans have a profound effect on \n",
      "> Original: What culture did the Normans combine with in Ireland? \n",
      "\n"
     ]
    },
    {
     "name": "stderr",
     "output_type": "stream",
     "text": [
      " 98%|█████████▊| 98/100 [40:13<00:44, 22.10s/it]"
     ]
    },
    {
     "name": "stdout",
     "output_type": "stream",
     "text": [
      "> Prediction:  What did Tesla believe X-rays to be \n",
      "> Original: What did tesla incorrectly believe about x-rays? \n",
      "\n"
     ]
    },
    {
     "name": "stderr",
     "output_type": "stream",
     "text": [
      " 99%|█████████▉| 99/100 [40:32<00:21, 21.19s/it]"
     ]
    },
    {
     "name": "stdout",
     "output_type": "stream",
     "text": [
      "> Prediction:  Who was awarded the contract to build the AC distribution system at the Niagara Falls \n",
      "> Original: What company was chosen to build an AC distribution system at Niagara Falls? \n",
      "\n"
     ]
    },
    {
     "name": "stderr",
     "output_type": "stream",
     "text": [
      "100%|██████████| 100/100 [40:54<00:00, 24.54s/it]"
     ]
    },
    {
     "name": "stdout",
     "output_type": "stream",
     "text": [
      "> Prediction:  What is the main focus of complexity theory \n",
      "> Original: Complexity theory classifies problems based on what primary attribute? \n",
      "\n"
     ]
    },
    {
     "name": "stderr",
     "output_type": "stream",
     "text": [
      "\n"
     ]
    }
   ],
   "source": [
    "predictions = []\n",
    "references = []\n",
    "contexes = []\n",
    "\n",
    "for examples in tqdm(valid_dataset.shuffle(SPLIT_SEED).select(range(100))):\n",
    "    sequences = pipeline(\n",
    "            examples['text'],\n",
    "            eos_token_id=tokenizer.eos_token_id,\n",
    "            pad_token_id=tokenizer.eos_token_id,\n",
    "            max_length=512\n",
    "        )\n",
    "    prediction = str([s[\"generated_text\"] for s in sequences])\n",
    "    predictions.append(prediction.split(TOKEN_QUESTION)[1].split('?')[0] + \"?\")\n",
    "    references.append(examples[\"question\"])\n",
    "    contexes.append(examples[\"context\"])\n",
    "    print(\"> Prediction:\", prediction.split(TOKEN_QUESTION)[1].split('?')[0], \"\\n\" + \"> Original:\", examples[\"question\"], \"\\n\") "
   ]
  },
  {
   "cell_type": "code",
   "execution_count": 39,
   "metadata": {},
   "outputs": [
    {
     "data": {
      "text/plain": [
       "0.9142226606607438"
      ]
     },
     "execution_count": 39,
     "metadata": {},
     "output_type": "execute_result"
    }
   ],
   "source": [
    "import numpy as np\n",
    "np.mean(bertscore.compute(predictions=predictions, references=references, lang=\"en\")['f1'])"
   ]
  },
  {
   "cell_type": "code",
   "execution_count": 33,
   "metadata": {},
   "outputs": [],
   "source": [
    "# save scores\n",
    "metrics = {\n",
    "    \"bertscore\": bertscore.compute(predictions=predictions, references=references, lang=\"en\"),\n",
    "    \"rouge\": rouge.compute(predictions=predictions, references=references),\n",
    "    \"predictions\": predictions,\n",
    "    \"references\": references,\n",
    "    \"contexes\": contexes\n",
    "}\n",
    "\n",
    "with open(\"results/llama-7B/eval.json\", \"w\") as f:\n",
    "    json.dump(metrics, f)"
   ]
  },
  {
   "cell_type": "code",
   "execution_count": null,
   "metadata": {},
   "outputs": [],
   "source": []
  }
 ],
 "metadata": {
  "kernelspec": {
   "display_name": ".venv",
   "language": "python",
   "name": "python3"
  },
  "language_info": {
   "codemirror_mode": {
    "name": "ipython",
    "version": 3
   },
   "file_extension": ".py",
   "mimetype": "text/x-python",
   "name": "python",
   "nbconvert_exporter": "python",
   "pygments_lexer": "ipython3",
   "version": "3.10.13"
  }
 },
 "nbformat": 4,
 "nbformat_minor": 2
}
