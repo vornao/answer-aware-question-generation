{
 "cells": [
  {
   "cell_type": "code",
   "execution_count": 1,
   "id": "3dd9e80e",
   "metadata": {},
   "outputs": [],
   "source": [
    "from tqdm import tqdm\n",
    "from datasets import load_dataset, DatasetDict, concatenate_datasets\n",
    "from IPython.display import HTML\n",
    "from markdownify import markdownify as md\n",
    "import re\n",
    "import numpy as np"
   ]
  },
  {
   "cell_type": "code",
   "execution_count": 3,
   "id": "dc821970-efdb-407f-bd79-59da09323280",
   "metadata": {
    "scrolled": true,
    "tags": []
   },
   "outputs": [
    {
     "ename": "KeyboardInterrupt",
     "evalue": "",
     "output_type": "error",
     "traceback": [
      "\u001b[0;31m---------------------------------------------------------------------------\u001b[0m",
      "\u001b[0;31mKeyboardInterrupt\u001b[0m                         Traceback (most recent call last)",
      "\u001b[1;32m/storagenfs/l.miglior/hlt-project/StackExchangeProcessing.ipynb Cell 2\u001b[0m line \u001b[0;36m1\n\u001b[0;32m----> <a href='vscode-notebook-cell://ssh-remote%2Bhlt/storagenfs/l.miglior/hlt-project/StackExchangeProcessing.ipynb#W1sdnNjb2RlLXJlbW90ZQ%3D%3D?line=0'>1</a>\u001b[0m dataset \u001b[39m=\u001b[39m load_dataset(\u001b[39m\"\u001b[39;49m\u001b[39mHuggingFaceH4/stack-exchange-preferences\u001b[39;49m\u001b[39m\"\u001b[39;49m, num_proc\u001b[39m=\u001b[39;49m\u001b[39m32\u001b[39;49m)\n",
      "File \u001b[0;32m~/hlt-project/.venv/lib/python3.11/site-packages/datasets/load.py:2129\u001b[0m, in \u001b[0;36mload_dataset\u001b[0;34m(path, name, data_dir, data_files, split, cache_dir, features, download_config, download_mode, verification_mode, ignore_verifications, keep_in_memory, save_infos, revision, token, use_auth_token, task, streaming, num_proc, storage_options, **config_kwargs)\u001b[0m\n\u001b[1;32m   2124\u001b[0m verification_mode \u001b[39m=\u001b[39m VerificationMode(\n\u001b[1;32m   2125\u001b[0m     (verification_mode \u001b[39mor\u001b[39;00m VerificationMode\u001b[39m.\u001b[39mBASIC_CHECKS) \u001b[39mif\u001b[39;00m \u001b[39mnot\u001b[39;00m save_infos \u001b[39melse\u001b[39;00m VerificationMode\u001b[39m.\u001b[39mALL_CHECKS\n\u001b[1;32m   2126\u001b[0m )\n\u001b[1;32m   2128\u001b[0m \u001b[39m# Create a dataset builder\u001b[39;00m\n\u001b[0;32m-> 2129\u001b[0m builder_instance \u001b[39m=\u001b[39m load_dataset_builder(\n\u001b[1;32m   2130\u001b[0m     path\u001b[39m=\u001b[39;49mpath,\n\u001b[1;32m   2131\u001b[0m     name\u001b[39m=\u001b[39;49mname,\n\u001b[1;32m   2132\u001b[0m     data_dir\u001b[39m=\u001b[39;49mdata_dir,\n\u001b[1;32m   2133\u001b[0m     data_files\u001b[39m=\u001b[39;49mdata_files,\n\u001b[1;32m   2134\u001b[0m     cache_dir\u001b[39m=\u001b[39;49mcache_dir,\n\u001b[1;32m   2135\u001b[0m     features\u001b[39m=\u001b[39;49mfeatures,\n\u001b[1;32m   2136\u001b[0m     download_config\u001b[39m=\u001b[39;49mdownload_config,\n\u001b[1;32m   2137\u001b[0m     download_mode\u001b[39m=\u001b[39;49mdownload_mode,\n\u001b[1;32m   2138\u001b[0m     revision\u001b[39m=\u001b[39;49mrevision,\n\u001b[1;32m   2139\u001b[0m     token\u001b[39m=\u001b[39;49mtoken,\n\u001b[1;32m   2140\u001b[0m     storage_options\u001b[39m=\u001b[39;49mstorage_options,\n\u001b[1;32m   2141\u001b[0m     \u001b[39m*\u001b[39;49m\u001b[39m*\u001b[39;49mconfig_kwargs,\n\u001b[1;32m   2142\u001b[0m )\n\u001b[1;32m   2144\u001b[0m \u001b[39m# Return iterable dataset in case of streaming\u001b[39;00m\n\u001b[1;32m   2145\u001b[0m \u001b[39mif\u001b[39;00m streaming:\n",
      "File \u001b[0;32m~/hlt-project/.venv/lib/python3.11/site-packages/datasets/load.py:1815\u001b[0m, in \u001b[0;36mload_dataset_builder\u001b[0;34m(path, name, data_dir, data_files, cache_dir, features, download_config, download_mode, revision, token, use_auth_token, storage_options, **config_kwargs)\u001b[0m\n\u001b[1;32m   1813\u001b[0m     download_config \u001b[39m=\u001b[39m download_config\u001b[39m.\u001b[39mcopy() \u001b[39mif\u001b[39;00m download_config \u001b[39melse\u001b[39;00m DownloadConfig()\n\u001b[1;32m   1814\u001b[0m     download_config\u001b[39m.\u001b[39mstorage_options\u001b[39m.\u001b[39mupdate(storage_options)\n\u001b[0;32m-> 1815\u001b[0m dataset_module \u001b[39m=\u001b[39m dataset_module_factory(\n\u001b[1;32m   1816\u001b[0m     path,\n\u001b[1;32m   1817\u001b[0m     revision\u001b[39m=\u001b[39;49mrevision,\n\u001b[1;32m   1818\u001b[0m     download_config\u001b[39m=\u001b[39;49mdownload_config,\n\u001b[1;32m   1819\u001b[0m     download_mode\u001b[39m=\u001b[39;49mdownload_mode,\n\u001b[1;32m   1820\u001b[0m     data_dir\u001b[39m=\u001b[39;49mdata_dir,\n\u001b[1;32m   1821\u001b[0m     data_files\u001b[39m=\u001b[39;49mdata_files,\n\u001b[1;32m   1822\u001b[0m )\n\u001b[1;32m   1823\u001b[0m \u001b[39m# Get dataset builder class from the processing script\u001b[39;00m\n\u001b[1;32m   1824\u001b[0m builder_kwargs \u001b[39m=\u001b[39m dataset_module\u001b[39m.\u001b[39mbuilder_kwargs\n",
      "File \u001b[0;32m~/hlt-project/.venv/lib/python3.11/site-packages/datasets/load.py:1496\u001b[0m, in \u001b[0;36mdataset_module_factory\u001b[0;34m(path, revision, download_config, download_mode, dynamic_modules_path, data_dir, data_files, **download_kwargs)\u001b[0m\n\u001b[1;32m   1481\u001b[0m         \u001b[39mreturn\u001b[39;00m HubDatasetModuleFactoryWithScript(\n\u001b[1;32m   1482\u001b[0m             path,\n\u001b[1;32m   1483\u001b[0m             revision\u001b[39m=\u001b[39mrevision,\n\u001b[0;32m   (...)\u001b[0m\n\u001b[1;32m   1486\u001b[0m             dynamic_modules_path\u001b[39m=\u001b[39mdynamic_modules_path,\n\u001b[1;32m   1487\u001b[0m         )\u001b[39m.\u001b[39mget_module()\n\u001b[1;32m   1488\u001b[0m     \u001b[39melse\u001b[39;00m:\n\u001b[1;32m   1489\u001b[0m         \u001b[39mreturn\u001b[39;00m HubDatasetModuleFactoryWithoutScript(\n\u001b[1;32m   1490\u001b[0m             path,\n\u001b[1;32m   1491\u001b[0m             revision\u001b[39m=\u001b[39;49mrevision,\n\u001b[1;32m   1492\u001b[0m             data_dir\u001b[39m=\u001b[39;49mdata_dir,\n\u001b[1;32m   1493\u001b[0m             data_files\u001b[39m=\u001b[39;49mdata_files,\n\u001b[1;32m   1494\u001b[0m             download_config\u001b[39m=\u001b[39;49mdownload_config,\n\u001b[1;32m   1495\u001b[0m             download_mode\u001b[39m=\u001b[39;49mdownload_mode,\n\u001b[0;32m-> 1496\u001b[0m         )\u001b[39m.\u001b[39;49mget_module()\n\u001b[1;32m   1497\u001b[0m \u001b[39mexcept\u001b[39;00m (\n\u001b[1;32m   1498\u001b[0m     \u001b[39mException\u001b[39;00m\n\u001b[1;32m   1499\u001b[0m ) \u001b[39mas\u001b[39;00m e1:  \u001b[39m# noqa all the attempts failed, before raising the error we should check if the module is already cached.\u001b[39;00m\n\u001b[1;32m   1500\u001b[0m     \u001b[39mtry\u001b[39;00m:\n",
      "File \u001b[0;32m~/hlt-project/.venv/lib/python3.11/site-packages/datasets/load.py:1047\u001b[0m, in \u001b[0;36mHubDatasetModuleFactoryWithoutScript.get_module\u001b[0;34m(self)\u001b[0m\n\u001b[1;32m   1045\u001b[0m     patterns \u001b[39m=\u001b[39m sanitize_patterns(\u001b[39mnext\u001b[39m(\u001b[39miter\u001b[39m(metadata_configs\u001b[39m.\u001b[39mvalues()))[\u001b[39m\"\u001b[39m\u001b[39mdata_files\u001b[39m\u001b[39m\"\u001b[39m])\n\u001b[1;32m   1046\u001b[0m \u001b[39melse\u001b[39;00m:\n\u001b[0;32m-> 1047\u001b[0m     patterns \u001b[39m=\u001b[39m get_data_patterns(base_path, download_config\u001b[39m=\u001b[39;49m\u001b[39mself\u001b[39;49m\u001b[39m.\u001b[39;49mdownload_config)\n\u001b[1;32m   1048\u001b[0m data_files \u001b[39m=\u001b[39m DataFilesDict\u001b[39m.\u001b[39mfrom_patterns(\n\u001b[1;32m   1049\u001b[0m     patterns,\n\u001b[1;32m   1050\u001b[0m     base_path\u001b[39m=\u001b[39mbase_path,\n\u001b[1;32m   1051\u001b[0m     allowed_extensions\u001b[39m=\u001b[39mALL_ALLOWED_EXTENSIONS,\n\u001b[1;32m   1052\u001b[0m     download_config\u001b[39m=\u001b[39m\u001b[39mself\u001b[39m\u001b[39m.\u001b[39mdownload_config,\n\u001b[1;32m   1053\u001b[0m )\n\u001b[1;32m   1054\u001b[0m module_name, default_builder_kwargs \u001b[39m=\u001b[39m infer_module_for_data_files(\n\u001b[1;32m   1055\u001b[0m     data_files\u001b[39m=\u001b[39mdata_files,\n\u001b[1;32m   1056\u001b[0m     path\u001b[39m=\u001b[39m\u001b[39mself\u001b[39m\u001b[39m.\u001b[39mname,\n\u001b[1;32m   1057\u001b[0m     download_config\u001b[39m=\u001b[39m\u001b[39mself\u001b[39m\u001b[39m.\u001b[39mdownload_config,\n\u001b[1;32m   1058\u001b[0m )\n",
      "File \u001b[0;32m~/hlt-project/.venv/lib/python3.11/site-packages/datasets/data_files.py:458\u001b[0m, in \u001b[0;36mget_data_patterns\u001b[0;34m(base_path, download_config)\u001b[0m\n\u001b[1;32m    456\u001b[0m resolver \u001b[39m=\u001b[39m partial(resolve_pattern, base_path\u001b[39m=\u001b[39mbase_path, download_config\u001b[39m=\u001b[39mdownload_config)\n\u001b[1;32m    457\u001b[0m \u001b[39mtry\u001b[39;00m:\n\u001b[0;32m--> 458\u001b[0m     \u001b[39mreturn\u001b[39;00m _get_data_files_patterns(resolver)\n\u001b[1;32m    459\u001b[0m \u001b[39mexcept\u001b[39;00m \u001b[39mFileNotFoundError\u001b[39;00m:\n\u001b[1;32m    460\u001b[0m     \u001b[39mraise\u001b[39;00m EmptyDatasetError(\u001b[39mf\u001b[39m\u001b[39m\"\u001b[39m\u001b[39mThe directory at \u001b[39m\u001b[39m{\u001b[39;00mbase_path\u001b[39m}\u001b[39;00m\u001b[39m doesn\u001b[39m\u001b[39m'\u001b[39m\u001b[39mt contain any data files\u001b[39m\u001b[39m\"\u001b[39m) \u001b[39mfrom\u001b[39;00m \u001b[39mNone\u001b[39;00m\n",
      "File \u001b[0;32m~/hlt-project/.venv/lib/python3.11/site-packages/datasets/data_files.py:249\u001b[0m, in \u001b[0;36m_get_data_files_patterns\u001b[0;34m(pattern_resolver)\u001b[0m\n\u001b[1;32m    247\u001b[0m \u001b[39mfor\u001b[39;00m pattern \u001b[39min\u001b[39;00m patterns:\n\u001b[1;32m    248\u001b[0m     \u001b[39mtry\u001b[39;00m:\n\u001b[0;32m--> 249\u001b[0m         data_files \u001b[39m=\u001b[39m pattern_resolver(pattern)\n\u001b[1;32m    250\u001b[0m     \u001b[39mexcept\u001b[39;00m \u001b[39mFileNotFoundError\u001b[39;00m:\n\u001b[1;32m    251\u001b[0m         \u001b[39mcontinue\u001b[39;00m\n",
      "File \u001b[0;32m~/hlt-project/.venv/lib/python3.11/site-packages/datasets/data_files.py:333\u001b[0m, in \u001b[0;36mresolve_pattern\u001b[0;34m(pattern, base_path, allowed_extensions, download_config)\u001b[0m\n\u001b[1;32m    331\u001b[0m     base_path \u001b[39m=\u001b[39m \u001b[39m\"\u001b[39m\u001b[39m\"\u001b[39m\n\u001b[1;32m    332\u001b[0m pattern, storage_options \u001b[39m=\u001b[39m _prepare_path_and_storage_options(pattern, download_config\u001b[39m=\u001b[39mdownload_config)\n\u001b[0;32m--> 333\u001b[0m fs, _, _ \u001b[39m=\u001b[39m get_fs_token_paths(pattern, storage_options\u001b[39m=\u001b[39;49mstorage_options)\n\u001b[1;32m    334\u001b[0m fs_base_path \u001b[39m=\u001b[39m base_path\u001b[39m.\u001b[39msplit(\u001b[39m\"\u001b[39m\u001b[39m::\u001b[39m\u001b[39m\"\u001b[39m)[\u001b[39m0\u001b[39m]\u001b[39m.\u001b[39msplit(\u001b[39m\"\u001b[39m\u001b[39m://\u001b[39m\u001b[39m\"\u001b[39m)[\u001b[39m-\u001b[39m\u001b[39m1\u001b[39m] \u001b[39mor\u001b[39;00m fs\u001b[39m.\u001b[39mroot_marker\n\u001b[1;32m    335\u001b[0m fs_pattern \u001b[39m=\u001b[39m pattern\u001b[39m.\u001b[39msplit(\u001b[39m\"\u001b[39m\u001b[39m::\u001b[39m\u001b[39m\"\u001b[39m)[\u001b[39m0\u001b[39m]\u001b[39m.\u001b[39msplit(\u001b[39m\"\u001b[39m\u001b[39m://\u001b[39m\u001b[39m\"\u001b[39m)[\u001b[39m-\u001b[39m\u001b[39m1\u001b[39m]\n",
      "File \u001b[0;32m~/hlt-project/.venv/lib/python3.11/site-packages/fsspec/core.py:625\u001b[0m, in \u001b[0;36mget_fs_token_paths\u001b[0;34m(urlpath, mode, num, name_function, storage_options, protocol, expand)\u001b[0m\n\u001b[1;32m    623\u001b[0m     paths \u001b[39m=\u001b[39m _expand_paths(paths, name_function, num)\n\u001b[1;32m    624\u001b[0m \u001b[39melif\u001b[39;00m \u001b[39m\"\u001b[39m\u001b[39m*\u001b[39m\u001b[39m\"\u001b[39m \u001b[39min\u001b[39;00m paths:\n\u001b[0;32m--> 625\u001b[0m     paths \u001b[39m=\u001b[39m [f \u001b[39mfor\u001b[39;00m f \u001b[39min\u001b[39;00m \u001b[39msorted\u001b[39m(fs\u001b[39m.\u001b[39;49mglob(paths)) \u001b[39mif\u001b[39;00m \u001b[39mnot\u001b[39;00m fs\u001b[39m.\u001b[39misdir(f)]\n\u001b[1;32m    626\u001b[0m \u001b[39melse\u001b[39;00m:\n\u001b[1;32m    627\u001b[0m     paths \u001b[39m=\u001b[39m [paths]\n",
      "File \u001b[0;32m~/hlt-project/.venv/lib/python3.11/site-packages/fsspec/spec.py:580\u001b[0m, in \u001b[0;36mAbstractFileSystem.glob\u001b[0;34m(self, path, **kwargs)\u001b[0m\n\u001b[1;32m    577\u001b[0m     root \u001b[39m=\u001b[39m \u001b[39m\"\u001b[39m\u001b[39m\"\u001b[39m\n\u001b[1;32m    578\u001b[0m     depth \u001b[39m=\u001b[39m \u001b[39mNone\u001b[39;00m \u001b[39mif\u001b[39;00m \u001b[39m\"\u001b[39m\u001b[39m**\u001b[39m\u001b[39m\"\u001b[39m \u001b[39min\u001b[39;00m path \u001b[39melse\u001b[39;00m path[ind \u001b[39m+\u001b[39m \u001b[39m1\u001b[39m :]\u001b[39m.\u001b[39mcount(\u001b[39m\"\u001b[39m\u001b[39m/\u001b[39m\u001b[39m\"\u001b[39m) \u001b[39m+\u001b[39m \u001b[39m1\u001b[39m\n\u001b[0;32m--> 580\u001b[0m allpaths \u001b[39m=\u001b[39m \u001b[39mself\u001b[39;49m\u001b[39m.\u001b[39;49mfind(root, maxdepth\u001b[39m=\u001b[39;49mdepth, withdirs\u001b[39m=\u001b[39;49m\u001b[39mTrue\u001b[39;49;00m, detail\u001b[39m=\u001b[39;49m\u001b[39mTrue\u001b[39;49;00m, \u001b[39m*\u001b[39;49m\u001b[39m*\u001b[39;49mkwargs)\n\u001b[1;32m    581\u001b[0m \u001b[39m# Escape characters special to python regex, leaving our supported\u001b[39;00m\n\u001b[1;32m    582\u001b[0m \u001b[39m# special characters in place.\u001b[39;00m\n\u001b[1;32m    583\u001b[0m \u001b[39m# See https://www.gnu.org/software/bash/manual/html_node/Pattern-Matching.html\u001b[39;00m\n\u001b[1;32m    584\u001b[0m \u001b[39m# for shell globbing details.\u001b[39;00m\n\u001b[1;32m    585\u001b[0m pattern \u001b[39m=\u001b[39m (\n\u001b[1;32m    586\u001b[0m     \u001b[39m\"\u001b[39m\u001b[39m^\u001b[39m\u001b[39m\"\u001b[39m\n\u001b[1;32m    587\u001b[0m     \u001b[39m+\u001b[39m (\n\u001b[0;32m   (...)\u001b[0m\n\u001b[1;32m    602\u001b[0m     \u001b[39m+\u001b[39m \u001b[39m\"\u001b[39m\u001b[39m$\u001b[39m\u001b[39m\"\u001b[39m\n\u001b[1;32m    603\u001b[0m )\n",
      "File \u001b[0;32m~/hlt-project/.venv/lib/python3.11/site-packages/fsspec/spec.py:481\u001b[0m, in \u001b[0;36mAbstractFileSystem.find\u001b[0;34m(self, path, maxdepth, withdirs, detail, **kwargs)\u001b[0m\n\u001b[1;32m    479\u001b[0m path \u001b[39m=\u001b[39m \u001b[39mself\u001b[39m\u001b[39m.\u001b[39m_strip_protocol(path)\n\u001b[1;32m    480\u001b[0m out \u001b[39m=\u001b[39m \u001b[39mdict\u001b[39m()\n\u001b[0;32m--> 481\u001b[0m \u001b[39mfor\u001b[39;49;00m _, dirs, files \u001b[39min\u001b[39;49;00m \u001b[39mself\u001b[39;49m\u001b[39m.\u001b[39;49mwalk(path, maxdepth, detail\u001b[39m=\u001b[39;49m\u001b[39mTrue\u001b[39;49;00m, \u001b[39m*\u001b[39;49m\u001b[39m*\u001b[39;49mkwargs):\n\u001b[1;32m    482\u001b[0m     \u001b[39mif\u001b[39;49;00m withdirs:\n\u001b[1;32m    483\u001b[0m         files\u001b[39m.\u001b[39;49mupdate(dirs)\n",
      "File \u001b[0;32m~/hlt-project/.venv/lib/python3.11/site-packages/fsspec/spec.py:451\u001b[0m, in \u001b[0;36mAbstractFileSystem.walk\u001b[0;34m(self, path, maxdepth, topdown, **kwargs)\u001b[0m\n\u001b[1;32m    448\u001b[0m         \u001b[39mreturn\u001b[39;00m\n\u001b[1;32m    450\u001b[0m \u001b[39mfor\u001b[39;00m d \u001b[39min\u001b[39;00m dirs:\n\u001b[0;32m--> 451\u001b[0m     \u001b[39myield from\u001b[39;00m \u001b[39mself\u001b[39m\u001b[39m.\u001b[39mwalk(\n\u001b[1;32m    452\u001b[0m         full_dirs[d],\n\u001b[1;32m    453\u001b[0m         maxdepth\u001b[39m=\u001b[39mmaxdepth,\n\u001b[1;32m    454\u001b[0m         detail\u001b[39m=\u001b[39mdetail,\n\u001b[1;32m    455\u001b[0m         topdown\u001b[39m=\u001b[39mtopdown,\n\u001b[1;32m    456\u001b[0m         \u001b[39m*\u001b[39m\u001b[39m*\u001b[39mkwargs,\n\u001b[1;32m    457\u001b[0m     )\n\u001b[1;32m    459\u001b[0m \u001b[39mif\u001b[39;00m \u001b[39mnot\u001b[39;00m topdown:\n\u001b[1;32m    460\u001b[0m     \u001b[39m# Yield after recursion if walking bottom up\u001b[39;00m\n\u001b[1;32m    461\u001b[0m     \u001b[39myield\u001b[39;00m path, dirs, files\n",
      "File \u001b[0;32m~/hlt-project/.venv/lib/python3.11/site-packages/fsspec/spec.py:451\u001b[0m, in \u001b[0;36mAbstractFileSystem.walk\u001b[0;34m(self, path, maxdepth, topdown, **kwargs)\u001b[0m\n\u001b[1;32m    448\u001b[0m         \u001b[39mreturn\u001b[39;00m\n\u001b[1;32m    450\u001b[0m \u001b[39mfor\u001b[39;00m d \u001b[39min\u001b[39;00m dirs:\n\u001b[0;32m--> 451\u001b[0m     \u001b[39myield from\u001b[39;00m \u001b[39mself\u001b[39m\u001b[39m.\u001b[39mwalk(\n\u001b[1;32m    452\u001b[0m         full_dirs[d],\n\u001b[1;32m    453\u001b[0m         maxdepth\u001b[39m=\u001b[39mmaxdepth,\n\u001b[1;32m    454\u001b[0m         detail\u001b[39m=\u001b[39mdetail,\n\u001b[1;32m    455\u001b[0m         topdown\u001b[39m=\u001b[39mtopdown,\n\u001b[1;32m    456\u001b[0m         \u001b[39m*\u001b[39m\u001b[39m*\u001b[39mkwargs,\n\u001b[1;32m    457\u001b[0m     )\n\u001b[1;32m    459\u001b[0m \u001b[39mif\u001b[39;00m \u001b[39mnot\u001b[39;00m topdown:\n\u001b[1;32m    460\u001b[0m     \u001b[39m# Yield after recursion if walking bottom up\u001b[39;00m\n\u001b[1;32m    461\u001b[0m     \u001b[39myield\u001b[39;00m path, dirs, files\n",
      "File \u001b[0;32m~/hlt-project/.venv/lib/python3.11/site-packages/fsspec/spec.py:414\u001b[0m, in \u001b[0;36mAbstractFileSystem.walk\u001b[0;34m(self, path, maxdepth, topdown, **kwargs)\u001b[0m\n\u001b[1;32m    412\u001b[0m detail \u001b[39m=\u001b[39m kwargs\u001b[39m.\u001b[39mpop(\u001b[39m\"\u001b[39m\u001b[39mdetail\u001b[39m\u001b[39m\"\u001b[39m, \u001b[39mFalse\u001b[39;00m)\n\u001b[1;32m    413\u001b[0m \u001b[39mtry\u001b[39;00m:\n\u001b[0;32m--> 414\u001b[0m     listing \u001b[39m=\u001b[39m \u001b[39mself\u001b[39;49m\u001b[39m.\u001b[39;49mls(path, detail\u001b[39m=\u001b[39;49m\u001b[39mTrue\u001b[39;49;00m, \u001b[39m*\u001b[39;49m\u001b[39m*\u001b[39;49mkwargs)\n\u001b[1;32m    415\u001b[0m \u001b[39mexcept\u001b[39;00m (\u001b[39mFileNotFoundError\u001b[39;00m, \u001b[39mOSError\u001b[39;00m):\n\u001b[1;32m    416\u001b[0m     \u001b[39mif\u001b[39;00m detail:\n",
      "File \u001b[0;32m~/hlt-project/.venv/lib/python3.11/site-packages/huggingface_hub/hf_file_system.py:279\u001b[0m, in \u001b[0;36mHfFileSystem.ls\u001b[0;34m(self, path, detail, refresh, revision, **kwargs)\u001b[0m\n\u001b[1;32m    277\u001b[0m tree_iter \u001b[39m=\u001b[39m \u001b[39mself\u001b[39m\u001b[39m.\u001b[39m_iter_tree(tree_path, revision\u001b[39m=\u001b[39mresolved_path\u001b[39m.\u001b[39mrevision)\n\u001b[1;32m    278\u001b[0m \u001b[39mtry\u001b[39;00m:\n\u001b[0;32m--> 279\u001b[0m     tree_item \u001b[39m=\u001b[39m \u001b[39mnext\u001b[39m(tree_iter)\n\u001b[1;32m    280\u001b[0m \u001b[39mexcept\u001b[39;00m EntryNotFoundError:\n\u001b[1;32m    281\u001b[0m     \u001b[39mif\u001b[39;00m \u001b[39m\"\u001b[39m\u001b[39m/\u001b[39m\u001b[39m\"\u001b[39m \u001b[39min\u001b[39;00m resolved_path\u001b[39m.\u001b[39mpath_in_repo:\n",
      "File \u001b[0;32m~/hlt-project/.venv/lib/python3.11/site-packages/huggingface_hub/hf_file_system.py:318\u001b[0m, in \u001b[0;36mHfFileSystem._iter_tree\u001b[0;34m(self, path, revision)\u001b[0m\n\u001b[1;32m    314\u001b[0m path \u001b[39m=\u001b[39m \u001b[39mf\u001b[39m\u001b[39m\"\u001b[39m\u001b[39m{\u001b[39;00m\u001b[39mself\u001b[39m\u001b[39m.\u001b[39m_api\u001b[39m.\u001b[39mendpoint\u001b[39m}\u001b[39;00m\u001b[39m/api/\u001b[39m\u001b[39m{\u001b[39;00mresolved_path\u001b[39m.\u001b[39mrepo_type\u001b[39m}\u001b[39;00m\u001b[39ms/\u001b[39m\u001b[39m{\u001b[39;00mresolved_path\u001b[39m.\u001b[39mrepo_id\u001b[39m}\u001b[39;00m\u001b[39m/tree/\u001b[39m\u001b[39m{\u001b[39;00msafe_quote(resolved_path\u001b[39m.\u001b[39mrevision)\u001b[39m}\u001b[39;00m\u001b[39m/\u001b[39m\u001b[39m{\u001b[39;00mresolved_path\u001b[39m.\u001b[39mpath_in_repo\u001b[39m}\u001b[39;00m\u001b[39m\"\u001b[39m\u001b[39m.\u001b[39mrstrip(\n\u001b[1;32m    315\u001b[0m     \u001b[39m\"\u001b[39m\u001b[39m/\u001b[39m\u001b[39m\"\u001b[39m\n\u001b[1;32m    316\u001b[0m )\n\u001b[1;32m    317\u001b[0m headers \u001b[39m=\u001b[39m \u001b[39mself\u001b[39m\u001b[39m.\u001b[39m_api\u001b[39m.\u001b[39m_build_hf_headers()\n\u001b[0;32m--> 318\u001b[0m \u001b[39myield from\u001b[39;00m paginate(path, params\u001b[39m=\u001b[39m{\u001b[39m\"\u001b[39m\u001b[39mexpand\u001b[39m\u001b[39m\"\u001b[39m: \u001b[39mTrue\u001b[39;00m}, headers\u001b[39m=\u001b[39mheaders)\n",
      "File \u001b[0;32m~/hlt-project/.venv/lib/python3.11/site-packages/huggingface_hub/utils/_pagination.py:35\u001b[0m, in \u001b[0;36mpaginate\u001b[0;34m(path, params, headers)\u001b[0m\n\u001b[1;32m     27\u001b[0m \u001b[39m\u001b[39m\u001b[39m\"\"\"Fetch a list of models/datasets/spaces and paginate through results.\u001b[39;00m\n\u001b[1;32m     28\u001b[0m \n\u001b[1;32m     29\u001b[0m \u001b[39mThis is using the same \"Link\" header format as GitHub.\u001b[39;00m\n\u001b[0;32m   (...)\u001b[0m\n\u001b[1;32m     32\u001b[0m \u001b[39m- https://docs.github.com/en/rest/guides/traversing-with-pagination#link-header\u001b[39;00m\n\u001b[1;32m     33\u001b[0m \u001b[39m\"\"\"\u001b[39;00m\n\u001b[1;32m     34\u001b[0m session \u001b[39m=\u001b[39m get_session()\n\u001b[0;32m---> 35\u001b[0m r \u001b[39m=\u001b[39m session\u001b[39m.\u001b[39;49mget(path, params\u001b[39m=\u001b[39;49mparams, headers\u001b[39m=\u001b[39;49mheaders)\n\u001b[1;32m     36\u001b[0m hf_raise_for_status(r)\n\u001b[1;32m     37\u001b[0m \u001b[39myield from\u001b[39;00m r\u001b[39m.\u001b[39mjson()\n",
      "File \u001b[0;32m~/hlt-project/.venv/lib/python3.11/site-packages/requests/sessions.py:602\u001b[0m, in \u001b[0;36mSession.get\u001b[0;34m(self, url, **kwargs)\u001b[0m\n\u001b[1;32m    594\u001b[0m \u001b[39m\u001b[39m\u001b[39mr\u001b[39m\u001b[39m\"\"\"Sends a GET request. Returns :class:`Response` object.\u001b[39;00m\n\u001b[1;32m    595\u001b[0m \n\u001b[1;32m    596\u001b[0m \u001b[39m:param url: URL for the new :class:`Request` object.\u001b[39;00m\n\u001b[1;32m    597\u001b[0m \u001b[39m:param \\*\\*kwargs: Optional arguments that ``request`` takes.\u001b[39;00m\n\u001b[1;32m    598\u001b[0m \u001b[39m:rtype: requests.Response\u001b[39;00m\n\u001b[1;32m    599\u001b[0m \u001b[39m\"\"\"\u001b[39;00m\n\u001b[1;32m    601\u001b[0m kwargs\u001b[39m.\u001b[39msetdefault(\u001b[39m\"\u001b[39m\u001b[39mallow_redirects\u001b[39m\u001b[39m\"\u001b[39m, \u001b[39mTrue\u001b[39;00m)\n\u001b[0;32m--> 602\u001b[0m \u001b[39mreturn\u001b[39;00m \u001b[39mself\u001b[39;49m\u001b[39m.\u001b[39;49mrequest(\u001b[39m\"\u001b[39;49m\u001b[39mGET\u001b[39;49m\u001b[39m\"\u001b[39;49m, url, \u001b[39m*\u001b[39;49m\u001b[39m*\u001b[39;49mkwargs)\n",
      "File \u001b[0;32m~/hlt-project/.venv/lib/python3.11/site-packages/requests/sessions.py:589\u001b[0m, in \u001b[0;36mSession.request\u001b[0;34m(self, method, url, params, data, headers, cookies, files, auth, timeout, allow_redirects, proxies, hooks, stream, verify, cert, json)\u001b[0m\n\u001b[1;32m    584\u001b[0m send_kwargs \u001b[39m=\u001b[39m {\n\u001b[1;32m    585\u001b[0m     \u001b[39m\"\u001b[39m\u001b[39mtimeout\u001b[39m\u001b[39m\"\u001b[39m: timeout,\n\u001b[1;32m    586\u001b[0m     \u001b[39m\"\u001b[39m\u001b[39mallow_redirects\u001b[39m\u001b[39m\"\u001b[39m: allow_redirects,\n\u001b[1;32m    587\u001b[0m }\n\u001b[1;32m    588\u001b[0m send_kwargs\u001b[39m.\u001b[39mupdate(settings)\n\u001b[0;32m--> 589\u001b[0m resp \u001b[39m=\u001b[39m \u001b[39mself\u001b[39;49m\u001b[39m.\u001b[39;49msend(prep, \u001b[39m*\u001b[39;49m\u001b[39m*\u001b[39;49msend_kwargs)\n\u001b[1;32m    591\u001b[0m \u001b[39mreturn\u001b[39;00m resp\n",
      "File \u001b[0;32m~/hlt-project/.venv/lib/python3.11/site-packages/requests/sessions.py:703\u001b[0m, in \u001b[0;36mSession.send\u001b[0;34m(self, request, **kwargs)\u001b[0m\n\u001b[1;32m    700\u001b[0m start \u001b[39m=\u001b[39m preferred_clock()\n\u001b[1;32m    702\u001b[0m \u001b[39m# Send the request\u001b[39;00m\n\u001b[0;32m--> 703\u001b[0m r \u001b[39m=\u001b[39m adapter\u001b[39m.\u001b[39;49msend(request, \u001b[39m*\u001b[39;49m\u001b[39m*\u001b[39;49mkwargs)\n\u001b[1;32m    705\u001b[0m \u001b[39m# Total elapsed time of the request (approximately)\u001b[39;00m\n\u001b[1;32m    706\u001b[0m elapsed \u001b[39m=\u001b[39m preferred_clock() \u001b[39m-\u001b[39m start\n",
      "File \u001b[0;32m~/hlt-project/.venv/lib/python3.11/site-packages/huggingface_hub/utils/_http.py:63\u001b[0m, in \u001b[0;36mUniqueRequestIdAdapter.send\u001b[0;34m(self, request, *args, **kwargs)\u001b[0m\n\u001b[1;32m     61\u001b[0m \u001b[39m\u001b[39m\u001b[39m\"\"\"Catch any RequestException to append request id to the error message for debugging.\"\"\"\u001b[39;00m\n\u001b[1;32m     62\u001b[0m \u001b[39mtry\u001b[39;00m:\n\u001b[0;32m---> 63\u001b[0m     \u001b[39mreturn\u001b[39;00m \u001b[39msuper\u001b[39;49m()\u001b[39m.\u001b[39;49msend(request, \u001b[39m*\u001b[39;49margs, \u001b[39m*\u001b[39;49m\u001b[39m*\u001b[39;49mkwargs)\n\u001b[1;32m     64\u001b[0m \u001b[39mexcept\u001b[39;00m requests\u001b[39m.\u001b[39mRequestException \u001b[39mas\u001b[39;00m e:\n\u001b[1;32m     65\u001b[0m     request_id \u001b[39m=\u001b[39m request\u001b[39m.\u001b[39mheaders\u001b[39m.\u001b[39mget(X_AMZN_TRACE_ID)\n",
      "File \u001b[0;32m~/hlt-project/.venv/lib/python3.11/site-packages/requests/adapters.py:486\u001b[0m, in \u001b[0;36mHTTPAdapter.send\u001b[0;34m(self, request, stream, timeout, verify, cert, proxies)\u001b[0m\n\u001b[1;32m    483\u001b[0m     timeout \u001b[39m=\u001b[39m TimeoutSauce(connect\u001b[39m=\u001b[39mtimeout, read\u001b[39m=\u001b[39mtimeout)\n\u001b[1;32m    485\u001b[0m \u001b[39mtry\u001b[39;00m:\n\u001b[0;32m--> 486\u001b[0m     resp \u001b[39m=\u001b[39m conn\u001b[39m.\u001b[39;49murlopen(\n\u001b[1;32m    487\u001b[0m         method\u001b[39m=\u001b[39;49mrequest\u001b[39m.\u001b[39;49mmethod,\n\u001b[1;32m    488\u001b[0m         url\u001b[39m=\u001b[39;49murl,\n\u001b[1;32m    489\u001b[0m         body\u001b[39m=\u001b[39;49mrequest\u001b[39m.\u001b[39;49mbody,\n\u001b[1;32m    490\u001b[0m         headers\u001b[39m=\u001b[39;49mrequest\u001b[39m.\u001b[39;49mheaders,\n\u001b[1;32m    491\u001b[0m         redirect\u001b[39m=\u001b[39;49m\u001b[39mFalse\u001b[39;49;00m,\n\u001b[1;32m    492\u001b[0m         assert_same_host\u001b[39m=\u001b[39;49m\u001b[39mFalse\u001b[39;49;00m,\n\u001b[1;32m    493\u001b[0m         preload_content\u001b[39m=\u001b[39;49m\u001b[39mFalse\u001b[39;49;00m,\n\u001b[1;32m    494\u001b[0m         decode_content\u001b[39m=\u001b[39;49m\u001b[39mFalse\u001b[39;49;00m,\n\u001b[1;32m    495\u001b[0m         retries\u001b[39m=\u001b[39;49m\u001b[39mself\u001b[39;49m\u001b[39m.\u001b[39;49mmax_retries,\n\u001b[1;32m    496\u001b[0m         timeout\u001b[39m=\u001b[39;49mtimeout,\n\u001b[1;32m    497\u001b[0m         chunked\u001b[39m=\u001b[39;49mchunked,\n\u001b[1;32m    498\u001b[0m     )\n\u001b[1;32m    500\u001b[0m \u001b[39mexcept\u001b[39;00m (ProtocolError, \u001b[39mOSError\u001b[39;00m) \u001b[39mas\u001b[39;00m err:\n\u001b[1;32m    501\u001b[0m     \u001b[39mraise\u001b[39;00m \u001b[39mConnectionError\u001b[39;00m(err, request\u001b[39m=\u001b[39mrequest)\n",
      "File \u001b[0;32m~/hlt-project/.venv/lib/python3.11/site-packages/urllib3/connectionpool.py:790\u001b[0m, in \u001b[0;36mHTTPConnectionPool.urlopen\u001b[0;34m(self, method, url, body, headers, retries, redirect, assert_same_host, timeout, pool_timeout, release_conn, chunked, body_pos, preload_content, decode_content, **response_kw)\u001b[0m\n\u001b[1;32m    787\u001b[0m response_conn \u001b[39m=\u001b[39m conn \u001b[39mif\u001b[39;00m \u001b[39mnot\u001b[39;00m release_conn \u001b[39melse\u001b[39;00m \u001b[39mNone\u001b[39;00m\n\u001b[1;32m    789\u001b[0m \u001b[39m# Make the request on the HTTPConnection object\u001b[39;00m\n\u001b[0;32m--> 790\u001b[0m response \u001b[39m=\u001b[39m \u001b[39mself\u001b[39;49m\u001b[39m.\u001b[39;49m_make_request(\n\u001b[1;32m    791\u001b[0m     conn,\n\u001b[1;32m    792\u001b[0m     method,\n\u001b[1;32m    793\u001b[0m     url,\n\u001b[1;32m    794\u001b[0m     timeout\u001b[39m=\u001b[39;49mtimeout_obj,\n\u001b[1;32m    795\u001b[0m     body\u001b[39m=\u001b[39;49mbody,\n\u001b[1;32m    796\u001b[0m     headers\u001b[39m=\u001b[39;49mheaders,\n\u001b[1;32m    797\u001b[0m     chunked\u001b[39m=\u001b[39;49mchunked,\n\u001b[1;32m    798\u001b[0m     retries\u001b[39m=\u001b[39;49mretries,\n\u001b[1;32m    799\u001b[0m     response_conn\u001b[39m=\u001b[39;49mresponse_conn,\n\u001b[1;32m    800\u001b[0m     preload_content\u001b[39m=\u001b[39;49mpreload_content,\n\u001b[1;32m    801\u001b[0m     decode_content\u001b[39m=\u001b[39;49mdecode_content,\n\u001b[1;32m    802\u001b[0m     \u001b[39m*\u001b[39;49m\u001b[39m*\u001b[39;49mresponse_kw,\n\u001b[1;32m    803\u001b[0m )\n\u001b[1;32m    805\u001b[0m \u001b[39m# Everything went great!\u001b[39;00m\n\u001b[1;32m    806\u001b[0m clean_exit \u001b[39m=\u001b[39m \u001b[39mTrue\u001b[39;00m\n",
      "File \u001b[0;32m~/hlt-project/.venv/lib/python3.11/site-packages/urllib3/connectionpool.py:536\u001b[0m, in \u001b[0;36mHTTPConnectionPool._make_request\u001b[0;34m(self, conn, method, url, body, headers, retries, timeout, chunked, response_conn, preload_content, decode_content, enforce_content_length)\u001b[0m\n\u001b[1;32m    534\u001b[0m \u001b[39m# Receive the response from the server\u001b[39;00m\n\u001b[1;32m    535\u001b[0m \u001b[39mtry\u001b[39;00m:\n\u001b[0;32m--> 536\u001b[0m     response \u001b[39m=\u001b[39m conn\u001b[39m.\u001b[39;49mgetresponse()\n\u001b[1;32m    537\u001b[0m \u001b[39mexcept\u001b[39;00m (BaseSSLError, \u001b[39mOSError\u001b[39;00m) \u001b[39mas\u001b[39;00m e:\n\u001b[1;32m    538\u001b[0m     \u001b[39mself\u001b[39m\u001b[39m.\u001b[39m_raise_timeout(err\u001b[39m=\u001b[39me, url\u001b[39m=\u001b[39murl, timeout_value\u001b[39m=\u001b[39mread_timeout)\n",
      "File \u001b[0;32m~/hlt-project/.venv/lib/python3.11/site-packages/urllib3/connection.py:461\u001b[0m, in \u001b[0;36mHTTPConnection.getresponse\u001b[0;34m(self)\u001b[0m\n\u001b[1;32m    458\u001b[0m \u001b[39mfrom\u001b[39;00m \u001b[39m.\u001b[39;00m\u001b[39mresponse\u001b[39;00m \u001b[39mimport\u001b[39;00m HTTPResponse\n\u001b[1;32m    460\u001b[0m \u001b[39m# Get the response from http.client.HTTPConnection\u001b[39;00m\n\u001b[0;32m--> 461\u001b[0m httplib_response \u001b[39m=\u001b[39m \u001b[39msuper\u001b[39;49m()\u001b[39m.\u001b[39;49mgetresponse()\n\u001b[1;32m    463\u001b[0m \u001b[39mtry\u001b[39;00m:\n\u001b[1;32m    464\u001b[0m     assert_header_parsing(httplib_response\u001b[39m.\u001b[39mmsg)\n",
      "File \u001b[0;32m~/.pyenv/versions/3.11.6/lib/python3.11/http/client.py:1378\u001b[0m, in \u001b[0;36mHTTPConnection.getresponse\u001b[0;34m(self)\u001b[0m\n\u001b[1;32m   1376\u001b[0m \u001b[39mtry\u001b[39;00m:\n\u001b[1;32m   1377\u001b[0m     \u001b[39mtry\u001b[39;00m:\n\u001b[0;32m-> 1378\u001b[0m         response\u001b[39m.\u001b[39;49mbegin()\n\u001b[1;32m   1379\u001b[0m     \u001b[39mexcept\u001b[39;00m \u001b[39mConnectionError\u001b[39;00m:\n\u001b[1;32m   1380\u001b[0m         \u001b[39mself\u001b[39m\u001b[39m.\u001b[39mclose()\n",
      "File \u001b[0;32m~/.pyenv/versions/3.11.6/lib/python3.11/http/client.py:318\u001b[0m, in \u001b[0;36mHTTPResponse.begin\u001b[0;34m(self)\u001b[0m\n\u001b[1;32m    316\u001b[0m \u001b[39m# read until we get a non-100 response\u001b[39;00m\n\u001b[1;32m    317\u001b[0m \u001b[39mwhile\u001b[39;00m \u001b[39mTrue\u001b[39;00m:\n\u001b[0;32m--> 318\u001b[0m     version, status, reason \u001b[39m=\u001b[39m \u001b[39mself\u001b[39;49m\u001b[39m.\u001b[39;49m_read_status()\n\u001b[1;32m    319\u001b[0m     \u001b[39mif\u001b[39;00m status \u001b[39m!=\u001b[39m CONTINUE:\n\u001b[1;32m    320\u001b[0m         \u001b[39mbreak\u001b[39;00m\n",
      "File \u001b[0;32m~/.pyenv/versions/3.11.6/lib/python3.11/http/client.py:279\u001b[0m, in \u001b[0;36mHTTPResponse._read_status\u001b[0;34m(self)\u001b[0m\n\u001b[1;32m    278\u001b[0m \u001b[39mdef\u001b[39;00m \u001b[39m_read_status\u001b[39m(\u001b[39mself\u001b[39m):\n\u001b[0;32m--> 279\u001b[0m     line \u001b[39m=\u001b[39m \u001b[39mstr\u001b[39m(\u001b[39mself\u001b[39m\u001b[39m.\u001b[39mfp\u001b[39m.\u001b[39mreadline(_MAXLINE \u001b[39m+\u001b[39m \u001b[39m1\u001b[39m), \u001b[39m\"\u001b[39m\u001b[39miso-8859-1\u001b[39m\u001b[39m\"\u001b[39m)\n\u001b[1;32m    280\u001b[0m     \u001b[39mif\u001b[39;00m \u001b[39mlen\u001b[39m(line) \u001b[39m>\u001b[39m _MAXLINE:\n\u001b[1;32m    281\u001b[0m         \u001b[39mraise\u001b[39;00m LineTooLong(\u001b[39m\"\u001b[39m\u001b[39mstatus line\u001b[39m\u001b[39m\"\u001b[39m)\n",
      "File \u001b[0;32m~/.pyenv/versions/3.11.6/lib/python3.11/socket.py:706\u001b[0m, in \u001b[0;36mSocketIO.readinto\u001b[0;34m(self, b)\u001b[0m\n\u001b[1;32m    704\u001b[0m \u001b[39mwhile\u001b[39;00m \u001b[39mTrue\u001b[39;00m:\n\u001b[1;32m    705\u001b[0m     \u001b[39mtry\u001b[39;00m:\n\u001b[0;32m--> 706\u001b[0m         \u001b[39mreturn\u001b[39;00m \u001b[39mself\u001b[39;49m\u001b[39m.\u001b[39;49m_sock\u001b[39m.\u001b[39;49mrecv_into(b)\n\u001b[1;32m    707\u001b[0m     \u001b[39mexcept\u001b[39;00m timeout:\n\u001b[1;32m    708\u001b[0m         \u001b[39mself\u001b[39m\u001b[39m.\u001b[39m_timeout_occurred \u001b[39m=\u001b[39m \u001b[39mTrue\u001b[39;00m\n",
      "File \u001b[0;32m~/.pyenv/versions/3.11.6/lib/python3.11/ssl.py:1311\u001b[0m, in \u001b[0;36mSSLSocket.recv_into\u001b[0;34m(self, buffer, nbytes, flags)\u001b[0m\n\u001b[1;32m   1307\u001b[0m     \u001b[39mif\u001b[39;00m flags \u001b[39m!=\u001b[39m \u001b[39m0\u001b[39m:\n\u001b[1;32m   1308\u001b[0m         \u001b[39mraise\u001b[39;00m \u001b[39mValueError\u001b[39;00m(\n\u001b[1;32m   1309\u001b[0m           \u001b[39m\"\u001b[39m\u001b[39mnon-zero flags not allowed in calls to recv_into() on \u001b[39m\u001b[39m%s\u001b[39;00m\u001b[39m\"\u001b[39m \u001b[39m%\u001b[39m\n\u001b[1;32m   1310\u001b[0m           \u001b[39mself\u001b[39m\u001b[39m.\u001b[39m\u001b[39m__class__\u001b[39m)\n\u001b[0;32m-> 1311\u001b[0m     \u001b[39mreturn\u001b[39;00m \u001b[39mself\u001b[39;49m\u001b[39m.\u001b[39;49mread(nbytes, buffer)\n\u001b[1;32m   1312\u001b[0m \u001b[39melse\u001b[39;00m:\n\u001b[1;32m   1313\u001b[0m     \u001b[39mreturn\u001b[39;00m \u001b[39msuper\u001b[39m()\u001b[39m.\u001b[39mrecv_into(buffer, nbytes, flags)\n",
      "File \u001b[0;32m~/.pyenv/versions/3.11.6/lib/python3.11/ssl.py:1167\u001b[0m, in \u001b[0;36mSSLSocket.read\u001b[0;34m(self, len, buffer)\u001b[0m\n\u001b[1;32m   1165\u001b[0m \u001b[39mtry\u001b[39;00m:\n\u001b[1;32m   1166\u001b[0m     \u001b[39mif\u001b[39;00m buffer \u001b[39mis\u001b[39;00m \u001b[39mnot\u001b[39;00m \u001b[39mNone\u001b[39;00m:\n\u001b[0;32m-> 1167\u001b[0m         \u001b[39mreturn\u001b[39;00m \u001b[39mself\u001b[39;49m\u001b[39m.\u001b[39;49m_sslobj\u001b[39m.\u001b[39;49mread(\u001b[39mlen\u001b[39;49m, buffer)\n\u001b[1;32m   1168\u001b[0m     \u001b[39melse\u001b[39;00m:\n\u001b[1;32m   1169\u001b[0m         \u001b[39mreturn\u001b[39;00m \u001b[39mself\u001b[39m\u001b[39m.\u001b[39m_sslobj\u001b[39m.\u001b[39mread(\u001b[39mlen\u001b[39m)\n",
      "\u001b[0;31mKeyboardInterrupt\u001b[0m: "
     ]
    }
   ],
   "source": [
    "dataset = load_dataset(\"HuggingFaceH4/stack-exchange-preferences\", num_proc=32)"
   ]
  },
  {
   "cell_type": "code",
   "execution_count": null,
   "id": "0d8d8729-6d6b-4791-a24a-cb112c399bd0",
   "metadata": {},
   "outputs": [],
   "source": [
    "HTML(ds[0][\"question\"])"
   ]
  },
  {
   "cell_type": "code",
   "execution_count": null,
   "id": "b3b60caa-3bd9-4033-ab1c-90c5b08ef3ec",
   "metadata": {},
   "outputs": [],
   "source": [
    "def lang_callback(el):\n",
    "    lang = el['class'][0] if el.has_attr('class') else None\n",
    "    \n",
    "    if not lang is None:\n",
    "        lang = lang.split(\"-\")[-1]\n",
    "    return lang"
   ]
  },
  {
   "cell_type": "code",
   "execution_count": null,
   "id": "de1123a0-7468-4d13-a8d3-4011ace36c3c",
   "metadata": {},
   "outputs": [],
   "source": [
    "def html2md(text):\n",
    "    text = md(text, code_language_callback=lang_callback)\n",
    "    text = re.sub(r\"\\n\\s*\\n\", \"\\n\\n\", text).strip()\n",
    "    return text.encode('utf-8', 'replace').decode()"
   ]
  },
  {
   "cell_type": "code",
   "execution_count": null,
   "id": "c9da64a0-c753-4d35-9369-b70a7a9fa2f9",
   "metadata": {},
   "outputs": [],
   "source": [
    "for i in range(10):\n",
    "    text = html2md(ds[i][\"question\"])\n",
    "    print(text)\n",
    "    print(\"==\"*10)"
   ]
  },
  {
   "cell_type": "code",
   "execution_count": null,
   "id": "3bf33a2f-fed5-49e7-8046-e813ad172b17",
   "metadata": {},
   "outputs": [],
   "source": [
    "np.mean([len(ds[i][\"answers\"])*(len(ds[i][\"answers\"]))/2 for i in range(2204)])"
   ]
  },
  {
   "cell_type": "code",
   "execution_count": null,
   "id": "4977dd49",
   "metadata": {},
   "outputs": [],
   "source": [
    "ds[0]"
   ]
  },
  {
   "cell_type": "code",
   "execution_count": null,
   "id": "88ea2dd5-b885-4f65-bae3-1319c7816044",
   "metadata": {},
   "outputs": [],
   "source": [
    "ds = ds.shuffle(seed=42)\n",
    "index = list(range(len(ds)))\n",
    "\n",
    "ds_splits = DatasetDict({\n",
    "    \"finetune\": ds.select(index[:3_000_000]),\n",
    "    \"reward\": ds.select(index[3_000_000:6_000_000]),\n",
    "    \"rl\": ds.select(index[6_000_000:9_000_000]),\n",
    "    \"evaluation\": ds.select(index[9_000_000:]),\n",
    "})"
   ]
  },
  {
   "cell_type": "code",
   "execution_count": null,
   "id": "1607922d-f585-4de7-be70-2205b5170102",
   "metadata": {},
   "outputs": [],
   "source": [
    "ds_splits"
   ]
  },
  {
   "cell_type": "code",
   "execution_count": null,
   "id": "edc8af18-94a5-49e9-ae73-ce4ba81d9739",
   "metadata": {},
   "outputs": [],
   "source": [
    "def binary_comparison(answers):\n",
    "    \"\"\"Returns tuples of answers, first always best\"\"\"\n",
    "    pairs = []\n",
    "    \n",
    "    for i in range(len(answers)-1):\n",
    "        for j in range(i+1, len(answers)):\n",
    "            if answers[i][\"pm_score\"]>answers[j][\"pm_score\"]:\n",
    "                pairs.append((answers[i][\"text\"], answers[j][\"text\"]))\n",
    "            elif answers[i][\"pm_score\"]<answers[j][\"pm_score\"]:\n",
    "                pairs.append((answers[j][\"text\"], answers[i][\"text\"]))\n",
    "    return pairs"
   ]
  },
  {
   "cell_type": "code",
   "execution_count": null,
   "id": "88afe90e-364e-4b21-898b-1c6ceb9cfd32",
   "metadata": {},
   "outputs": [],
   "source": [
    "def preprocess(examples):\n",
    "    \"\"\"Cleans HTML and returns paired answers (j is better than k). Note that this returns more examples (one for each pair per question).\"\"\"\n",
    "    \n",
    "    MAX_PAIRS_PER_QUESTION = 10\n",
    "    n_samples = len(examples[\"qid\"])\n",
    "    \n",
    "    # initialize empty lists for new samples\n",
    "    new_examples = {\"question\": [], \"response_j\": [], \"response_k\": []}\n",
    "    for key in examples:\n",
    "        new_examples[key] = []\n",
    "    \n",
    "    for sample_id in range(n_samples):\n",
    "        # get pairs where first is always the better one\n",
    "        pairs = binary_comparison(examples[\"answers\"][sample_id])\n",
    "        n_answers = len(examples[\"answers\"][sample_id])\n",
    "        \n",
    "        # sample if we get more pairs than maximum\n",
    "        if len(pairs) > MAX_PAIRS_PER_QUESTION:\n",
    "            indices = np.random.choice(list(range(len(pairs))), MAX_PAIRS_PER_QUESTION, replace=False)\n",
    "            pairs = [pairs[i] for i in indices]\n",
    "        \n",
    "        # construct the samples\n",
    "        for pair in pairs:\n",
    "            for key in examples:\n",
    "                if key==\"question\":\n",
    "                    new_examples[key].append(html2md(examples[key][sample_id]))\n",
    "                else:\n",
    "                    new_examples[key].append(examples[key][sample_id])\n",
    "            new_examples[\"response_j\"].append(html2md(pair[0]))\n",
    "            new_examples[\"response_k\"].append(html2md(pair[1]))\n",
    "    return new_examples"
   ]
  },
  {
   "cell_type": "code",
   "execution_count": null,
   "id": "ac06aac5-3953-4321-9f1e-6ff210bee82d",
   "metadata": {},
   "outputs": [],
   "source": [
    "ds_result = ds_splits.map(preprocess, batch_size=1000, batched=True, num_proc=4)"
   ]
  },
  {
   "cell_type": "code",
   "execution_count": null,
   "id": "06e3d891-ffde-4762-95d5-39658a1127ef",
   "metadata": {},
   "outputs": [],
   "source": [
    "ds_result"
   ]
  },
  {
   "cell_type": "code",
   "execution_count": null,
   "id": "631416dc-cf19-485d-a2f3-94c9b2cb2bfc",
   "metadata": {},
   "outputs": [],
   "source": [
    "ds_result[\"finetune\"][0]"
   ]
  },
  {
   "cell_type": "code",
   "execution_count": null,
   "id": "2c96653b-7a5a-4cae-a327-b6aa77aa5850",
   "metadata": {},
   "outputs": [],
   "source": [
    "ds_result = ds_result.remove_columns([\"answers\"])"
   ]
  },
  {
   "cell_type": "code",
   "execution_count": null,
   "id": "15c2e5ee-7c7d-4e98-9e63-e5d37a9354aa",
   "metadata": {},
   "outputs": [],
   "source": [
    "ds_result['finetune'][0]"
   ]
  },
  {
   "cell_type": "code",
   "execution_count": null,
   "id": "4d42b35c-5252-4b49-ba4b-20818bc9e086",
   "metadata": {},
   "outputs": [],
   "source": [
    "for key in ds_result:\n",
    "    print(key)"
   ]
  },
  {
   "cell_type": "code",
   "execution_count": null,
   "id": "e32c11d7-a88e-4d92-9dfc-92b2a67c5455",
   "metadata": {},
   "outputs": [],
   "source": [
    "import os\n",
    "import time\n",
    "from multiprocessing import Pool\n",
    "from tqdm import tqdm\n",
    "\n",
    "from huggingface_hub import Repository\n",
    "\n",
    "\n",
    "def save_shard(shard_tuple):\n",
    "    \"\"\"Save shard\"\"\"\n",
    "    filename, shard = shard_tuple\n",
    "    # use to_json instead to save as json file\n",
    "    shard.to_parquet(filename)\n",
    "\n",
    "\n",
    "def save_manual_shards(ds, user=\"lvwerra\", remote_dataset_repo=\"stack-exchange-paired\", subfolder=\"train\"):\n",
    "    \"\"\"Save sharded data\n",
    "    Args:\n",
    "        ds (Dataset): dataset to be saved\n",
    "        user (str): user name\n",
    "        remote_dataset_repo (str): remote dataset repository\n",
    "        out_path (str): path to save the shards\"\"\"\n",
    "    # this will create a folder OUT_PATH that is a clone of REMOTE_DATASET_REPO\n",
    "    # you can save the shards inside it and do git add/commit/push to push data to the hub\n",
    "    out_path = remote_dataset_repo\n",
    "    # if out path doesnt already exist\n",
    "    if not os.path.exists(out_path):\n",
    "        repo = Repository(\n",
    "            local_dir=out_path,\n",
    "            clone_from=user + \"/\" + remote_dataset_repo,\n",
    "            repo_type=\"dataset\",\n",
    "            private=False,\n",
    "            use_auth_token=True,\n",
    "            git_user=user,\n",
    "        )\n",
    "\n",
    "    # files will be numerous we save them in a folder called data inside out_path\n",
    "    if not os.path.exists(out_path):\n",
    "        os.mkdir(out_path + \"/data\")\n",
    "    os.mkdir(out_path + f\"/data/{subfolder}\")\n",
    "    \n",
    "    SHARD_SIZE = 1000 << 20\n",
    "    if ds._indices is not None:\n",
    "        dataset_nbytes = ds.data.nbytes * len(ds._indices) / len(ds.data)\n",
    "    else:\n",
    "        dataset_nbytes = ds.data.nbytes\n",
    "    num_shards = int(dataset_nbytes / SHARD_SIZE) + 1\n",
    "    print(f\"Number of shards: {num_shards}\")\n",
    "\n",
    "    print(\"sharding the dataset\")\n",
    "    t_start = time.time()\n",
    "    shards = (\n",
    "        ds.shard(num_shards=num_shards, index=i, contiguous=True)\n",
    "        for i in range(num_shards)\n",
    "    )\n",
    "    # use f\"{OUT_PATH}/data/train-{index:05d}-of-{num_shards:05d}.json\" instead for json files\n",
    "    filenames = (\n",
    "        f\"{out_path}/data/{subfolder}/train-{index:05d}-of-{num_shards:05d}.parquet\"\n",
    "        for index in range(num_shards)\n",
    "    )\n",
    "\n",
    "    with Pool(16) as p:\n",
    "        list(\n",
    "            tqdm(\n",
    "                p.imap_unordered(save_shard, zip(filenames, shards), chunksize=4),\n",
    "                total=num_shards,\n",
    "            )\n",
    "        )\n",
    "    print(f\"Time to save dataset: {time.time()-t_start:.2f}\")\n",
    "    # to push dataset to hub do: git add/commit/push inside OUT_PATH"
   ]
  },
  {
   "cell_type": "code",
   "execution_count": null,
   "id": "a90664eb-5c54-4fae-9a8a-d509bb2abdfe",
   "metadata": {},
   "outputs": [],
   "source": [
    "for key in ds_result:\n",
    "    save_manual_shards(ds_result[key], subfolder=key)"
   ]
  }
 ],
 "metadata": {
  "kernelspec": {
   "display_name": "Python 3 (ipykernel)",
   "language": "python",
   "name": "python3"
  },
  "language_info": {
   "codemirror_mode": {
    "name": "ipython",
    "version": 3
   },
   "file_extension": ".py",
   "mimetype": "text/x-python",
   "name": "python",
   "nbconvert_exporter": "python",
   "pygments_lexer": "ipython3",
   "version": "3.11.6"
  }
 },
 "nbformat": 4,
 "nbformat_minor": 5
}
